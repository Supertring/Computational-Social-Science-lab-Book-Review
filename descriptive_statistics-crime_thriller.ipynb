{
 "cells": [
  {
   "cell_type": "markdown",
   "metadata": {},
   "source": [
    "# Data statistics : Done by : Abhishek Subedi & Anusha Bora"
   ]
  },
  {
   "cell_type": "code",
   "execution_count": 4,
   "metadata": {},
   "outputs": [],
   "source": [
    "import pandas as pd\n",
    "import matplotlib.pyplot as plt\n",
    "import seaborn as sn\n",
    "import re\n",
    "import numpy as np"
   ]
  },
  {
   "cell_type": "code",
   "execution_count": 5,
   "metadata": {},
   "outputs": [
    {
     "data": {
      "text/html": [
       "<style>.output {flex-direction: row;}</style>"
      ],
      "text/plain": [
       "<IPython.core.display.HTML object>"
      ]
     },
     "execution_count": 5,
     "metadata": {},
     "output_type": "execute_result"
    }
   ],
   "source": [
    "from IPython.display import display, HTML\n",
    "css = \"\"\".output {flex-direction: row;}\"\"\"\n",
    "HTML('<style>{}</style>'.format(css))"
   ]
  },
  {
   "cell_type": "code",
   "execution_count": 6,
   "metadata": {
    "scrolled": true
   },
   "outputs": [
    {
     "name": "stdout",
     "output_type": "stream",
     "text": [
      "1.data_information_graphics_&_comics.ipynb\r\n",
      "1.data_information_mystery_thriller_crime.ipynb\r\n",
      "3D_visualization_both_genre.ipynb\r\n",
      "RQ1.ipynb\r\n",
      "RQ2.ipynb\r\n",
      "RQ3_both_genre.ipynb\r\n",
      "RQ4_Comics_Graphics.ipynb\r\n",
      "RQ4_Mystery_Thriller_Crime.ipynb\r\n",
      "Word clouds.ipynb\r\n",
      "books_interactions_final.json\r\n",
      "books_interactions_thriller.json\r\n",
      "books_metadata_comics.json\r\n",
      "books_metadata_thriller.json\r\n",
      "books_review_comics_final.json\r\n",
      "books_review_thriller.json\r\n",
      "\u001b[34mfinal_dataset\u001b[m\u001b[m\r\n",
      "readme.rtf\r\n",
      "statistics-crime_thriller.ipynb\r\n",
      "statistics_comics_graphics.ipynb\r\n"
     ]
    }
   ],
   "source": [
    "!ls"
   ]
  },
  {
   "cell_type": "markdown",
   "metadata": {},
   "source": [
    "__Read all the files__"
   ]
  },
  {
   "cell_type": "code",
   "execution_count": null,
   "metadata": {},
   "outputs": [],
   "source": [
    "books_metadata = pd.read_json('books_metadata_thriller.json')\n",
    "books_interactions = pd.read_json('books_interactions_thriller.json')\n",
    "books_reviews = pd.read_json('books_review_thriller.json')"
   ]
  },
  {
   "cell_type": "code",
   "execution_count": 3,
   "metadata": {},
   "outputs": [
    {
     "name": "stdout",
     "output_type": "stream",
     "text": [
      "<class 'pandas.core.frame.DataFrame'>\n",
      "Int64Index: 66315 entries, 1 to 103407\n",
      "Data columns (total 12 columns):\n",
      " #   Column              Non-Null Count  Dtype  \n",
      "---  ------              --------------  -----  \n",
      " 0   text_reviews_count  66315 non-null  int64  \n",
      " 1   language_code       66315 non-null  object \n",
      " 2   popular_shelves     66315 non-null  object \n",
      " 3   is_ebook            66315 non-null  object \n",
      " 4   average_rating      66315 non-null  float64\n",
      " 5   description         66315 non-null  object \n",
      " 6   authors             66315 non-null  object \n",
      " 7   publication_year    66315 non-null  int64  \n",
      " 8   book_id             66315 non-null  int64  \n",
      " 9   ratings_count       66315 non-null  int64  \n",
      " 10  work_id             66315 non-null  int64  \n",
      " 11  title               66315 non-null  object \n",
      "dtypes: float64(1), int64(5), object(6)\n",
      "memory usage: 6.6+ MB\n"
     ]
    }
   ],
   "source": [
    "books_metadata.info()"
   ]
  },
  {
   "cell_type": "code",
   "execution_count": 4,
   "metadata": {},
   "outputs": [
    {
     "data": {
      "text/html": [
       "<div>\n",
       "<style scoped>\n",
       "    .dataframe tbody tr th:only-of-type {\n",
       "        vertical-align: middle;\n",
       "    }\n",
       "\n",
       "    .dataframe tbody tr th {\n",
       "        vertical-align: top;\n",
       "    }\n",
       "\n",
       "    .dataframe thead th {\n",
       "        text-align: right;\n",
       "    }\n",
       "</style>\n",
       "<table border=\"1\" class=\"dataframe\">\n",
       "  <thead>\n",
       "    <tr style=\"text-align: right;\">\n",
       "      <th></th>\n",
       "      <th>text_reviews_count</th>\n",
       "      <th>language_code</th>\n",
       "      <th>popular_shelves</th>\n",
       "      <th>is_ebook</th>\n",
       "      <th>average_rating</th>\n",
       "      <th>description</th>\n",
       "      <th>authors</th>\n",
       "      <th>publication_year</th>\n",
       "      <th>book_id</th>\n",
       "      <th>ratings_count</th>\n",
       "      <th>work_id</th>\n",
       "      <th>title</th>\n",
       "    </tr>\n",
       "  </thead>\n",
       "  <tbody>\n",
       "    <tr>\n",
       "      <th>1</th>\n",
       "      <td>3</td>\n",
       "      <td>eng</td>\n",
       "      <td>[{'count': '1694', 'name': 'mystery'}, {'count...</td>\n",
       "      <td>false</td>\n",
       "      <td>3.96</td>\n",
       "      <td>Agatha Christie's most ingenious murder myster...</td>\n",
       "      <td>[{'author_id': '123715', 'role': ''}, {'author...</td>\n",
       "      <td>2013</td>\n",
       "      <td>16158998</td>\n",
       "      <td>5</td>\n",
       "      <td>2288775</td>\n",
       "      <td>A Murder is Announced</td>\n",
       "    </tr>\n",
       "    <tr>\n",
       "      <th>2</th>\n",
       "      <td>6</td>\n",
       "      <td>eng</td>\n",
       "      <td>[{'count': '171', 'name': 'to-read'}, {'count'...</td>\n",
       "      <td>false</td>\n",
       "      <td>4.14</td>\n",
       "      <td>\"Poetic, down trodden and nihilistic, Jonathan...</td>\n",
       "      <td>[{'author_id': '4577517', 'role': ''}]</td>\n",
       "      <td>2014</td>\n",
       "      <td>22722787</td>\n",
       "      <td>18</td>\n",
       "      <td>42251489</td>\n",
       "      <td>The Cost of Doing Business</td>\n",
       "    </tr>\n",
       "    <tr>\n",
       "      <th>3</th>\n",
       "      <td>2</td>\n",
       "      <td>eng</td>\n",
       "      <td>[{'count': '1642', 'name': 'mystery'}, {'count...</td>\n",
       "      <td>false</td>\n",
       "      <td>3.93</td>\n",
       "      <td>In Agatha Christie's classic mystery 4:50 From...</td>\n",
       "      <td>[{'author_id': '123715', 'role': ''}, {'author...</td>\n",
       "      <td>2013</td>\n",
       "      <td>16158996</td>\n",
       "      <td>5</td>\n",
       "      <td>6490729</td>\n",
       "      <td>4:50 From Paddington</td>\n",
       "    </tr>\n",
       "    <tr>\n",
       "      <th>4</th>\n",
       "      <td>46</td>\n",
       "      <td>eng</td>\n",
       "      <td>[{'count': '328', 'name': 'mystery'}, {'count'...</td>\n",
       "      <td>false</td>\n",
       "      <td>4.07</td>\n",
       "      <td>Past and present collide as Special Agent Pend...</td>\n",
       "      <td>[{'author_id': '12577', 'role': ''}, {'author_...</td>\n",
       "      <td>2013</td>\n",
       "      <td>17368265</td>\n",
       "      <td>250</td>\n",
       "      <td>24152432</td>\n",
       "      <td>White Fire (Pendergast, #13)</td>\n",
       "    </tr>\n",
       "    <tr>\n",
       "      <th>5</th>\n",
       "      <td>4</td>\n",
       "      <td>eng</td>\n",
       "      <td>[{'count': '5396', 'name': 'to-read'}, {'count...</td>\n",
       "      <td>false</td>\n",
       "      <td>4.11</td>\n",
       "      <td>1 MP3-CD / 10 hours\\nHaunted by a series of ho...</td>\n",
       "      <td>[{'author_id': '25108', 'role': ''}, {'author_...</td>\n",
       "      <td>2004</td>\n",
       "      <td>926660</td>\n",
       "      <td>15</td>\n",
       "      <td>911663</td>\n",
       "      <td>Monkeewrench</td>\n",
       "    </tr>\n",
       "  </tbody>\n",
       "</table>\n",
       "</div>"
      ],
      "text/plain": [
       "   text_reviews_count language_code  \\\n",
       "1                   3           eng   \n",
       "2                   6           eng   \n",
       "3                   2           eng   \n",
       "4                  46           eng   \n",
       "5                   4           eng   \n",
       "\n",
       "                                     popular_shelves is_ebook  average_rating  \\\n",
       "1  [{'count': '1694', 'name': 'mystery'}, {'count...    false            3.96   \n",
       "2  [{'count': '171', 'name': 'to-read'}, {'count'...    false            4.14   \n",
       "3  [{'count': '1642', 'name': 'mystery'}, {'count...    false            3.93   \n",
       "4  [{'count': '328', 'name': 'mystery'}, {'count'...    false            4.07   \n",
       "5  [{'count': '5396', 'name': 'to-read'}, {'count...    false            4.11   \n",
       "\n",
       "                                         description  \\\n",
       "1  Agatha Christie's most ingenious murder myster...   \n",
       "2  \"Poetic, down trodden and nihilistic, Jonathan...   \n",
       "3  In Agatha Christie's classic mystery 4:50 From...   \n",
       "4  Past and present collide as Special Agent Pend...   \n",
       "5  1 MP3-CD / 10 hours\\nHaunted by a series of ho...   \n",
       "\n",
       "                                             authors  publication_year  \\\n",
       "1  [{'author_id': '123715', 'role': ''}, {'author...              2013   \n",
       "2             [{'author_id': '4577517', 'role': ''}]              2014   \n",
       "3  [{'author_id': '123715', 'role': ''}, {'author...              2013   \n",
       "4  [{'author_id': '12577', 'role': ''}, {'author_...              2013   \n",
       "5  [{'author_id': '25108', 'role': ''}, {'author_...              2004   \n",
       "\n",
       "    book_id  ratings_count   work_id                         title  \n",
       "1  16158998              5   2288775         A Murder is Announced  \n",
       "2  22722787             18  42251489    The Cost of Doing Business  \n",
       "3  16158996              5   6490729          4:50 From Paddington  \n",
       "4  17368265            250  24152432  White Fire (Pendergast, #13)  \n",
       "5    926660             15    911663                  Monkeewrench  "
      ]
     },
     "execution_count": 4,
     "metadata": {},
     "output_type": "execute_result"
    }
   ],
   "source": [
    "books_metadata.head()"
   ]
  },
  {
   "cell_type": "code",
   "execution_count": 5,
   "metadata": {},
   "outputs": [
    {
     "data": {
      "text/html": [
       "<div>\n",
       "<style scoped>\n",
       "    .dataframe tbody tr th:only-of-type {\n",
       "        vertical-align: middle;\n",
       "    }\n",
       "\n",
       "    .dataframe tbody tr th {\n",
       "        vertical-align: top;\n",
       "    }\n",
       "\n",
       "    .dataframe thead th {\n",
       "        text-align: right;\n",
       "    }\n",
       "</style>\n",
       "<table border=\"1\" class=\"dataframe\">\n",
       "  <thead>\n",
       "    <tr style=\"text-align: right;\">\n",
       "      <th></th>\n",
       "      <th>text_reviews_count</th>\n",
       "      <th>language_code</th>\n",
       "      <th>popular_shelves</th>\n",
       "      <th>is_ebook</th>\n",
       "      <th>average_rating</th>\n",
       "      <th>description</th>\n",
       "      <th>authors</th>\n",
       "      <th>publication_year</th>\n",
       "      <th>book_id</th>\n",
       "      <th>ratings_count</th>\n",
       "      <th>work_id</th>\n",
       "      <th>title</th>\n",
       "    </tr>\n",
       "  </thead>\n",
       "  <tbody>\n",
       "  </tbody>\n",
       "</table>\n",
       "</div>"
      ],
      "text/plain": [
       "Empty DataFrame\n",
       "Columns: [text_reviews_count, language_code, popular_shelves, is_ebook, average_rating, description, authors, publication_year, book_id, ratings_count, work_id, title]\n",
       "Index: []"
      ]
     },
     "execution_count": 5,
     "metadata": {},
     "output_type": "execute_result"
    }
   ],
   "source": [
    "books_metadata[books_metadata['title']=='Watchmen']"
   ]
  },
  {
   "cell_type": "markdown",
   "metadata": {},
   "source": [
    "__column names__"
   ]
  },
  {
   "cell_type": "code",
   "execution_count": 6,
   "metadata": {},
   "outputs": [
    {
     "data": {
      "text/html": [
       "<div>\n",
       "<style scoped>\n",
       "    .dataframe tbody tr th:only-of-type {\n",
       "        vertical-align: middle;\n",
       "    }\n",
       "\n",
       "    .dataframe tbody tr th {\n",
       "        vertical-align: top;\n",
       "    }\n",
       "\n",
       "    .dataframe thead th {\n",
       "        text-align: right;\n",
       "    }\n",
       "</style>\n",
       "<table border=\"1\" class=\"dataframe\">\n",
       "  <thead>\n",
       "    <tr style=\"text-align: right;\">\n",
       "      <th></th>\n",
       "      <th>0</th>\n",
       "    </tr>\n",
       "  </thead>\n",
       "  <tbody>\n",
       "    <tr>\n",
       "      <th>0</th>\n",
       "      <td>text_reviews_count</td>\n",
       "    </tr>\n",
       "    <tr>\n",
       "      <th>1</th>\n",
       "      <td>language_code</td>\n",
       "    </tr>\n",
       "    <tr>\n",
       "      <th>2</th>\n",
       "      <td>popular_shelves</td>\n",
       "    </tr>\n",
       "    <tr>\n",
       "      <th>3</th>\n",
       "      <td>is_ebook</td>\n",
       "    </tr>\n",
       "    <tr>\n",
       "      <th>4</th>\n",
       "      <td>average_rating</td>\n",
       "    </tr>\n",
       "    <tr>\n",
       "      <th>5</th>\n",
       "      <td>description</td>\n",
       "    </tr>\n",
       "    <tr>\n",
       "      <th>6</th>\n",
       "      <td>authors</td>\n",
       "    </tr>\n",
       "    <tr>\n",
       "      <th>7</th>\n",
       "      <td>publication_year</td>\n",
       "    </tr>\n",
       "    <tr>\n",
       "      <th>8</th>\n",
       "      <td>book_id</td>\n",
       "    </tr>\n",
       "    <tr>\n",
       "      <th>9</th>\n",
       "      <td>ratings_count</td>\n",
       "    </tr>\n",
       "    <tr>\n",
       "      <th>10</th>\n",
       "      <td>work_id</td>\n",
       "    </tr>\n",
       "    <tr>\n",
       "      <th>11</th>\n",
       "      <td>title</td>\n",
       "    </tr>\n",
       "  </tbody>\n",
       "</table>\n",
       "</div>"
      ],
      "text/plain": [
       "                     0\n",
       "0   text_reviews_count\n",
       "1        language_code\n",
       "2      popular_shelves\n",
       "3             is_ebook\n",
       "4       average_rating\n",
       "5          description\n",
       "6              authors\n",
       "7     publication_year\n",
       "8              book_id\n",
       "9        ratings_count\n",
       "10             work_id\n",
       "11               title"
      ]
     },
     "execution_count": 6,
     "metadata": {},
     "output_type": "execute_result"
    }
   ],
   "source": [
    "bmc = pd.DataFrame(books_metadata.columns)\n",
    "bmc"
   ]
  },
  {
   "cell_type": "markdown",
   "metadata": {},
   "source": [
    "__Average of average rating__"
   ]
  },
  {
   "cell_type": "code",
   "execution_count": 7,
   "metadata": {},
   "outputs": [
    {
     "data": {
      "text/plain": [
       "3.872683254165724"
      ]
     },
     "execution_count": 7,
     "metadata": {},
     "output_type": "execute_result"
    }
   ],
   "source": [
    "average = books_metadata['average_rating'].sum()\n",
    "average_rating = average/66315\n",
    "average_rating"
   ]
  },
  {
   "cell_type": "markdown",
   "metadata": {},
   "source": [
    "__Unique books number__"
   ]
  },
  {
   "cell_type": "code",
   "execution_count": 8,
   "metadata": {},
   "outputs": [
    {
     "data": {
      "text/plain": [
       "66315"
      ]
     },
     "execution_count": 8,
     "metadata": {},
     "output_type": "execute_result"
    }
   ],
   "source": [
    "len(books_metadata['book_id'].unique())"
   ]
  },
  {
   "cell_type": "markdown",
   "metadata": {},
   "source": [
    "__Ebook vs hardcopy__"
   ]
  },
  {
   "cell_type": "code",
   "execution_count": 9,
   "metadata": {},
   "outputs": [
    {
     "name": "stdout",
     "output_type": "stream",
     "text": [
      "is_ebook : 17517 not_ebook : 48798\n"
     ]
    }
   ],
   "source": [
    "is_ebook = len(books_metadata[books_metadata['is_ebook']=='true'])\n",
    "not_ebook = len(books_metadata[books_metadata['is_ebook']=='false'])\n",
    "print('is_ebook :', is_ebook, \"not_ebook :\",not_ebook )"
   ]
  },
  {
   "cell_type": "markdown",
   "metadata": {},
   "source": [
    "__Frequency distribution of average_rating__"
   ]
  },
  {
   "cell_type": "code",
   "execution_count": 10,
   "metadata": {},
   "outputs": [
    {
     "data": {
      "text/plain": [
       "<AxesSubplot:title={'center':'Crime & Thriller'}, xlabel='average_rating', ylabel='count'>"
      ]
     },
     "execution_count": 10,
     "metadata": {},
     "output_type": "execute_result"
    },
    {
     "data": {
      "image/png": "[encoded data removed]",
      "text/plain": [
       "<Figure size 432x288 with 1 Axes>"
      ]
     },
     "metadata": {
      "needs_background": "light"
     },
     "output_type": "display_data"
    }
   ],
   "source": [
    "plt.figure()\n",
    "plt.title(\"Crime & Thriller\")\n",
    "plt.ylabel('count')\n",
    "plt.xlabel('average_rating')\n",
    "books_metadata['average_rating'].hist()"
   ]
  },
  {
   "cell_type": "markdown",
   "metadata": {},
   "source": [
    "__Frequency distribution of books over time__"
   ]
  },
  {
   "cell_type": "code",
   "execution_count": 11,
   "metadata": {},
   "outputs": [],
   "source": [
    "books_metadata['publication_year'] = books_metadata['publication_year'].replace(to_replace = 13, value = 1981)\n",
    "books_metadata['publication_year'] = books_metadata['publication_year'].replace(to_replace = 2105, value = 2007)\n",
    "books_metadata['publication_year'] = books_metadata['publication_year'].replace(to_replace = 201, value = 2015)\n",
    "books_metadata['publication_year'] = books_metadata['publication_year'].replace(to_replace = 207, value = 2016)\n",
    "books_metadata['publication_year'] = books_metadata['publication_year'].replace(to_replace = 1016, value = 2016)"
   ]
  },
  {
   "cell_type": "code",
   "execution_count": 13,
   "metadata": {},
   "outputs": [
    {
     "name": "stderr",
     "output_type": "stream",
     "text": [
      "/Users/uni/opt/anaconda3/lib/python3.8/site-packages/seaborn/categorical.py:3714: UserWarning: The `factorplot` function has been renamed to `catplot`. The original name will be removed in a future release. Please update your code. Note that the default `kind` in `factorplot` (`'point'`) has changed `'strip'` in `catplot`.\n",
      "  warnings.warn(msg)\n",
      "/Users/uni/opt/anaconda3/lib/python3.8/site-packages/seaborn/_decorators.py:36: FutureWarning: Pass the following variable as a keyword arg: x. From version 0.12, the only valid positional argument will be `data`, and passing other arguments without an explicit keyword will result in an error or misinterpretation.\n",
      "  warnings.warn(\n"
     ]
    },
    {
     "data": {
      "image/png": "[encoded data removed]",
      "text/plain": [
       "<Figure size 360x360 with 1 Axes>"
      ]
     },
     "metadata": {},
     "output_type": "display_data"
    }
   ],
   "source": [
    "with sn.axes_style('white'):\n",
    "    g = sn.factorplot(\"publication_year\", data = books_metadata, aspect=1,\n",
    "                     kind='count', color='steelblue')\n",
    "    g.set_xticklabels(step=10)"
   ]
  },
  {
   "cell_type": "markdown",
   "metadata": {},
   "source": [
    "__Oldest and latest publication year__"
   ]
  },
  {
   "cell_type": "code",
   "execution_count": 14,
   "metadata": {
    "scrolled": true
   },
   "outputs": [
    {
     "name": "stdout",
     "output_type": "stream",
     "text": [
      "oldest :  1946\n",
      "newest :  2018\n"
     ]
    }
   ],
   "source": [
    "oldest = books_metadata['publication_year'].min()\n",
    "latest = books_metadata['publication_year'].max()\n",
    "print('oldest : ', oldest)\n",
    "print('newest : ', latest)"
   ]
  },
  {
   "cell_type": "code",
   "execution_count": 15,
   "metadata": {},
   "outputs": [
    {
     "name": "stdout",
     "output_type": "stream",
     "text": [
      "<class 'pandas.core.frame.DataFrame'>\n",
      "Int64Index: 15045017 entries, 0 to 15045016\n",
      "Data columns (total 8 columns):\n",
      " #   Column        Dtype \n",
      "---  ------        ----- \n",
      " 0   index         int64 \n",
      " 1   user_id       object\n",
      " 2   book_id       int64 \n",
      " 3   review_id     object\n",
      " 4   is_read       bool  \n",
      " 5   rating        int64 \n",
      " 6   date_added    object\n",
      " 7   date_updated  object\n",
      "dtypes: bool(1), int64(3), object(4)\n",
      "memory usage: 932.6+ MB\n"
     ]
    }
   ],
   "source": [
    "books_interactions.info()"
   ]
  },
  {
   "cell_type": "code",
   "execution_count": 16,
   "metadata": {},
   "outputs": [
    {
     "data": {
      "text/html": [
       "<div>\n",
       "<style scoped>\n",
       "    .dataframe tbody tr th:only-of-type {\n",
       "        vertical-align: middle;\n",
       "    }\n",
       "\n",
       "    .dataframe tbody tr th {\n",
       "        vertical-align: top;\n",
       "    }\n",
       "\n",
       "    .dataframe thead th {\n",
       "        text-align: right;\n",
       "    }\n",
       "</style>\n",
       "<table border=\"1\" class=\"dataframe\">\n",
       "  <thead>\n",
       "    <tr style=\"text-align: right;\">\n",
       "      <th></th>\n",
       "      <th>index</th>\n",
       "      <th>user_id</th>\n",
       "      <th>book_id</th>\n",
       "      <th>review_id</th>\n",
       "      <th>is_read</th>\n",
       "      <th>rating</th>\n",
       "      <th>date_added</th>\n",
       "      <th>date_updated</th>\n",
       "    </tr>\n",
       "  </thead>\n",
       "  <tbody>\n",
       "    <tr>\n",
       "      <th>0</th>\n",
       "      <td>2</td>\n",
       "      <td>8842281e1d1347389f2ab93d60773d4d</td>\n",
       "      <td>20821043</td>\n",
       "      <td>4b15f8a08f04a17f9a47f2b76fec21e5</td>\n",
       "      <td>False</td>\n",
       "      <td>0</td>\n",
       "      <td>Mon Mar 27 22:52:11 -0700 2017</td>\n",
       "      <td>Mon Mar 27 22:52:12 -0700 2017</td>\n",
       "    </tr>\n",
       "    <tr>\n",
       "      <th>1</th>\n",
       "      <td>3</td>\n",
       "      <td>8842281e1d1347389f2ab93d60773d4d</td>\n",
       "      <td>31184479</td>\n",
       "      <td>0b9fc382ad38c5804ec46df84d66be6e</td>\n",
       "      <td>False</td>\n",
       "      <td>0</td>\n",
       "      <td>Fri Jan 06 16:22:46 -0800 2017</td>\n",
       "      <td>Fri Jan 06 16:22:46 -0800 2017</td>\n",
       "    </tr>\n",
       "    <tr>\n",
       "      <th>2</th>\n",
       "      <td>4</td>\n",
       "      <td>8842281e1d1347389f2ab93d60773d4d</td>\n",
       "      <td>28684704</td>\n",
       "      <td>2ede853b14dc4583f96cf5d120af636f</td>\n",
       "      <td>True</td>\n",
       "      <td>3</td>\n",
       "      <td>Tue Nov 15 11:29:22 -0800 2016</td>\n",
       "      <td>Mon Mar 20 23:40:27 -0700 2017</td>\n",
       "    </tr>\n",
       "    <tr>\n",
       "      <th>3</th>\n",
       "      <td>5</td>\n",
       "      <td>8842281e1d1347389f2ab93d60773d4d</td>\n",
       "      <td>32283133</td>\n",
       "      <td>8e4d61801907e591018bdc3442a9cf2b</td>\n",
       "      <td>False</td>\n",
       "      <td>0</td>\n",
       "      <td>Tue Nov 01 11:09:18 -0700 2016</td>\n",
       "      <td>Tue Nov 01 11:09:44 -0700 2016</td>\n",
       "    </tr>\n",
       "    <tr>\n",
       "      <th>4</th>\n",
       "      <td>6</td>\n",
       "      <td>8842281e1d1347389f2ab93d60773d4d</td>\n",
       "      <td>17288661</td>\n",
       "      <td>62083867d5baac6f82ebea10ae5a2843</td>\n",
       "      <td>False</td>\n",
       "      <td>0</td>\n",
       "      <td>Mon Jul 11 21:46:06 -0700 2016</td>\n",
       "      <td>Mon Jul 11 21:46:06 -0700 2016</td>\n",
       "    </tr>\n",
       "  </tbody>\n",
       "</table>\n",
       "</div>"
      ],
      "text/plain": [
       "   index                           user_id   book_id  \\\n",
       "0      2  8842281e1d1347389f2ab93d60773d4d  20821043   \n",
       "1      3  8842281e1d1347389f2ab93d60773d4d  31184479   \n",
       "2      4  8842281e1d1347389f2ab93d60773d4d  28684704   \n",
       "3      5  8842281e1d1347389f2ab93d60773d4d  32283133   \n",
       "4      6  8842281e1d1347389f2ab93d60773d4d  17288661   \n",
       "\n",
       "                          review_id  is_read  rating  \\\n",
       "0  4b15f8a08f04a17f9a47f2b76fec21e5    False       0   \n",
       "1  0b9fc382ad38c5804ec46df84d66be6e    False       0   \n",
       "2  2ede853b14dc4583f96cf5d120af636f     True       3   \n",
       "3  8e4d61801907e591018bdc3442a9cf2b    False       0   \n",
       "4  62083867d5baac6f82ebea10ae5a2843    False       0   \n",
       "\n",
       "                       date_added                    date_updated  \n",
       "0  Mon Mar 27 22:52:11 -0700 2017  Mon Mar 27 22:52:12 -0700 2017  \n",
       "1  Fri Jan 06 16:22:46 -0800 2017  Fri Jan 06 16:22:46 -0800 2017  \n",
       "2  Tue Nov 15 11:29:22 -0800 2016  Mon Mar 20 23:40:27 -0700 2017  \n",
       "3  Tue Nov 01 11:09:18 -0700 2016  Tue Nov 01 11:09:44 -0700 2016  \n",
       "4  Mon Jul 11 21:46:06 -0700 2016  Mon Jul 11 21:46:06 -0700 2016  "
      ]
     },
     "execution_count": 16,
     "metadata": {},
     "output_type": "execute_result"
    }
   ],
   "source": [
    "books_interactions.head()"
   ]
  },
  {
   "cell_type": "markdown",
   "metadata": {},
   "source": [
    "__interactions columns__"
   ]
  },
  {
   "cell_type": "code",
   "execution_count": 17,
   "metadata": {},
   "outputs": [
    {
     "data": {
      "text/html": [
       "<div>\n",
       "<style scoped>\n",
       "    .dataframe tbody tr th:only-of-type {\n",
       "        vertical-align: middle;\n",
       "    }\n",
       "\n",
       "    .dataframe tbody tr th {\n",
       "        vertical-align: top;\n",
       "    }\n",
       "\n",
       "    .dataframe thead th {\n",
       "        text-align: right;\n",
       "    }\n",
       "</style>\n",
       "<table border=\"1\" class=\"dataframe\">\n",
       "  <thead>\n",
       "    <tr style=\"text-align: right;\">\n",
       "      <th></th>\n",
       "      <th>0</th>\n",
       "    </tr>\n",
       "  </thead>\n",
       "  <tbody>\n",
       "    <tr>\n",
       "      <th>0</th>\n",
       "      <td>index</td>\n",
       "    </tr>\n",
       "    <tr>\n",
       "      <th>1</th>\n",
       "      <td>user_id</td>\n",
       "    </tr>\n",
       "    <tr>\n",
       "      <th>2</th>\n",
       "      <td>book_id</td>\n",
       "    </tr>\n",
       "    <tr>\n",
       "      <th>3</th>\n",
       "      <td>review_id</td>\n",
       "    </tr>\n",
       "    <tr>\n",
       "      <th>4</th>\n",
       "      <td>is_read</td>\n",
       "    </tr>\n",
       "    <tr>\n",
       "      <th>5</th>\n",
       "      <td>rating</td>\n",
       "    </tr>\n",
       "    <tr>\n",
       "      <th>6</th>\n",
       "      <td>date_added</td>\n",
       "    </tr>\n",
       "    <tr>\n",
       "      <th>7</th>\n",
       "      <td>date_updated</td>\n",
       "    </tr>\n",
       "  </tbody>\n",
       "</table>\n",
       "</div>"
      ],
      "text/plain": [
       "              0\n",
       "0         index\n",
       "1       user_id\n",
       "2       book_id\n",
       "3     review_id\n",
       "4       is_read\n",
       "5        rating\n",
       "6    date_added\n",
       "7  date_updated"
      ]
     },
     "execution_count": 17,
     "metadata": {},
     "output_type": "execute_result"
    }
   ],
   "source": [
    "bic = pd.DataFrame(books_interactions.columns)\n",
    "bic"
   ]
  },
  {
   "cell_type": "code",
   "execution_count": 18,
   "metadata": {},
   "outputs": [
    {
     "name": "stdout",
     "output_type": "stream",
     "text": [
      "<class 'pandas.core.frame.DataFrame'>\n",
      "Int64Index: 1056240 entries, 0 to 1056239\n",
      "Data columns (total 11 columns):\n",
      " #   Column        Non-Null Count    Dtype \n",
      "---  ------        --------------    ----- \n",
      " 0   index         1056240 non-null  int64 \n",
      " 1   user_id       1056240 non-null  object\n",
      " 2   book_id       1056240 non-null  int64 \n",
      " 3   review_id     1056240 non-null  object\n",
      " 4   rating        1056240 non-null  int64 \n",
      " 5   review_text   1056240 non-null  object\n",
      " 6   date_added    1056240 non-null  object\n",
      " 7   date_updated  1056240 non-null  object\n",
      " 8   read_at       1056240 non-null  object\n",
      " 9   n_votes       1056240 non-null  int64 \n",
      " 10  n_comments    1056240 non-null  int64 \n",
      "dtypes: int64(5), object(6)\n",
      "memory usage: 96.7+ MB\n"
     ]
    }
   ],
   "source": [
    "books_reviews.info()"
   ]
  },
  {
   "cell_type": "code",
   "execution_count": 19,
   "metadata": {},
   "outputs": [
    {
     "data": {
      "text/html": [
       "<div>\n",
       "<style scoped>\n",
       "    .dataframe tbody tr th:only-of-type {\n",
       "        vertical-align: middle;\n",
       "    }\n",
       "\n",
       "    .dataframe tbody tr th {\n",
       "        vertical-align: top;\n",
       "    }\n",
       "\n",
       "    .dataframe thead th {\n",
       "        text-align: right;\n",
       "    }\n",
       "</style>\n",
       "<table border=\"1\" class=\"dataframe\">\n",
       "  <thead>\n",
       "    <tr style=\"text-align: right;\">\n",
       "      <th></th>\n",
       "      <th>index</th>\n",
       "      <th>user_id</th>\n",
       "      <th>book_id</th>\n",
       "      <th>review_id</th>\n",
       "      <th>rating</th>\n",
       "      <th>review_text</th>\n",
       "      <th>date_added</th>\n",
       "      <th>date_updated</th>\n",
       "      <th>read_at</th>\n",
       "      <th>n_votes</th>\n",
       "      <th>n_comments</th>\n",
       "    </tr>\n",
       "  </thead>\n",
       "  <tbody>\n",
       "    <tr>\n",
       "      <th>0</th>\n",
       "      <td>1</td>\n",
       "      <td>8842281e1d1347389f2ab93d60773d4d</td>\n",
       "      <td>28684704</td>\n",
       "      <td>2ede853b14dc4583f96cf5d120af636f</td>\n",
       "      <td>3</td>\n",
       "      <td>A fun, fast paced science fiction thriller. I ...</td>\n",
       "      <td>Tue Nov 15 11:29:22 -0800 2016</td>\n",
       "      <td>Mon Mar 20 23:40:27 -0700 2017</td>\n",
       "      <td>Sat Mar 18 23:22:42 -0700 2017</td>\n",
       "      <td>22</td>\n",
       "      <td>0</td>\n",
       "    </tr>\n",
       "    <tr>\n",
       "      <th>1</th>\n",
       "      <td>2</td>\n",
       "      <td>8842281e1d1347389f2ab93d60773d4d</td>\n",
       "      <td>32283133</td>\n",
       "      <td>8e4d61801907e591018bdc3442a9cf2b</td>\n",
       "      <td>0</td>\n",
       "      <td>http://www.telegraph.co.uk/culture/10...</td>\n",
       "      <td>Tue Nov 01 11:09:18 -0700 2016</td>\n",
       "      <td>Tue Nov 01 11:09:44 -0700 2016</td>\n",
       "      <td></td>\n",
       "      <td>9</td>\n",
       "      <td>0</td>\n",
       "    </tr>\n",
       "    <tr>\n",
       "      <th>2</th>\n",
       "      <td>3</td>\n",
       "      <td>8842281e1d1347389f2ab93d60773d4d</td>\n",
       "      <td>17860739</td>\n",
       "      <td>022bb6daffa49adc27f6b20b6ebeb37d</td>\n",
       "      <td>4</td>\n",
       "      <td>An amazing and unique creation: JJ Abrams and ...</td>\n",
       "      <td>Wed Mar 26 13:51:30 -0700 2014</td>\n",
       "      <td>Tue Sep 23 01:44:36 -0700 2014</td>\n",
       "      <td>Sun Sep 21 00:00:00 -0700 2014</td>\n",
       "      <td>7</td>\n",
       "      <td>0</td>\n",
       "    </tr>\n",
       "    <tr>\n",
       "      <th>3</th>\n",
       "      <td>4</td>\n",
       "      <td>8842281e1d1347389f2ab93d60773d4d</td>\n",
       "      <td>8694005</td>\n",
       "      <td>0e317947e1fd341f573192111bb2921d</td>\n",
       "      <td>3</td>\n",
       "      <td>The Name of the Rose is a thrilling Dan Brown-...</td>\n",
       "      <td>Wed Sep 08 01:22:27 -0700 2010</td>\n",
       "      <td>Wed Dec 14 12:30:43 -0800 2016</td>\n",
       "      <td>Mon Aug 10 00:00:00 -0700 2015</td>\n",
       "      <td>17</td>\n",
       "      <td>6</td>\n",
       "    </tr>\n",
       "    <tr>\n",
       "      <th>4</th>\n",
       "      <td>6</td>\n",
       "      <td>8842281e1d1347389f2ab93d60773d4d</td>\n",
       "      <td>2429135</td>\n",
       "      <td>efee7a3f620ed640366226caa7b138f0</td>\n",
       "      <td>5</td>\n",
       "      <td>I haven't stayed up until 5am to finish a book...</td>\n",
       "      <td>Mon Mar 15 14:05:04 -0700 2010</td>\n",
       "      <td>Wed Mar 22 11:46:43 -0700 2017</td>\n",
       "      <td>Sun Mar 28 00:00:00 -0700 2010</td>\n",
       "      <td>13</td>\n",
       "      <td>10</td>\n",
       "    </tr>\n",
       "  </tbody>\n",
       "</table>\n",
       "</div>"
      ],
      "text/plain": [
       "   index                           user_id   book_id  \\\n",
       "0      1  8842281e1d1347389f2ab93d60773d4d  28684704   \n",
       "1      2  8842281e1d1347389f2ab93d60773d4d  32283133   \n",
       "2      3  8842281e1d1347389f2ab93d60773d4d  17860739   \n",
       "3      4  8842281e1d1347389f2ab93d60773d4d   8694005   \n",
       "4      6  8842281e1d1347389f2ab93d60773d4d   2429135   \n",
       "\n",
       "                          review_id  rating  \\\n",
       "0  2ede853b14dc4583f96cf5d120af636f       3   \n",
       "1  8e4d61801907e591018bdc3442a9cf2b       0   \n",
       "2  022bb6daffa49adc27f6b20b6ebeb37d       4   \n",
       "3  0e317947e1fd341f573192111bb2921d       3   \n",
       "4  efee7a3f620ed640366226caa7b138f0       5   \n",
       "\n",
       "                                         review_text  \\\n",
       "0  A fun, fast paced science fiction thriller. I ...   \n",
       "1           http://www.telegraph.co.uk/culture/10...   \n",
       "2  An amazing and unique creation: JJ Abrams and ...   \n",
       "3  The Name of the Rose is a thrilling Dan Brown-...   \n",
       "4  I haven't stayed up until 5am to finish a book...   \n",
       "\n",
       "                       date_added                    date_updated  \\\n",
       "0  Tue Nov 15 11:29:22 -0800 2016  Mon Mar 20 23:40:27 -0700 2017   \n",
       "1  Tue Nov 01 11:09:18 -0700 2016  Tue Nov 01 11:09:44 -0700 2016   \n",
       "2  Wed Mar 26 13:51:30 -0700 2014  Tue Sep 23 01:44:36 -0700 2014   \n",
       "3  Wed Sep 08 01:22:27 -0700 2010  Wed Dec 14 12:30:43 -0800 2016   \n",
       "4  Mon Mar 15 14:05:04 -0700 2010  Wed Mar 22 11:46:43 -0700 2017   \n",
       "\n",
       "                          read_at  n_votes  n_comments  \n",
       "0  Sat Mar 18 23:22:42 -0700 2017       22           0  \n",
       "1                                        9           0  \n",
       "2  Sun Sep 21 00:00:00 -0700 2014        7           0  \n",
       "3  Mon Aug 10 00:00:00 -0700 2015       17           6  \n",
       "4  Sun Mar 28 00:00:00 -0700 2010       13          10  "
      ]
     },
     "execution_count": 19,
     "metadata": {},
     "output_type": "execute_result"
    }
   ],
   "source": [
    "books_reviews.head()"
   ]
  },
  {
   "cell_type": "markdown",
   "metadata": {},
   "source": [
    "__reviews columns__"
   ]
  },
  {
   "cell_type": "code",
   "execution_count": 20,
   "metadata": {},
   "outputs": [
    {
     "data": {
      "text/html": [
       "<div>\n",
       "<style scoped>\n",
       "    .dataframe tbody tr th:only-of-type {\n",
       "        vertical-align: middle;\n",
       "    }\n",
       "\n",
       "    .dataframe tbody tr th {\n",
       "        vertical-align: top;\n",
       "    }\n",
       "\n",
       "    .dataframe thead th {\n",
       "        text-align: right;\n",
       "    }\n",
       "</style>\n",
       "<table border=\"1\" class=\"dataframe\">\n",
       "  <thead>\n",
       "    <tr style=\"text-align: right;\">\n",
       "      <th></th>\n",
       "      <th>0</th>\n",
       "    </tr>\n",
       "  </thead>\n",
       "  <tbody>\n",
       "    <tr>\n",
       "      <th>0</th>\n",
       "      <td>index</td>\n",
       "    </tr>\n",
       "    <tr>\n",
       "      <th>1</th>\n",
       "      <td>user_id</td>\n",
       "    </tr>\n",
       "    <tr>\n",
       "      <th>2</th>\n",
       "      <td>book_id</td>\n",
       "    </tr>\n",
       "    <tr>\n",
       "      <th>3</th>\n",
       "      <td>review_id</td>\n",
       "    </tr>\n",
       "    <tr>\n",
       "      <th>4</th>\n",
       "      <td>rating</td>\n",
       "    </tr>\n",
       "    <tr>\n",
       "      <th>5</th>\n",
       "      <td>review_text</td>\n",
       "    </tr>\n",
       "    <tr>\n",
       "      <th>6</th>\n",
       "      <td>date_added</td>\n",
       "    </tr>\n",
       "    <tr>\n",
       "      <th>7</th>\n",
       "      <td>date_updated</td>\n",
       "    </tr>\n",
       "    <tr>\n",
       "      <th>8</th>\n",
       "      <td>read_at</td>\n",
       "    </tr>\n",
       "    <tr>\n",
       "      <th>9</th>\n",
       "      <td>n_votes</td>\n",
       "    </tr>\n",
       "    <tr>\n",
       "      <th>10</th>\n",
       "      <td>n_comments</td>\n",
       "    </tr>\n",
       "  </tbody>\n",
       "</table>\n",
       "</div>"
      ],
      "text/plain": [
       "               0\n",
       "0          index\n",
       "1        user_id\n",
       "2        book_id\n",
       "3      review_id\n",
       "4         rating\n",
       "5    review_text\n",
       "6     date_added\n",
       "7   date_updated\n",
       "8        read_at\n",
       "9        n_votes\n",
       "10    n_comments"
      ]
     },
     "execution_count": 20,
     "metadata": {},
     "output_type": "execute_result"
    }
   ],
   "source": [
    "brc = pd.DataFrame(books_reviews.columns)\n",
    "brc"
   ]
  },
  {
   "cell_type": "code",
   "execution_count": 21,
   "metadata": {},
   "outputs": [
    {
     "data": {
      "text/plain": [
       "66266"
      ]
     },
     "execution_count": 21,
     "metadata": {},
     "output_type": "execute_result"
    }
   ],
   "source": [
    "len(books_reviews['book_id'].unique())"
   ]
  },
  {
   "cell_type": "markdown",
   "metadata": {},
   "source": [
    "__Data cleaning__"
   ]
  },
  {
   "cell_type": "code",
   "execution_count": 22,
   "metadata": {},
   "outputs": [],
   "source": [
    "books_reviews['review_text'] = books_reviews['review_text'].str.lower()"
   ]
  },
  {
   "cell_type": "code",
   "execution_count": 23,
   "metadata": {},
   "outputs": [],
   "source": [
    "#remove punctuations\n",
    "#remove all non alphabetic characters\n",
    "regex_1 = re.compile(r'[^a-zA-Z]')\n",
    "books_reviews['review_text'] = pd.Series(books_reviews['review_text']).str.replace(regex_1, ' ')"
   ]
  },
  {
   "cell_type": "code",
   "execution_count": 24,
   "metadata": {},
   "outputs": [],
   "source": [
    "#reduce multi-space to single space\n",
    "regex_2 = re.compile(r' +')\n",
    "books_reviews['review_text'] = pd.Series(books_reviews['review_text']).str.replace(regex_2,' ')"
   ]
  },
  {
   "cell_type": "code",
   "execution_count": 25,
   "metadata": {},
   "outputs": [
    {
     "data": {
      "text/plain": [
       "0          a fun fast paced science fiction thriller i re...\n",
       "1                          http www telegraph co uk culture \n",
       "2          an amazing and unique creation jj abrams and d...\n",
       "3          the name of the rose is a thrilling dan brown ...\n",
       "4          i haven t stayed up until am to finish a book ...\n",
       "                                 ...                        \n",
       "1056235    infernal gates by michael webb centers on etha...\n",
       "1056236    in addition to providing excellent medical adv...\n",
       "1056237    while young cate kincaid has no experience as ...\n",
       "1056238    are you a suspense fan do you crave action and...\n",
       "1056239    i m not a regular mystery reader however this ...\n",
       "Name: review_text, Length: 1056240, dtype: object"
      ]
     },
     "execution_count": 25,
     "metadata": {},
     "output_type": "execute_result"
    }
   ],
   "source": [
    "books_reviews['review_text']"
   ]
  },
  {
   "cell_type": "code",
   "execution_count": 26,
   "metadata": {},
   "outputs": [],
   "source": [
    "books_reviews['word_count'] = books_reviews['review_text'].apply(lambda x: len(x.strip().split()))"
   ]
  },
  {
   "cell_type": "code",
   "execution_count": 27,
   "metadata": {},
   "outputs": [
    {
     "data": {
      "text/html": [
       "<div>\n",
       "<style scoped>\n",
       "    .dataframe tbody tr th:only-of-type {\n",
       "        vertical-align: middle;\n",
       "    }\n",
       "\n",
       "    .dataframe tbody tr th {\n",
       "        vertical-align: top;\n",
       "    }\n",
       "\n",
       "    .dataframe thead th {\n",
       "        text-align: right;\n",
       "    }\n",
       "</style>\n",
       "<table border=\"1\" class=\"dataframe\">\n",
       "  <thead>\n",
       "    <tr style=\"text-align: right;\">\n",
       "      <th></th>\n",
       "      <th>index</th>\n",
       "      <th>user_id</th>\n",
       "      <th>book_id</th>\n",
       "      <th>review_id</th>\n",
       "      <th>rating</th>\n",
       "      <th>review_text</th>\n",
       "      <th>date_added</th>\n",
       "      <th>date_updated</th>\n",
       "      <th>read_at</th>\n",
       "      <th>n_votes</th>\n",
       "      <th>n_comments</th>\n",
       "      <th>word_count</th>\n",
       "    </tr>\n",
       "  </thead>\n",
       "  <tbody>\n",
       "    <tr>\n",
       "      <th>0</th>\n",
       "      <td>1</td>\n",
       "      <td>8842281e1d1347389f2ab93d60773d4d</td>\n",
       "      <td>28684704</td>\n",
       "      <td>2ede853b14dc4583f96cf5d120af636f</td>\n",
       "      <td>3</td>\n",
       "      <td>a fun fast paced science fiction thriller i re...</td>\n",
       "      <td>Tue Nov 15 11:29:22 -0800 2016</td>\n",
       "      <td>Mon Mar 20 23:40:27 -0700 2017</td>\n",
       "      <td>Sat Mar 18 23:22:42 -0700 2017</td>\n",
       "      <td>22</td>\n",
       "      <td>0</td>\n",
       "      <td>471</td>\n",
       "    </tr>\n",
       "    <tr>\n",
       "      <th>1</th>\n",
       "      <td>2</td>\n",
       "      <td>8842281e1d1347389f2ab93d60773d4d</td>\n",
       "      <td>32283133</td>\n",
       "      <td>8e4d61801907e591018bdc3442a9cf2b</td>\n",
       "      <td>0</td>\n",
       "      <td>http www telegraph co uk culture</td>\n",
       "      <td>Tue Nov 01 11:09:18 -0700 2016</td>\n",
       "      <td>Tue Nov 01 11:09:44 -0700 2016</td>\n",
       "      <td></td>\n",
       "      <td>9</td>\n",
       "      <td>0</td>\n",
       "      <td>6</td>\n",
       "    </tr>\n",
       "    <tr>\n",
       "      <th>2</th>\n",
       "      <td>3</td>\n",
       "      <td>8842281e1d1347389f2ab93d60773d4d</td>\n",
       "      <td>17860739</td>\n",
       "      <td>022bb6daffa49adc27f6b20b6ebeb37d</td>\n",
       "      <td>4</td>\n",
       "      <td>an amazing and unique creation jj abrams and d...</td>\n",
       "      <td>Wed Mar 26 13:51:30 -0700 2014</td>\n",
       "      <td>Tue Sep 23 01:44:36 -0700 2014</td>\n",
       "      <td>Sun Sep 21 00:00:00 -0700 2014</td>\n",
       "      <td>7</td>\n",
       "      <td>0</td>\n",
       "      <td>480</td>\n",
       "    </tr>\n",
       "    <tr>\n",
       "      <th>3</th>\n",
       "      <td>4</td>\n",
       "      <td>8842281e1d1347389f2ab93d60773d4d</td>\n",
       "      <td>8694005</td>\n",
       "      <td>0e317947e1fd341f573192111bb2921d</td>\n",
       "      <td>3</td>\n",
       "      <td>the name of the rose is a thrilling dan brown ...</td>\n",
       "      <td>Wed Sep 08 01:22:27 -0700 2010</td>\n",
       "      <td>Wed Dec 14 12:30:43 -0800 2016</td>\n",
       "      <td>Mon Aug 10 00:00:00 -0700 2015</td>\n",
       "      <td>17</td>\n",
       "      <td>6</td>\n",
       "      <td>381</td>\n",
       "    </tr>\n",
       "    <tr>\n",
       "      <th>4</th>\n",
       "      <td>6</td>\n",
       "      <td>8842281e1d1347389f2ab93d60773d4d</td>\n",
       "      <td>2429135</td>\n",
       "      <td>efee7a3f620ed640366226caa7b138f0</td>\n",
       "      <td>5</td>\n",
       "      <td>i haven t stayed up until am to finish a book ...</td>\n",
       "      <td>Mon Mar 15 14:05:04 -0700 2010</td>\n",
       "      <td>Wed Mar 22 11:46:43 -0700 2017</td>\n",
       "      <td>Sun Mar 28 00:00:00 -0700 2010</td>\n",
       "      <td>13</td>\n",
       "      <td>10</td>\n",
       "      <td>42</td>\n",
       "    </tr>\n",
       "  </tbody>\n",
       "</table>\n",
       "</div>"
      ],
      "text/plain": [
       "   index                           user_id   book_id  \\\n",
       "0      1  8842281e1d1347389f2ab93d60773d4d  28684704   \n",
       "1      2  8842281e1d1347389f2ab93d60773d4d  32283133   \n",
       "2      3  8842281e1d1347389f2ab93d60773d4d  17860739   \n",
       "3      4  8842281e1d1347389f2ab93d60773d4d   8694005   \n",
       "4      6  8842281e1d1347389f2ab93d60773d4d   2429135   \n",
       "\n",
       "                          review_id  rating  \\\n",
       "0  2ede853b14dc4583f96cf5d120af636f       3   \n",
       "1  8e4d61801907e591018bdc3442a9cf2b       0   \n",
       "2  022bb6daffa49adc27f6b20b6ebeb37d       4   \n",
       "3  0e317947e1fd341f573192111bb2921d       3   \n",
       "4  efee7a3f620ed640366226caa7b138f0       5   \n",
       "\n",
       "                                         review_text  \\\n",
       "0  a fun fast paced science fiction thriller i re...   \n",
       "1                  http www telegraph co uk culture    \n",
       "2  an amazing and unique creation jj abrams and d...   \n",
       "3  the name of the rose is a thrilling dan brown ...   \n",
       "4  i haven t stayed up until am to finish a book ...   \n",
       "\n",
       "                       date_added                    date_updated  \\\n",
       "0  Tue Nov 15 11:29:22 -0800 2016  Mon Mar 20 23:40:27 -0700 2017   \n",
       "1  Tue Nov 01 11:09:18 -0700 2016  Tue Nov 01 11:09:44 -0700 2016   \n",
       "2  Wed Mar 26 13:51:30 -0700 2014  Tue Sep 23 01:44:36 -0700 2014   \n",
       "3  Wed Sep 08 01:22:27 -0700 2010  Wed Dec 14 12:30:43 -0800 2016   \n",
       "4  Mon Mar 15 14:05:04 -0700 2010  Wed Mar 22 11:46:43 -0700 2017   \n",
       "\n",
       "                          read_at  n_votes  n_comments  word_count  \n",
       "0  Sat Mar 18 23:22:42 -0700 2017       22           0         471  \n",
       "1                                        9           0           6  \n",
       "2  Sun Sep 21 00:00:00 -0700 2014        7           0         480  \n",
       "3  Mon Aug 10 00:00:00 -0700 2015       17           6         381  \n",
       "4  Sun Mar 28 00:00:00 -0700 2010       13          10          42  "
      ]
     },
     "execution_count": 27,
     "metadata": {},
     "output_type": "execute_result"
    }
   ],
   "source": [
    "books_reviews.head()"
   ]
  },
  {
   "cell_type": "markdown",
   "metadata": {},
   "source": [
    "__describe the word_count column__"
   ]
  },
  {
   "cell_type": "code",
   "execution_count": 28,
   "metadata": {
    "scrolled": true
   },
   "outputs": [
    {
     "data": {
      "text/plain": [
       "count    1.056240e+06\n",
       "mean     1.188126e+02\n",
       "std      1.600938e+02\n",
       "min      0.000000e+00\n",
       "25%      2.300000e+01\n",
       "50%      6.100000e+01\n",
       "75%      1.490000e+02\n",
       "max      3.956000e+03\n",
       "Name: word_count, dtype: float64"
      ]
     },
     "execution_count": 28,
     "metadata": {},
     "output_type": "execute_result"
    }
   ],
   "source": [
    "books_reviews['word_count'].describe()"
   ]
  },
  {
   "cell_type": "markdown",
   "metadata": {},
   "source": [
    "__plot review length with respect to review count__"
   ]
  },
  {
   "cell_type": "code",
   "execution_count": 29,
   "metadata": {},
   "outputs": [
    {
     "data": {
      "image/png": "[encoded data removed]",
      "text/plain": [
       "<Figure size 432x288 with 1 Axes>"
      ]
     },
     "metadata": {
      "needs_background": "light"
     },
     "output_type": "display_data"
    }
   ],
   "source": [
    "plt.xlabel('Review Length (In words)')\n",
    "plt.ylabel('Review count')\n",
    "plt.title('Comics & Graphics')\n",
    "plt.hist(books_reviews['word_count'], bins=np.arange(max(books_reviews['word_count'])), histtype='step', linewidth=1, fill=True);"
   ]
  },
  {
   "cell_type": "code",
   "execution_count": null,
   "metadata": {},
   "outputs": [],
   "source": []
  }
 ],
 "metadata": {
  "kernelspec": {
   "display_name": "Python 3",
   "language": "python",
   "name": "python3"
  },
  "language_info": {
   "codemirror_mode": {
    "name": "ipython",
    "version": 3
   },
   "file_extension": ".py",
   "mimetype": "text/x-python",
   "name": "python",
   "nbconvert_exporter": "python",
   "pygments_lexer": "ipython3",
   "version": "3.8.5"
  }
 },
 "nbformat": 4,
 "nbformat_minor": 4
}
