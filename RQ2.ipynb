{
 "cells": [
  {
   "cell_type": "markdown",
   "id": "4947e222",
   "metadata": {},
   "source": [
    "__What text reviews say about genre? Are readers positive, negative or neutral towards genre?__"
   ]
  },
  {
   "cell_type": "code",
   "execution_count": 1,
   "id": "a57e2c0a",
   "metadata": {},
   "outputs": [],
   "source": [
    "import pandas as pd\n",
    "import re\n",
    "import time\n",
    "import datetime\n",
    "import numpy as np\n",
    "import matplotlib.pyplot as plt\n",
    "import numpy as np"
   ]
  },
  {
   "cell_type": "markdown",
   "id": "7ce30f9d",
   "metadata": {},
   "source": [
    "__Comics and Graphics__"
   ]
  },
  {
   "cell_type": "markdown",
   "id": "b4d4811b",
   "metadata": {},
   "source": [
    "__metadata and book review datasets__"
   ]
  },
  {
   "cell_type": "code",
   "execution_count": 2,
   "id": "8259ed5d",
   "metadata": {},
   "outputs": [],
   "source": [
    "review_comics = pd.read_json('books_review_comics_final.json')\n",
    "books_metadata_comics = pd.read_json('books_metadata_comics.json')"
   ]
  },
  {
   "cell_type": "code",
   "execution_count": 3,
   "id": "c515378a",
   "metadata": {
    "scrolled": true
   },
   "outputs": [
    {
     "data": {
      "text/html": [
       "<div>\n",
       "<style scoped>\n",
       "    .dataframe tbody tr th:only-of-type {\n",
       "        vertical-align: middle;\n",
       "    }\n",
       "\n",
       "    .dataframe tbody tr th {\n",
       "        vertical-align: top;\n",
       "    }\n",
       "\n",
       "    .dataframe thead th {\n",
       "        text-align: right;\n",
       "    }\n",
       "</style>\n",
       "<table border=\"1\" class=\"dataframe\">\n",
       "  <thead>\n",
       "    <tr style=\"text-align: right;\">\n",
       "      <th></th>\n",
       "      <th>index</th>\n",
       "      <th>user_id</th>\n",
       "      <th>book_id</th>\n",
       "      <th>review_id</th>\n",
       "      <th>rating</th>\n",
       "      <th>review_text</th>\n",
       "      <th>date_added</th>\n",
       "      <th>date_updated</th>\n",
       "      <th>read_at</th>\n",
       "      <th>n_votes</th>\n",
       "      <th>n_comments</th>\n",
       "    </tr>\n",
       "  </thead>\n",
       "  <tbody>\n",
       "    <tr>\n",
       "      <th>0</th>\n",
       "      <td>0</td>\n",
       "      <td>dc3763cdb9b2cae805882878eebb6a32</td>\n",
       "      <td>18471619</td>\n",
       "      <td>66b2ba840f9bd36d6d27f46136fe4772</td>\n",
       "      <td>3</td>\n",
       "      <td>Sherlock Holmes and the Vampires of London \\n ...</td>\n",
       "      <td>Thu Dec 05 10:44:25 -0800 2013</td>\n",
       "      <td>Thu Dec 05 10:45:15 -0800 2013</td>\n",
       "      <td>Tue Nov 05 00:00:00 -0800 2013</td>\n",
       "      <td>0</td>\n",
       "      <td>0</td>\n",
       "    </tr>\n",
       "    <tr>\n",
       "      <th>1</th>\n",
       "      <td>1</td>\n",
       "      <td>bafc2d50014200cda7cb2b6acd60cd73</td>\n",
       "      <td>6315584</td>\n",
       "      <td>72f1229aba5a88f9e72f0dcdc007dd22</td>\n",
       "      <td>4</td>\n",
       "      <td>I've never really liked Spider-Man. I am, howe...</td>\n",
       "      <td>Wed Aug 10 06:06:48 -0700 2016</td>\n",
       "      <td>Fri Aug 12 08:49:54 -0700 2016</td>\n",
       "      <td>Fri Aug 12 08:49:54 -0700 2016</td>\n",
       "      <td>0</td>\n",
       "      <td>0</td>\n",
       "    </tr>\n",
       "    <tr>\n",
       "      <th>2</th>\n",
       "      <td>3</td>\n",
       "      <td>bafc2d50014200cda7cb2b6acd60cd73</td>\n",
       "      <td>18454118</td>\n",
       "      <td>c3cc5a3e1d6b6c9cf1c044f306c8e752</td>\n",
       "      <td>5</td>\n",
       "      <td>I've been waiting so long for this. I first st...</td>\n",
       "      <td>Mon Mar 03 17:45:56 -0800 2014</td>\n",
       "      <td>Mon Mar 03 17:54:11 -0800 2014</td>\n",
       "      <td>Sat Mar 01 00:00:00 -0800 2014</td>\n",
       "      <td>1</td>\n",
       "      <td>0</td>\n",
       "    </tr>\n",
       "    <tr>\n",
       "      <th>3</th>\n",
       "      <td>4</td>\n",
       "      <td>bafc2d50014200cda7cb2b6acd60cd73</td>\n",
       "      <td>2239435</td>\n",
       "      <td>cc444be37ab0a42bfb4dd818cb5edd10</td>\n",
       "      <td>4</td>\n",
       "      <td>The only thing more entertaining than this boo...</td>\n",
       "      <td>Wed Apr 03 12:37:48 -0700 2013</td>\n",
       "      <td>Wed Apr 03 13:03:36 -0700 2013</td>\n",
       "      <td>Wed Apr 03 13:03:36 -0700 2013</td>\n",
       "      <td>0</td>\n",
       "      <td>0</td>\n",
       "    </tr>\n",
       "    <tr>\n",
       "      <th>4</th>\n",
       "      <td>6</td>\n",
       "      <td>bafc2d50014200cda7cb2b6acd60cd73</td>\n",
       "      <td>13526176</td>\n",
       "      <td>68267ebf90e2da0d96a3d6aefb5b8ac7</td>\n",
       "      <td>3</td>\n",
       "      <td>This wasn't my favourite Black Butler book. I ...</td>\n",
       "      <td>Thu Nov 15 13:28:38 -0800 2012</td>\n",
       "      <td>Thu Nov 15 13:32:17 -0800 2012</td>\n",
       "      <td>Thu Nov 15 13:32:17 -0800 2012</td>\n",
       "      <td>0</td>\n",
       "      <td>0</td>\n",
       "    </tr>\n",
       "  </tbody>\n",
       "</table>\n",
       "</div>"
      ],
      "text/plain": [
       "   index                           user_id   book_id  \\\n",
       "0      0  dc3763cdb9b2cae805882878eebb6a32  18471619   \n",
       "1      1  bafc2d50014200cda7cb2b6acd60cd73   6315584   \n",
       "2      3  bafc2d50014200cda7cb2b6acd60cd73  18454118   \n",
       "3      4  bafc2d50014200cda7cb2b6acd60cd73   2239435   \n",
       "4      6  bafc2d50014200cda7cb2b6acd60cd73  13526176   \n",
       "\n",
       "                          review_id  rating  \\\n",
       "0  66b2ba840f9bd36d6d27f46136fe4772       3   \n",
       "1  72f1229aba5a88f9e72f0dcdc007dd22       4   \n",
       "2  c3cc5a3e1d6b6c9cf1c044f306c8e752       5   \n",
       "3  cc444be37ab0a42bfb4dd818cb5edd10       4   \n",
       "4  68267ebf90e2da0d96a3d6aefb5b8ac7       3   \n",
       "\n",
       "                                         review_text  \\\n",
       "0  Sherlock Holmes and the Vampires of London \\n ...   \n",
       "1  I've never really liked Spider-Man. I am, howe...   \n",
       "2  I've been waiting so long for this. I first st...   \n",
       "3  The only thing more entertaining than this boo...   \n",
       "4  This wasn't my favourite Black Butler book. I ...   \n",
       "\n",
       "                       date_added                    date_updated  \\\n",
       "0  Thu Dec 05 10:44:25 -0800 2013  Thu Dec 05 10:45:15 -0800 2013   \n",
       "1  Wed Aug 10 06:06:48 -0700 2016  Fri Aug 12 08:49:54 -0700 2016   \n",
       "2  Mon Mar 03 17:45:56 -0800 2014  Mon Mar 03 17:54:11 -0800 2014   \n",
       "3  Wed Apr 03 12:37:48 -0700 2013  Wed Apr 03 13:03:36 -0700 2013   \n",
       "4  Thu Nov 15 13:28:38 -0800 2012  Thu Nov 15 13:32:17 -0800 2012   \n",
       "\n",
       "                          read_at  n_votes  n_comments  \n",
       "0  Tue Nov 05 00:00:00 -0800 2013        0           0  \n",
       "1  Fri Aug 12 08:49:54 -0700 2016        0           0  \n",
       "2  Sat Mar 01 00:00:00 -0800 2014        1           0  \n",
       "3  Wed Apr 03 13:03:36 -0700 2013        0           0  \n",
       "4  Thu Nov 15 13:32:17 -0800 2012        0           0  "
      ]
     },
     "execution_count": 3,
     "metadata": {},
     "output_type": "execute_result"
    }
   ],
   "source": [
    "review_comics.head()"
   ]
  },
  {
   "cell_type": "code",
   "execution_count": 4,
   "id": "1866c73b",
   "metadata": {},
   "outputs": [
    {
     "name": "stdout",
     "output_type": "stream",
     "text": [
      "<class 'pandas.core.frame.DataFrame'>\n",
      "Int64Index: 330052 entries, 0 to 330051\n",
      "Data columns (total 11 columns):\n",
      " #   Column        Non-Null Count   Dtype \n",
      "---  ------        --------------   ----- \n",
      " 0   index         330052 non-null  int64 \n",
      " 1   user_id       330052 non-null  object\n",
      " 2   book_id       330052 non-null  int64 \n",
      " 3   review_id     330052 non-null  object\n",
      " 4   rating        330052 non-null  int64 \n",
      " 5   review_text   330052 non-null  object\n",
      " 6   date_added    330052 non-null  object\n",
      " 7   date_updated  330052 non-null  object\n",
      " 8   read_at       330052 non-null  object\n",
      " 9   n_votes       330052 non-null  int64 \n",
      " 10  n_comments    330052 non-null  int64 \n",
      "dtypes: int64(5), object(6)\n",
      "memory usage: 30.2+ MB\n"
     ]
    }
   ],
   "source": [
    "review_comics.info()"
   ]
  },
  {
   "cell_type": "markdown",
   "id": "bcbb6381",
   "metadata": {},
   "source": [
    "__two columns extracted__\n",
    "* book_id\n",
    "* review_text"
   ]
  },
  {
   "cell_type": "code",
   "execution_count": 3,
   "id": "fce03f15",
   "metadata": {},
   "outputs": [],
   "source": [
    "review_texts = review_comics[['book_id','review_text']]"
   ]
  },
  {
   "cell_type": "markdown",
   "id": "dae73eb1",
   "metadata": {},
   "source": [
    "__50 text reviews__"
   ]
  },
  {
   "cell_type": "code",
   "execution_count": 5,
   "id": "90b490dd",
   "metadata": {
    "scrolled": true
   },
   "outputs": [
    {
     "data": {
      "text/plain": [
       "0     Sherlock Holmes and the Vampires of London \\n ...\n",
       "1     I've never really liked Spider-Man. I am, howe...\n",
       "2     I've been waiting so long for this. I first st...\n",
       "3     The only thing more entertaining than this boo...\n",
       "4     This wasn't my favourite Black Butler book. I ...\n",
       "5     Somehow I'd missed this one when reading every...\n",
       "6     More tears than laughter in this one. I'm both...\n",
       "7     I checked this out of the library as their Val...\n",
       "8     I got this in my Book Riot Horror Box and devo...\n",
       "9     One of our book club babes (Lauren? Ashley?) m...\n",
       "10    Tierno, comico y hermoso :) Un excelente regal...\n",
       "11    Las ilustraciones y las pequenas historias, so...\n",
       "12    Libro perfecto para ninos. Hermoso si te gusta...\n",
       "13                      !Fascinante de principio a fin!\n",
       "14    Written as a collection of graphic essays by v...\n",
       "15    Read this volume on recommendation (trying to ...\n",
       "16    pretty good overall. i really like the story \"...\n",
       "17    Lots of negative reviews here. I liked this, p...\n",
       "18    Camelot 3000 was one of my favorite comics bac...\n",
       "19    Very unfortunate that these stories are true b...\n",
       "20    I really enjoyed this collection of graphic sh...\n",
       "21    The graphics are excellent, but I felt cheated...\n",
       "22    I like it, I also liked the message never give...\n",
       "23                                        I enjoyed it.\n",
       "24    4.5 stars. Absolutely beautiful art and a comp...\n",
       "25    Beautiful, surreal manifestation of a more sob...\n",
       "26    A total joy. Loved the Chicago highlights and ...\n",
       "27    Meh. I'm over these quirky, illustrated filler...\n",
       "28    4.5 stars. I am a sucker for a good graphic me...\n",
       "29              Simply beautiful, evocative and unique.\n",
       "30    Really thats 3.5 stars (when is Goodreads goin...\n",
       "31    Although the book kind of let me down at the \"...\n",
       "32    This graphic travel journal records two month'...\n",
       "33    Just a horrible mess of a book, with very litt...\n",
       "34    I read the Marvel Graphic Novel Collection ver...\n",
       "35    I read this the first time round when it origi...\n",
       "36    Never read any She-Hulk before, so I didn't kn...\n",
       "37    Fantastic artwork! \\n However I, unfortunately...\n",
       "38    Absolutely hilarious! Definitely not for every...\n",
       "39    Very entertaining read. I read this mainly to ...\n",
       "40    4.5 \\n I loved this. It was so cute and gorgeo...\n",
       "41    For some reason this one was hard to follow al...\n",
       "42    THE REPRESENTATION IN THESE IS AMAZING!!! I lo...\n",
       "43                                                  4.5\n",
       "44    How am i suppose to wait till april for the ne...\n",
       "45    It was a cute start, though the author's last ...\n",
       "46    This is still ongoing, but it's so great. I lo...\n",
       "47    4.5 out of 5. \\n The ending is a bit abrupt an...\n",
       "48                This series is just so god damn good.\n",
       "49    Alucinante es poco. He visto dos episodios de ...\n",
       "Name: review_text, dtype: object"
      ]
     },
     "execution_count": 5,
     "metadata": {},
     "output_type": "execute_result"
    }
   ],
   "source": [
    "review_texts['review_text'][:50]"
   ]
  },
  {
   "cell_type": "markdown",
   "id": "7a56c413",
   "metadata": {},
   "source": [
    "__Data cleaning__"
   ]
  },
  {
   "cell_type": "code",
   "execution_count": 7,
   "id": "d8b0a136",
   "metadata": {},
   "outputs": [],
   "source": [
    "def clean_data(df):\n",
    "    total_time = 0\n",
    "    start = time.time()\n",
    "    \n",
    "    review = pd.DataFrame()\n",
    "    review['text'] = df['review_text']\n",
    "    \n",
    "    #convert text to lower case\n",
    "    review['text']  = review['text'].str.lower()\n",
    "    \n",
    "    #remove punctuations\n",
    "    #remove all non alphabetic characters\n",
    "    regex_1 = re.compile(r'[^a-zA-Z]')\n",
    "    review['text'] = pd.Series(review['text']).str.replace(regex_1, ' ')\n",
    "    \n",
    "    #reduce multi-space to single space\n",
    "    regex_2 = re.compile(r' +')\n",
    "    review['text'] = pd.Series(review['text']).str.replace(regex_2,' ')\n",
    "   \n",
    "    stop = time.time()\n",
    "    duration = stop-start\n",
    "    total_time = total_time + duration\n",
    "    time_taken = str(datetime.timedelta(seconds=total_time))    \n",
    "    print(\"Time taken/file :\",duration)\n",
    "    print(\"Total duration :\",time_taken)\n",
    "    \n",
    "    return review"
   ]
  },
  {
   "cell_type": "code",
   "execution_count": 8,
   "id": "1d618bab",
   "metadata": {
    "scrolled": false
   },
   "outputs": [
    {
     "name": "stdout",
     "output_type": "stream",
     "text": [
      "Time taken/file : 18.526026010513306\n",
      "Total duration : 0:00:18.526026\n"
     ]
    }
   ],
   "source": [
    "comics_reviews = clean_data(review_texts)"
   ]
  },
  {
   "cell_type": "code",
   "execution_count": 9,
   "id": "4af6a24e",
   "metadata": {
    "scrolled": true
   },
   "outputs": [
    {
     "data": {
      "text/html": [
       "<div>\n",
       "<style scoped>\n",
       "    .dataframe tbody tr th:only-of-type {\n",
       "        vertical-align: middle;\n",
       "    }\n",
       "\n",
       "    .dataframe tbody tr th {\n",
       "        vertical-align: top;\n",
       "    }\n",
       "\n",
       "    .dataframe thead th {\n",
       "        text-align: right;\n",
       "    }\n",
       "</style>\n",
       "<table border=\"1\" class=\"dataframe\">\n",
       "  <thead>\n",
       "    <tr style=\"text-align: right;\">\n",
       "      <th></th>\n",
       "      <th>text</th>\n",
       "    </tr>\n",
       "  </thead>\n",
       "  <tbody>\n",
       "    <tr>\n",
       "      <th>0</th>\n",
       "      <td>sherlock holmes and the vampires of london rel...</td>\n",
       "    </tr>\n",
       "    <tr>\n",
       "      <th>1</th>\n",
       "      <td>i ve never really liked spider man i am howeve...</td>\n",
       "    </tr>\n",
       "    <tr>\n",
       "      <th>2</th>\n",
       "      <td>i ve been waiting so long for this i first stu...</td>\n",
       "    </tr>\n",
       "    <tr>\n",
       "      <th>3</th>\n",
       "      <td>the only thing more entertaining than this boo...</td>\n",
       "    </tr>\n",
       "    <tr>\n",
       "      <th>4</th>\n",
       "      <td>this wasn t my favourite black butler book i w...</td>\n",
       "    </tr>\n",
       "  </tbody>\n",
       "</table>\n",
       "</div>"
      ],
      "text/plain": [
       "                                                text\n",
       "0  sherlock holmes and the vampires of london rel...\n",
       "1  i ve never really liked spider man i am howeve...\n",
       "2  i ve been waiting so long for this i first stu...\n",
       "3  the only thing more entertaining than this boo...\n",
       "4  this wasn t my favourite black butler book i w..."
      ]
     },
     "execution_count": 9,
     "metadata": {},
     "output_type": "execute_result"
    }
   ],
   "source": [
    "comics_reviews.head()"
   ]
  },
  {
   "cell_type": "code",
   "execution_count": 10,
   "id": "a4cf89a6",
   "metadata": {},
   "outputs": [],
   "source": [
    "comics_reviews['book_id'] = review_texts['book_id']"
   ]
  },
  {
   "cell_type": "code",
   "execution_count": 11,
   "id": "60590d5b",
   "metadata": {},
   "outputs": [
    {
     "data": {
      "text/plain": [
       "(330052, 2)"
      ]
     },
     "execution_count": 11,
     "metadata": {},
     "output_type": "execute_result"
    }
   ],
   "source": [
    "comics_reviews.shape"
   ]
  },
  {
   "cell_type": "code",
   "execution_count": 12,
   "id": "15fd1a62",
   "metadata": {},
   "outputs": [
    {
     "data": {
      "text/html": [
       "<div>\n",
       "<style scoped>\n",
       "    .dataframe tbody tr th:only-of-type {\n",
       "        vertical-align: middle;\n",
       "    }\n",
       "\n",
       "    .dataframe tbody tr th {\n",
       "        vertical-align: top;\n",
       "    }\n",
       "\n",
       "    .dataframe thead th {\n",
       "        text-align: right;\n",
       "    }\n",
       "</style>\n",
       "<table border=\"1\" class=\"dataframe\">\n",
       "  <thead>\n",
       "    <tr style=\"text-align: right;\">\n",
       "      <th></th>\n",
       "      <th>text</th>\n",
       "      <th>book_id</th>\n",
       "    </tr>\n",
       "  </thead>\n",
       "  <tbody>\n",
       "    <tr>\n",
       "      <th>0</th>\n",
       "      <td>sherlock holmes and the vampires of london rel...</td>\n",
       "      <td>18471619</td>\n",
       "    </tr>\n",
       "    <tr>\n",
       "      <th>1</th>\n",
       "      <td>i ve never really liked spider man i am howeve...</td>\n",
       "      <td>6315584</td>\n",
       "    </tr>\n",
       "    <tr>\n",
       "      <th>2</th>\n",
       "      <td>i ve been waiting so long for this i first stu...</td>\n",
       "      <td>18454118</td>\n",
       "    </tr>\n",
       "    <tr>\n",
       "      <th>3</th>\n",
       "      <td>the only thing more entertaining than this boo...</td>\n",
       "      <td>2239435</td>\n",
       "    </tr>\n",
       "    <tr>\n",
       "      <th>4</th>\n",
       "      <td>this wasn t my favourite black butler book i w...</td>\n",
       "      <td>13526176</td>\n",
       "    </tr>\n",
       "  </tbody>\n",
       "</table>\n",
       "</div>"
      ],
      "text/plain": [
       "                                                text   book_id\n",
       "0  sherlock holmes and the vampires of london rel...  18471619\n",
       "1  i ve never really liked spider man i am howeve...   6315584\n",
       "2  i ve been waiting so long for this i first stu...  18454118\n",
       "3  the only thing more entertaining than this boo...   2239435\n",
       "4  this wasn t my favourite black butler book i w...  13526176"
      ]
     },
     "execution_count": 12,
     "metadata": {},
     "output_type": "execute_result"
    }
   ],
   "source": [
    "comics_reviews.head()"
   ]
  },
  {
   "cell_type": "markdown",
   "id": "3e84d49a",
   "metadata": {},
   "source": [
    "__Get all the book ids from metadata__"
   ]
  },
  {
   "cell_type": "code",
   "execution_count": 13,
   "id": "04a01f97",
   "metadata": {},
   "outputs": [],
   "source": [
    "book_ids = books_metadata_comics['book_id']"
   ]
  },
  {
   "cell_type": "code",
   "execution_count": 14,
   "id": "b5561cd2",
   "metadata": {},
   "outputs": [
    {
     "data": {
      "text/plain": [
       "(23937,)"
      ]
     },
     "execution_count": 14,
     "metadata": {},
     "output_type": "execute_result"
    }
   ],
   "source": [
    "book_ids.shape"
   ]
  },
  {
   "cell_type": "markdown",
   "id": "f3e961d6",
   "metadata": {},
   "source": [
    "__get only those clean text that have book_id equal to book_ids__\n",
    "* where book_ids are the ids from metadata"
   ]
  },
  {
   "cell_type": "code",
   "execution_count": 15,
   "id": "fb1f3f22",
   "metadata": {},
   "outputs": [],
   "source": [
    "comics_reviews = comics_reviews.loc[comics_reviews['book_id'].isin(book_ids)]"
   ]
  },
  {
   "cell_type": "code",
   "execution_count": 16,
   "id": "3418de40",
   "metadata": {},
   "outputs": [
    {
     "data": {
      "text/plain": [
       "(329149, 2)"
      ]
     },
     "execution_count": 16,
     "metadata": {},
     "output_type": "execute_result"
    }
   ],
   "source": [
    "comics_reviews.shape"
   ]
  },
  {
   "cell_type": "code",
   "execution_count": 17,
   "id": "2597daaf",
   "metadata": {
    "scrolled": true
   },
   "outputs": [
    {
     "data": {
      "text/html": [
       "<div>\n",
       "<style scoped>\n",
       "    .dataframe tbody tr th:only-of-type {\n",
       "        vertical-align: middle;\n",
       "    }\n",
       "\n",
       "    .dataframe tbody tr th {\n",
       "        vertical-align: top;\n",
       "    }\n",
       "\n",
       "    .dataframe thead th {\n",
       "        text-align: right;\n",
       "    }\n",
       "</style>\n",
       "<table border=\"1\" class=\"dataframe\">\n",
       "  <thead>\n",
       "    <tr style=\"text-align: right;\">\n",
       "      <th></th>\n",
       "      <th>text</th>\n",
       "      <th>book_id</th>\n",
       "    </tr>\n",
       "  </thead>\n",
       "  <tbody>\n",
       "    <tr>\n",
       "      <th>0</th>\n",
       "      <td>sherlock holmes and the vampires of london rel...</td>\n",
       "      <td>18471619</td>\n",
       "    </tr>\n",
       "    <tr>\n",
       "      <th>1</th>\n",
       "      <td>i ve never really liked spider man i am howeve...</td>\n",
       "      <td>6315584</td>\n",
       "    </tr>\n",
       "    <tr>\n",
       "      <th>2</th>\n",
       "      <td>i ve been waiting so long for this i first stu...</td>\n",
       "      <td>18454118</td>\n",
       "    </tr>\n",
       "    <tr>\n",
       "      <th>3</th>\n",
       "      <td>the only thing more entertaining than this boo...</td>\n",
       "      <td>2239435</td>\n",
       "    </tr>\n",
       "    <tr>\n",
       "      <th>4</th>\n",
       "      <td>this wasn t my favourite black butler book i w...</td>\n",
       "      <td>13526176</td>\n",
       "    </tr>\n",
       "  </tbody>\n",
       "</table>\n",
       "</div>"
      ],
      "text/plain": [
       "                                                text   book_id\n",
       "0  sherlock holmes and the vampires of london rel...  18471619\n",
       "1  i ve never really liked spider man i am howeve...   6315584\n",
       "2  i ve been waiting so long for this i first stu...  18454118\n",
       "3  the only thing more entertaining than this boo...   2239435\n",
       "4  this wasn t my favourite black butler book i w...  13526176"
      ]
     },
     "execution_count": 17,
     "metadata": {},
     "output_type": "execute_result"
    }
   ],
   "source": [
    "comics_reviews.head()"
   ]
  },
  {
   "cell_type": "markdown",
   "id": "56805a47",
   "metadata": {},
   "source": [
    "__get publication year for book_id from metadata__"
   ]
  },
  {
   "cell_type": "code",
   "execution_count": 18,
   "id": "4b76e2de",
   "metadata": {},
   "outputs": [],
   "source": [
    "review_result = pd.merge(books_metadata_comics[['book_id','publication_year']], comics_reviews, on='book_id')"
   ]
  },
  {
   "cell_type": "code",
   "execution_count": 19,
   "id": "579e98f3",
   "metadata": {},
   "outputs": [
    {
     "data": {
      "text/plain": [
       "(329149, 3)"
      ]
     },
     "execution_count": 19,
     "metadata": {},
     "output_type": "execute_result"
    }
   ],
   "source": [
    "review_result.shape"
   ]
  },
  {
   "cell_type": "markdown",
   "id": "7eac8c17",
   "metadata": {},
   "source": [
    "__new dataframe ready for algorithm__"
   ]
  },
  {
   "cell_type": "code",
   "execution_count": 20,
   "id": "dd0a6d5c",
   "metadata": {
    "scrolled": false
   },
   "outputs": [
    {
     "data": {
      "text/html": [
       "<div>\n",
       "<style scoped>\n",
       "    .dataframe tbody tr th:only-of-type {\n",
       "        vertical-align: middle;\n",
       "    }\n",
       "\n",
       "    .dataframe tbody tr th {\n",
       "        vertical-align: top;\n",
       "    }\n",
       "\n",
       "    .dataframe thead th {\n",
       "        text-align: right;\n",
       "    }\n",
       "</style>\n",
       "<table border=\"1\" class=\"dataframe\">\n",
       "  <thead>\n",
       "    <tr style=\"text-align: right;\">\n",
       "      <th></th>\n",
       "      <th>book_id</th>\n",
       "      <th>publication_year</th>\n",
       "      <th>text</th>\n",
       "    </tr>\n",
       "  </thead>\n",
       "  <tbody>\n",
       "    <tr>\n",
       "      <th>0</th>\n",
       "      <td>13571772</td>\n",
       "      <td>2012</td>\n",
       "      <td>it s an o k story much better than some other ...</td>\n",
       "    </tr>\n",
       "    <tr>\n",
       "      <th>1</th>\n",
       "      <td>13571772</td>\n",
       "      <td>2012</td>\n",
       "      <td>a captain america story involving a russian as...</td>\n",
       "    </tr>\n",
       "    <tr>\n",
       "      <th>2</th>\n",
       "      <td>13571772</td>\n",
       "      <td>2012</td>\n",
       "      <td>i read this in order to prepare myself for the...</td>\n",
       "    </tr>\n",
       "    <tr>\n",
       "      <th>3</th>\n",
       "      <td>707611</td>\n",
       "      <td>1997</td>\n",
       "      <td>action</td>\n",
       "    </tr>\n",
       "    <tr>\n",
       "      <th>4</th>\n",
       "      <td>27036536</td>\n",
       "      <td>2016</td>\n",
       "      <td>ennis has written brilliant war stories in the...</td>\n",
       "    </tr>\n",
       "  </tbody>\n",
       "</table>\n",
       "</div>"
      ],
      "text/plain": [
       "    book_id  publication_year  \\\n",
       "0  13571772              2012   \n",
       "1  13571772              2012   \n",
       "2  13571772              2012   \n",
       "3    707611              1997   \n",
       "4  27036536              2016   \n",
       "\n",
       "                                                text  \n",
       "0  it s an o k story much better than some other ...  \n",
       "1  a captain america story involving a russian as...  \n",
       "2  i read this in order to prepare myself for the...  \n",
       "3                                            action   \n",
       "4  ennis has written brilliant war stories in the...  "
      ]
     },
     "execution_count": 20,
     "metadata": {},
     "output_type": "execute_result"
    }
   ],
   "source": [
    "review_result.head()"
   ]
  },
  {
   "cell_type": "code",
   "execution_count": null,
   "id": "6730985e",
   "metadata": {},
   "outputs": [],
   "source": []
  },
  {
   "cell_type": "markdown",
   "id": "f9b7af35",
   "metadata": {},
   "source": [
    "# Sentiment analysis: vader"
   ]
  },
  {
   "cell_type": "code",
   "execution_count": 21,
   "id": "d5f1ea96",
   "metadata": {
    "scrolled": false
   },
   "outputs": [
    {
     "name": "stderr",
     "output_type": "stream",
     "text": [
      "[nltk_data] Downloading package vader_lexicon to\n",
      "[nltk_data]     /Users/uni/nltk_data...\n",
      "[nltk_data]   Package vader_lexicon is already up-to-date!\n"
     ]
    },
    {
     "data": {
      "text/plain": [
       "True"
      ]
     },
     "execution_count": 21,
     "metadata": {},
     "output_type": "execute_result"
    }
   ],
   "source": [
    "import nltk\n",
    "nltk.download('vader_lexicon')"
   ]
  },
  {
   "cell_type": "markdown",
   "id": "73107124",
   "metadata": {},
   "source": [
    "__initialize__"
   ]
  },
  {
   "cell_type": "code",
   "execution_count": 22,
   "id": "b5730f67",
   "metadata": {},
   "outputs": [],
   "source": [
    "from nltk.sentiment.vader import SentimentIntensityAnalyzer\n",
    "sid = SentimentIntensityAnalyzer()"
   ]
  },
  {
   "cell_type": "markdown",
   "id": "861be7f2",
   "metadata": {},
   "source": [
    "__calculate the sentiment scores__"
   ]
  },
  {
   "cell_type": "code",
   "execution_count": 23,
   "id": "193ee721",
   "metadata": {},
   "outputs": [],
   "source": [
    "review_result['scores'] = review_result['text'].apply(lambda text: sid.polarity_scores(text))"
   ]
  },
  {
   "cell_type": "markdown",
   "id": "9c4a34d8",
   "metadata": {},
   "source": [
    "__separate the scores in the different columns__"
   ]
  },
  {
   "cell_type": "code",
   "execution_count": 24,
   "id": "72c1bc1c",
   "metadata": {},
   "outputs": [],
   "source": [
    "review_result['compound'] = review_result['scores'].apply(lambda sc_dict: sc_dict['compound'])"
   ]
  },
  {
   "cell_type": "code",
   "execution_count": 25,
   "id": "17b54270",
   "metadata": {},
   "outputs": [],
   "source": [
    "review_result['neg'] = review_result['scores'].apply(lambda sc_dict: sc_dict['neg'])\n",
    "review_result['neu'] = review_result['scores'].apply(lambda sc_dict: sc_dict['neu'])\n",
    "review_result['pos'] = review_result['scores'].apply(lambda sc_dict: sc_dict['pos'])"
   ]
  },
  {
   "cell_type": "markdown",
   "id": "db2fae58",
   "metadata": {},
   "source": [
    "__Scores separated in different columns__"
   ]
  },
  {
   "cell_type": "code",
   "execution_count": 26,
   "id": "e077276c",
   "metadata": {},
   "outputs": [
    {
     "data": {
      "text/html": [
       "<div>\n",
       "<style scoped>\n",
       "    .dataframe tbody tr th:only-of-type {\n",
       "        vertical-align: middle;\n",
       "    }\n",
       "\n",
       "    .dataframe tbody tr th {\n",
       "        vertical-align: top;\n",
       "    }\n",
       "\n",
       "    .dataframe thead th {\n",
       "        text-align: right;\n",
       "    }\n",
       "</style>\n",
       "<table border=\"1\" class=\"dataframe\">\n",
       "  <thead>\n",
       "    <tr style=\"text-align: right;\">\n",
       "      <th></th>\n",
       "      <th>book_id</th>\n",
       "      <th>publication_year</th>\n",
       "      <th>text</th>\n",
       "      <th>scores</th>\n",
       "      <th>compound</th>\n",
       "      <th>neg</th>\n",
       "      <th>neu</th>\n",
       "      <th>pos</th>\n",
       "    </tr>\n",
       "  </thead>\n",
       "  <tbody>\n",
       "    <tr>\n",
       "      <th>0</th>\n",
       "      <td>13571772</td>\n",
       "      <td>2012</td>\n",
       "      <td>it s an o k story much better than some other ...</td>\n",
       "      <td>{'neg': 0.0, 'neu': 0.871, 'pos': 0.129, 'comp...</td>\n",
       "      <td>0.7514</td>\n",
       "      <td>0.000</td>\n",
       "      <td>0.871</td>\n",
       "      <td>0.129</td>\n",
       "    </tr>\n",
       "    <tr>\n",
       "      <th>1</th>\n",
       "      <td>13571772</td>\n",
       "      <td>2012</td>\n",
       "      <td>a captain america story involving a russian as...</td>\n",
       "      <td>{'neg': 0.032, 'neu': 0.902, 'pos': 0.066, 'co...</td>\n",
       "      <td>0.7002</td>\n",
       "      <td>0.032</td>\n",
       "      <td>0.902</td>\n",
       "      <td>0.066</td>\n",
       "    </tr>\n",
       "    <tr>\n",
       "      <th>2</th>\n",
       "      <td>13571772</td>\n",
       "      <td>2012</td>\n",
       "      <td>i read this in order to prepare myself for the...</td>\n",
       "      <td>{'neg': 0.0, 'neu': 0.804, 'pos': 0.196, 'comp...</td>\n",
       "      <td>0.9535</td>\n",
       "      <td>0.000</td>\n",
       "      <td>0.804</td>\n",
       "      <td>0.196</td>\n",
       "    </tr>\n",
       "    <tr>\n",
       "      <th>3</th>\n",
       "      <td>707611</td>\n",
       "      <td>1997</td>\n",
       "      <td>action</td>\n",
       "      <td>{'neg': 0.0, 'neu': 1.0, 'pos': 0.0, 'compound...</td>\n",
       "      <td>0.0000</td>\n",
       "      <td>0.000</td>\n",
       "      <td>1.000</td>\n",
       "      <td>0.000</td>\n",
       "    </tr>\n",
       "    <tr>\n",
       "      <th>4</th>\n",
       "      <td>27036536</td>\n",
       "      <td>2016</td>\n",
       "      <td>ennis has written brilliant war stories in the...</td>\n",
       "      <td>{'neg': 0.104, 'neu': 0.55, 'pos': 0.347, 'com...</td>\n",
       "      <td>0.6956</td>\n",
       "      <td>0.104</td>\n",
       "      <td>0.550</td>\n",
       "      <td>0.347</td>\n",
       "    </tr>\n",
       "  </tbody>\n",
       "</table>\n",
       "</div>"
      ],
      "text/plain": [
       "    book_id  publication_year  \\\n",
       "0  13571772              2012   \n",
       "1  13571772              2012   \n",
       "2  13571772              2012   \n",
       "3    707611              1997   \n",
       "4  27036536              2016   \n",
       "\n",
       "                                                text  \\\n",
       "0  it s an o k story much better than some other ...   \n",
       "1  a captain america story involving a russian as...   \n",
       "2  i read this in order to prepare myself for the...   \n",
       "3                                            action    \n",
       "4  ennis has written brilliant war stories in the...   \n",
       "\n",
       "                                              scores  compound    neg    neu  \\\n",
       "0  {'neg': 0.0, 'neu': 0.871, 'pos': 0.129, 'comp...    0.7514  0.000  0.871   \n",
       "1  {'neg': 0.032, 'neu': 0.902, 'pos': 0.066, 'co...    0.7002  0.032  0.902   \n",
       "2  {'neg': 0.0, 'neu': 0.804, 'pos': 0.196, 'comp...    0.9535  0.000  0.804   \n",
       "3  {'neg': 0.0, 'neu': 1.0, 'pos': 0.0, 'compound...    0.0000  0.000  1.000   \n",
       "4  {'neg': 0.104, 'neu': 0.55, 'pos': 0.347, 'com...    0.6956  0.104  0.550   \n",
       "\n",
       "     pos  \n",
       "0  0.129  \n",
       "1  0.066  \n",
       "2  0.196  \n",
       "3  0.000  \n",
       "4  0.347  "
      ]
     },
     "execution_count": 26,
     "metadata": {},
     "output_type": "execute_result"
    }
   ],
   "source": [
    "review_result.head()"
   ]
  },
  {
   "cell_type": "markdown",
   "id": "d35318da",
   "metadata": {},
   "source": [
    "__pos neu neg sentiment per publication year__"
   ]
  },
  {
   "cell_type": "code",
   "execution_count": 37,
   "id": "668b59d3",
   "metadata": {},
   "outputs": [],
   "source": [
    "pos_neu_neg = review_result[['publication_year','pos','neu','neg','compound']]"
   ]
  },
  {
   "cell_type": "code",
   "execution_count": 38,
   "id": "53d69853",
   "metadata": {
    "scrolled": false
   },
   "outputs": [
    {
     "data": {
      "text/html": [
       "<div>\n",
       "<style scoped>\n",
       "    .dataframe tbody tr th:only-of-type {\n",
       "        vertical-align: middle;\n",
       "    }\n",
       "\n",
       "    .dataframe tbody tr th {\n",
       "        vertical-align: top;\n",
       "    }\n",
       "\n",
       "    .dataframe thead th {\n",
       "        text-align: right;\n",
       "    }\n",
       "</style>\n",
       "<table border=\"1\" class=\"dataframe\">\n",
       "  <thead>\n",
       "    <tr style=\"text-align: right;\">\n",
       "      <th></th>\n",
       "      <th>publication_year</th>\n",
       "      <th>pos</th>\n",
       "      <th>neu</th>\n",
       "      <th>neg</th>\n",
       "      <th>compound</th>\n",
       "    </tr>\n",
       "  </thead>\n",
       "  <tbody>\n",
       "    <tr>\n",
       "      <th>0</th>\n",
       "      <td>2012</td>\n",
       "      <td>0.129</td>\n",
       "      <td>0.871</td>\n",
       "      <td>0.000</td>\n",
       "      <td>0.7514</td>\n",
       "    </tr>\n",
       "    <tr>\n",
       "      <th>1</th>\n",
       "      <td>2012</td>\n",
       "      <td>0.066</td>\n",
       "      <td>0.902</td>\n",
       "      <td>0.032</td>\n",
       "      <td>0.7002</td>\n",
       "    </tr>\n",
       "    <tr>\n",
       "      <th>2</th>\n",
       "      <td>2012</td>\n",
       "      <td>0.196</td>\n",
       "      <td>0.804</td>\n",
       "      <td>0.000</td>\n",
       "      <td>0.9535</td>\n",
       "    </tr>\n",
       "    <tr>\n",
       "      <th>3</th>\n",
       "      <td>1997</td>\n",
       "      <td>0.000</td>\n",
       "      <td>1.000</td>\n",
       "      <td>0.000</td>\n",
       "      <td>0.0000</td>\n",
       "    </tr>\n",
       "    <tr>\n",
       "      <th>4</th>\n",
       "      <td>2016</td>\n",
       "      <td>0.347</td>\n",
       "      <td>0.550</td>\n",
       "      <td>0.104</td>\n",
       "      <td>0.6956</td>\n",
       "    </tr>\n",
       "  </tbody>\n",
       "</table>\n",
       "</div>"
      ],
      "text/plain": [
       "   publication_year    pos    neu    neg  compound\n",
       "0              2012  0.129  0.871  0.000    0.7514\n",
       "1              2012  0.066  0.902  0.032    0.7002\n",
       "2              2012  0.196  0.804  0.000    0.9535\n",
       "3              1997  0.000  1.000  0.000    0.0000\n",
       "4              2016  0.347  0.550  0.104    0.6956"
      ]
     },
     "execution_count": 38,
     "metadata": {},
     "output_type": "execute_result"
    }
   ],
   "source": [
    "pos_neu_neg.head()"
   ]
  },
  {
   "cell_type": "code",
   "execution_count": 39,
   "id": "8ef272f2",
   "metadata": {},
   "outputs": [
    {
     "data": {
      "text/plain": [
       "(329149, 5)"
      ]
     },
     "execution_count": 39,
     "metadata": {},
     "output_type": "execute_result"
    }
   ],
   "source": [
    "pos_neu_neg.shape"
   ]
  },
  {
   "cell_type": "markdown",
   "id": "e3b41a09",
   "metadata": {},
   "source": [
    "__calculate standard deviation of each column for each publication year__"
   ]
  },
  {
   "cell_type": "code",
   "execution_count": 40,
   "id": "d486c309",
   "metadata": {},
   "outputs": [],
   "source": [
    "std_compound = pos_neu_neg.groupby('publication_year').agg(np.std)\n",
    "count = pos_neu_neg.groupby('publication_year').agg('count')"
   ]
  },
  {
   "cell_type": "code",
   "execution_count": 41,
   "id": "323cf86b",
   "metadata": {},
   "outputs": [
    {
     "data": {
      "text/html": [
       "<div>\n",
       "<style scoped>\n",
       "    .dataframe tbody tr th:only-of-type {\n",
       "        vertical-align: middle;\n",
       "    }\n",
       "\n",
       "    .dataframe tbody tr th {\n",
       "        vertical-align: top;\n",
       "    }\n",
       "\n",
       "    .dataframe thead th {\n",
       "        text-align: right;\n",
       "    }\n",
       "</style>\n",
       "<table border=\"1\" class=\"dataframe\">\n",
       "  <thead>\n",
       "    <tr style=\"text-align: right;\">\n",
       "      <th></th>\n",
       "      <th>pos</th>\n",
       "      <th>neu</th>\n",
       "      <th>neg</th>\n",
       "      <th>compound</th>\n",
       "    </tr>\n",
       "    <tr>\n",
       "      <th>publication_year</th>\n",
       "      <th></th>\n",
       "      <th></th>\n",
       "      <th></th>\n",
       "      <th></th>\n",
       "    </tr>\n",
       "  </thead>\n",
       "  <tbody>\n",
       "    <tr>\n",
       "      <th>1986</th>\n",
       "      <td>0.174752</td>\n",
       "      <td>0.198074</td>\n",
       "      <td>0.123521</td>\n",
       "      <td>0.583991</td>\n",
       "    </tr>\n",
       "    <tr>\n",
       "      <th>1987</th>\n",
       "      <td>0.194031</td>\n",
       "      <td>0.222219</td>\n",
       "      <td>0.097969</td>\n",
       "      <td>0.524995</td>\n",
       "    </tr>\n",
       "    <tr>\n",
       "      <th>1988</th>\n",
       "      <td>0.206817</td>\n",
       "      <td>0.209279</td>\n",
       "      <td>0.095339</td>\n",
       "      <td>0.547764</td>\n",
       "    </tr>\n",
       "    <tr>\n",
       "      <th>1989</th>\n",
       "      <td>0.149840</td>\n",
       "      <td>0.195151</td>\n",
       "      <td>0.104693</td>\n",
       "      <td>0.519097</td>\n",
       "    </tr>\n",
       "    <tr>\n",
       "      <th>1990</th>\n",
       "      <td>0.176908</td>\n",
       "      <td>0.190453</td>\n",
       "      <td>0.108737</td>\n",
       "      <td>0.522934</td>\n",
       "    </tr>\n",
       "  </tbody>\n",
       "</table>\n",
       "</div>"
      ],
      "text/plain": [
       "                       pos       neu       neg  compound\n",
       "publication_year                                        \n",
       "1986              0.174752  0.198074  0.123521  0.583991\n",
       "1987              0.194031  0.222219  0.097969  0.524995\n",
       "1988              0.206817  0.209279  0.095339  0.547764\n",
       "1989              0.149840  0.195151  0.104693  0.519097\n",
       "1990              0.176908  0.190453  0.108737  0.522934"
      ]
     },
     "execution_count": 41,
     "metadata": {},
     "output_type": "execute_result"
    }
   ],
   "source": [
    "std_compound.head()"
   ]
  },
  {
   "cell_type": "code",
   "execution_count": 42,
   "id": "07cf3382",
   "metadata": {},
   "outputs": [],
   "source": [
    "pos_neu_neg = pos_neu_neg.groupby('publication_year').agg('mean')"
   ]
  },
  {
   "cell_type": "code",
   "execution_count": 43,
   "id": "88bd88d8",
   "metadata": {},
   "outputs": [],
   "source": [
    "pos_neu_neg['review_count'] = count['compound']\n",
    "pos_neu_neg['std_compound'] = std_compound['compound']\n",
    "pos_neu_neg['std_err'] = pos_neu_neg['std_compound']/np.sqrt(pos_neu_neg['review_count'])"
   ]
  },
  {
   "cell_type": "markdown",
   "id": "d78facf2",
   "metadata": {},
   "source": [
    "__Finally table with are ready__\n",
    "* compound value \n",
    "* review_count for each publication year\n",
    "* standard deviation of compound value for each publication year\n",
    "* standard error of compound values for each publication year"
   ]
  },
  {
   "cell_type": "code",
   "execution_count": 44,
   "id": "70ad86db",
   "metadata": {},
   "outputs": [
    {
     "data": {
      "text/html": [
       "<div>\n",
       "<style scoped>\n",
       "    .dataframe tbody tr th:only-of-type {\n",
       "        vertical-align: middle;\n",
       "    }\n",
       "\n",
       "    .dataframe tbody tr th {\n",
       "        vertical-align: top;\n",
       "    }\n",
       "\n",
       "    .dataframe thead th {\n",
       "        text-align: right;\n",
       "    }\n",
       "</style>\n",
       "<table border=\"1\" class=\"dataframe\">\n",
       "  <thead>\n",
       "    <tr style=\"text-align: right;\">\n",
       "      <th></th>\n",
       "      <th>pos</th>\n",
       "      <th>neu</th>\n",
       "      <th>neg</th>\n",
       "      <th>compound</th>\n",
       "      <th>review_count</th>\n",
       "      <th>std_compound</th>\n",
       "      <th>std_err</th>\n",
       "    </tr>\n",
       "    <tr>\n",
       "      <th>publication_year</th>\n",
       "      <th></th>\n",
       "      <th></th>\n",
       "      <th></th>\n",
       "      <th></th>\n",
       "      <th></th>\n",
       "      <th></th>\n",
       "      <th></th>\n",
       "    </tr>\n",
       "  </thead>\n",
       "  <tbody>\n",
       "    <tr>\n",
       "      <th>1986</th>\n",
       "      <td>0.190792</td>\n",
       "      <td>0.718015</td>\n",
       "      <td>0.079784</td>\n",
       "      <td>0.375856</td>\n",
       "      <td>264</td>\n",
       "      <td>0.583991</td>\n",
       "      <td>0.035942</td>\n",
       "    </tr>\n",
       "    <tr>\n",
       "      <th>1987</th>\n",
       "      <td>0.207278</td>\n",
       "      <td>0.717357</td>\n",
       "      <td>0.057762</td>\n",
       "      <td>0.382869</td>\n",
       "      <td>227</td>\n",
       "      <td>0.524995</td>\n",
       "      <td>0.034845</td>\n",
       "    </tr>\n",
       "    <tr>\n",
       "      <th>1988</th>\n",
       "      <td>0.195794</td>\n",
       "      <td>0.747070</td>\n",
       "      <td>0.052789</td>\n",
       "      <td>0.403447</td>\n",
       "      <td>228</td>\n",
       "      <td>0.547764</td>\n",
       "      <td>0.036277</td>\n",
       "    </tr>\n",
       "    <tr>\n",
       "      <th>1989</th>\n",
       "      <td>0.172579</td>\n",
       "      <td>0.736890</td>\n",
       "      <td>0.071368</td>\n",
       "      <td>0.426977</td>\n",
       "      <td>209</td>\n",
       "      <td>0.519097</td>\n",
       "      <td>0.035907</td>\n",
       "    </tr>\n",
       "    <tr>\n",
       "      <th>1990</th>\n",
       "      <td>0.196705</td>\n",
       "      <td>0.728524</td>\n",
       "      <td>0.066894</td>\n",
       "      <td>0.450091</td>\n",
       "      <td>254</td>\n",
       "      <td>0.522934</td>\n",
       "      <td>0.032812</td>\n",
       "    </tr>\n",
       "  </tbody>\n",
       "</table>\n",
       "</div>"
      ],
      "text/plain": [
       "                       pos       neu       neg  compound  review_count  \\\n",
       "publication_year                                                         \n",
       "1986              0.190792  0.718015  0.079784  0.375856           264   \n",
       "1987              0.207278  0.717357  0.057762  0.382869           227   \n",
       "1988              0.195794  0.747070  0.052789  0.403447           228   \n",
       "1989              0.172579  0.736890  0.071368  0.426977           209   \n",
       "1990              0.196705  0.728524  0.066894  0.450091           254   \n",
       "\n",
       "                  std_compound   std_err  \n",
       "publication_year                          \n",
       "1986                  0.583991  0.035942  \n",
       "1987                  0.524995  0.034845  \n",
       "1988                  0.547764  0.036277  \n",
       "1989                  0.519097  0.035907  \n",
       "1990                  0.522934  0.032812  "
      ]
     },
     "execution_count": 44,
     "metadata": {},
     "output_type": "execute_result"
    }
   ],
   "source": [
    "pos_neu_neg.head()"
   ]
  },
  {
   "cell_type": "markdown",
   "id": "5b5e8d8e",
   "metadata": {},
   "source": [
    "__plot of compound sentiment (used in paper)__"
   ]
  },
  {
   "cell_type": "code",
   "execution_count": 86,
   "id": "695575f1",
   "metadata": {
    "scrolled": true
   },
   "outputs": [
    {
     "data": {
      "text/plain": [
       "<AxesSubplot:xlabel='publication_year', ylabel='sentiment'>"
      ]
     },
     "execution_count": 86,
     "metadata": {},
     "output_type": "execute_result"
    },
    {
     "data": {
      "image/png": "[encoded data removed]",
      "text/plain": [
       "<Figure size 720x360 with 1 Axes>"
      ]
     },
     "metadata": {
      "needs_background": "light"
     },
     "output_type": "display_data"
    }
   ],
   "source": [
    "pos_neu_neg['compound'].plot.line(style='-o', figsize=(10,5), markerfacecolor='blue', ylabel='sentiment', yticks= np.arange(-1,1,step=0.1))"
   ]
  },
  {
   "cell_type": "markdown",
   "id": "fcd098fd",
   "metadata": {},
   "source": [
    "__plot including neg, pos, neu and compund *( not used in paper)__"
   ]
  },
  {
   "cell_type": "code",
   "execution_count": 46,
   "id": "bb35446d",
   "metadata": {
    "scrolled": false
   },
   "outputs": [
    {
     "data": {
      "text/plain": [
       "<AxesSubplot:xlabel='publication_year', ylabel='sentiment'>"
      ]
     },
     "execution_count": 46,
     "metadata": {},
     "output_type": "execute_result"
    },
    {
     "data": {
      "image/png": "[encoded data removed]",
      "text/plain": [
       "<Figure size 720x360 with 1 Axes>"
      ]
     },
     "metadata": {
      "needs_background": "light"
     },
     "output_type": "display_data"
    }
   ],
   "source": [
    "pos_neu_neg_plot = pos_neu_neg[['pos','neu','neg','compound']]\n",
    "pos_neu_neg_plot.plot.line(style='-o', figsize=(10,5), markerfacecolor='blue', ylabel='sentiment')"
   ]
  },
  {
   "cell_type": "markdown",
   "id": "0e1c2d70",
   "metadata": {},
   "source": [
    "__Error Plot__"
   ]
  },
  {
   "cell_type": "code",
   "execution_count": 47,
   "id": "79f0a96d",
   "metadata": {
    "scrolled": true
   },
   "outputs": [
    {
     "data": {
      "image/png": "[encoded data removed]",
      "text/plain": [
       "<Figure size 720x360 with 1 Axes>"
      ]
     },
     "metadata": {
      "needs_background": "light"
     },
     "output_type": "display_data"
    }
   ],
   "source": [
    "plt.figure(figsize=(10,5))\n",
    "x = pos_neu_neg.index\n",
    "y = pos_neu_neg['compound']\n",
    "yerr = pos_neu_neg['std_err']\n",
    "plt.plot(pos_neu_neg_plot['pos'])\n",
    "plt.plot(pos_neu_neg_plot['neu'])\n",
    "plt.plot(pos_neu_neg_plot['neg'])\n",
    "plt.errorbar(x,y, yerr=yerr)\n",
    "plt.title(\"Comics & Graphics\")\n",
    "plt.ylabel(\"Compound Sentiment\")\n",
    "plt.xlabel(\"Publication Year\")\n",
    "plt.show()"
   ]
  },
  {
   "cell_type": "markdown",
   "id": "f4c0458e",
   "metadata": {},
   "source": [
    "__error plot__"
   ]
  },
  {
   "cell_type": "code",
   "execution_count": 87,
   "id": "4b0824a2",
   "metadata": {},
   "outputs": [
    {
     "data": {
      "image/png": "[encoded data removed]",
      "text/plain": [
       "<Figure size 720x360 with 1 Axes>"
      ]
     },
     "metadata": {
      "needs_background": "light"
     },
     "output_type": "display_data"
    }
   ],
   "source": [
    "plt.figure(figsize=(10,5))\n",
    "x = pos_neu_neg.index\n",
    "y = pos_neu_neg['compound']\n",
    "yerr = pos_neu_neg['std_err']\n",
    "plt.errorbar(x,y, yerr=yerr)\n",
    "plt.yticks(np.arange(-1,1,step=0.1))\n",
    "plt.title(\"Comics & Graphics\")\n",
    "plt.ylabel(\"Compound Sentiment\")\n",
    "plt.xlabel(\"Publication Year\")\n",
    "plt.show()"
   ]
  },
  {
   "cell_type": "markdown",
   "id": "96f53a6d",
   "metadata": {},
   "source": [
    "__Mystery Thriller and Crime__"
   ]
  },
  {
   "cell_type": "code",
   "execution_count": 49,
   "id": "cba3c8eb",
   "metadata": {
    "scrolled": true
   },
   "outputs": [
    {
     "name": "stdout",
     "output_type": "stream",
     "text": [
      "Untitled.rtf                     glove.twitter.27B.200d.txt\r\n",
      "books_interactions_final.json    readme.rtf\r\n",
      "books_metadata_comics.json       rq1.ipynb\r\n",
      "books_metadata_thriller.json     rq2.ipynb\r\n",
      "books_review_comics_final.json   rq4.ipynb\r\n",
      "books_review_thriller.json       rq5.ipynb\r\n",
      "comic_review_classification.json rq6-regression.ipynb\r\n",
      "glove.6B.100d.txt\r\n"
     ]
    }
   ],
   "source": [
    "!ls"
   ]
  },
  {
   "cell_type": "code",
   "execution_count": 6,
   "id": "275a9a2b",
   "metadata": {},
   "outputs": [],
   "source": [
    "books_metadata_thriller = pd.read_json('books_metadata_thriller.json')\n",
    "review_thriller = pd.read_json('books_review_thriller.json')"
   ]
  },
  {
   "cell_type": "code",
   "execution_count": 7,
   "id": "6a57fd8b",
   "metadata": {
    "scrolled": false
   },
   "outputs": [
    {
     "data": {
      "text/html": [
       "<div>\n",
       "<style scoped>\n",
       "    .dataframe tbody tr th:only-of-type {\n",
       "        vertical-align: middle;\n",
       "    }\n",
       "\n",
       "    .dataframe tbody tr th {\n",
       "        vertical-align: top;\n",
       "    }\n",
       "\n",
       "    .dataframe thead th {\n",
       "        text-align: right;\n",
       "    }\n",
       "</style>\n",
       "<table border=\"1\" class=\"dataframe\">\n",
       "  <thead>\n",
       "    <tr style=\"text-align: right;\">\n",
       "      <th></th>\n",
       "      <th>index</th>\n",
       "      <th>user_id</th>\n",
       "      <th>book_id</th>\n",
       "      <th>review_id</th>\n",
       "      <th>rating</th>\n",
       "      <th>review_text</th>\n",
       "      <th>date_added</th>\n",
       "      <th>date_updated</th>\n",
       "      <th>read_at</th>\n",
       "      <th>n_votes</th>\n",
       "      <th>n_comments</th>\n",
       "    </tr>\n",
       "  </thead>\n",
       "  <tbody>\n",
       "    <tr>\n",
       "      <th>0</th>\n",
       "      <td>1</td>\n",
       "      <td>8842281e1d1347389f2ab93d60773d4d</td>\n",
       "      <td>28684704</td>\n",
       "      <td>2ede853b14dc4583f96cf5d120af636f</td>\n",
       "      <td>3</td>\n",
       "      <td>A fun, fast paced science fiction thriller. I ...</td>\n",
       "      <td>Tue Nov 15 11:29:22 -0800 2016</td>\n",
       "      <td>Mon Mar 20 23:40:27 -0700 2017</td>\n",
       "      <td>Sat Mar 18 23:22:42 -0700 2017</td>\n",
       "      <td>22</td>\n",
       "      <td>0</td>\n",
       "    </tr>\n",
       "    <tr>\n",
       "      <th>1</th>\n",
       "      <td>2</td>\n",
       "      <td>8842281e1d1347389f2ab93d60773d4d</td>\n",
       "      <td>32283133</td>\n",
       "      <td>8e4d61801907e591018bdc3442a9cf2b</td>\n",
       "      <td>0</td>\n",
       "      <td>http://www.telegraph.co.uk/culture/10...</td>\n",
       "      <td>Tue Nov 01 11:09:18 -0700 2016</td>\n",
       "      <td>Tue Nov 01 11:09:44 -0700 2016</td>\n",
       "      <td></td>\n",
       "      <td>9</td>\n",
       "      <td>0</td>\n",
       "    </tr>\n",
       "    <tr>\n",
       "      <th>2</th>\n",
       "      <td>3</td>\n",
       "      <td>8842281e1d1347389f2ab93d60773d4d</td>\n",
       "      <td>17860739</td>\n",
       "      <td>022bb6daffa49adc27f6b20b6ebeb37d</td>\n",
       "      <td>4</td>\n",
       "      <td>An amazing and unique creation: JJ Abrams and ...</td>\n",
       "      <td>Wed Mar 26 13:51:30 -0700 2014</td>\n",
       "      <td>Tue Sep 23 01:44:36 -0700 2014</td>\n",
       "      <td>Sun Sep 21 00:00:00 -0700 2014</td>\n",
       "      <td>7</td>\n",
       "      <td>0</td>\n",
       "    </tr>\n",
       "    <tr>\n",
       "      <th>3</th>\n",
       "      <td>4</td>\n",
       "      <td>8842281e1d1347389f2ab93d60773d4d</td>\n",
       "      <td>8694005</td>\n",
       "      <td>0e317947e1fd341f573192111bb2921d</td>\n",
       "      <td>3</td>\n",
       "      <td>The Name of the Rose is a thrilling Dan Brown-...</td>\n",
       "      <td>Wed Sep 08 01:22:27 -0700 2010</td>\n",
       "      <td>Wed Dec 14 12:30:43 -0800 2016</td>\n",
       "      <td>Mon Aug 10 00:00:00 -0700 2015</td>\n",
       "      <td>17</td>\n",
       "      <td>6</td>\n",
       "    </tr>\n",
       "    <tr>\n",
       "      <th>4</th>\n",
       "      <td>6</td>\n",
       "      <td>8842281e1d1347389f2ab93d60773d4d</td>\n",
       "      <td>2429135</td>\n",
       "      <td>efee7a3f620ed640366226caa7b138f0</td>\n",
       "      <td>5</td>\n",
       "      <td>I haven't stayed up until 5am to finish a book...</td>\n",
       "      <td>Mon Mar 15 14:05:04 -0700 2010</td>\n",
       "      <td>Wed Mar 22 11:46:43 -0700 2017</td>\n",
       "      <td>Sun Mar 28 00:00:00 -0700 2010</td>\n",
       "      <td>13</td>\n",
       "      <td>10</td>\n",
       "    </tr>\n",
       "  </tbody>\n",
       "</table>\n",
       "</div>"
      ],
      "text/plain": [
       "   index                           user_id   book_id  \\\n",
       "0      1  8842281e1d1347389f2ab93d60773d4d  28684704   \n",
       "1      2  8842281e1d1347389f2ab93d60773d4d  32283133   \n",
       "2      3  8842281e1d1347389f2ab93d60773d4d  17860739   \n",
       "3      4  8842281e1d1347389f2ab93d60773d4d   8694005   \n",
       "4      6  8842281e1d1347389f2ab93d60773d4d   2429135   \n",
       "\n",
       "                          review_id  rating  \\\n",
       "0  2ede853b14dc4583f96cf5d120af636f       3   \n",
       "1  8e4d61801907e591018bdc3442a9cf2b       0   \n",
       "2  022bb6daffa49adc27f6b20b6ebeb37d       4   \n",
       "3  0e317947e1fd341f573192111bb2921d       3   \n",
       "4  efee7a3f620ed640366226caa7b138f0       5   \n",
       "\n",
       "                                         review_text  \\\n",
       "0  A fun, fast paced science fiction thriller. I ...   \n",
       "1           http://www.telegraph.co.uk/culture/10...   \n",
       "2  An amazing and unique creation: JJ Abrams and ...   \n",
       "3  The Name of the Rose is a thrilling Dan Brown-...   \n",
       "4  I haven't stayed up until 5am to finish a book...   \n",
       "\n",
       "                       date_added                    date_updated  \\\n",
       "0  Tue Nov 15 11:29:22 -0800 2016  Mon Mar 20 23:40:27 -0700 2017   \n",
       "1  Tue Nov 01 11:09:18 -0700 2016  Tue Nov 01 11:09:44 -0700 2016   \n",
       "2  Wed Mar 26 13:51:30 -0700 2014  Tue Sep 23 01:44:36 -0700 2014   \n",
       "3  Wed Sep 08 01:22:27 -0700 2010  Wed Dec 14 12:30:43 -0800 2016   \n",
       "4  Mon Mar 15 14:05:04 -0700 2010  Wed Mar 22 11:46:43 -0700 2017   \n",
       "\n",
       "                          read_at  n_votes  n_comments  \n",
       "0  Sat Mar 18 23:22:42 -0700 2017       22           0  \n",
       "1                                        9           0  \n",
       "2  Sun Sep 21 00:00:00 -0700 2014        7           0  \n",
       "3  Mon Aug 10 00:00:00 -0700 2015       17           6  \n",
       "4  Sun Mar 28 00:00:00 -0700 2010       13          10  "
      ]
     },
     "execution_count": 7,
     "metadata": {},
     "output_type": "execute_result"
    }
   ],
   "source": [
    "review_thriller.head()"
   ]
  },
  {
   "cell_type": "code",
   "execution_count": 8,
   "id": "beef7533",
   "metadata": {},
   "outputs": [
    {
     "name": "stdout",
     "output_type": "stream",
     "text": [
      "<class 'pandas.core.frame.DataFrame'>\n",
      "Int64Index: 1056240 entries, 0 to 1056239\n",
      "Data columns (total 11 columns):\n",
      " #   Column        Non-Null Count    Dtype \n",
      "---  ------        --------------    ----- \n",
      " 0   index         1056240 non-null  int64 \n",
      " 1   user_id       1056240 non-null  object\n",
      " 2   book_id       1056240 non-null  int64 \n",
      " 3   review_id     1056240 non-null  object\n",
      " 4   rating        1056240 non-null  int64 \n",
      " 5   review_text   1056240 non-null  object\n",
      " 6   date_added    1056240 non-null  object\n",
      " 7   date_updated  1056240 non-null  object\n",
      " 8   read_at       1056240 non-null  object\n",
      " 9   n_votes       1056240 non-null  int64 \n",
      " 10  n_comments    1056240 non-null  int64 \n",
      "dtypes: int64(5), object(6)\n",
      "memory usage: 96.7+ MB\n"
     ]
    }
   ],
   "source": [
    "review_thriller.info()"
   ]
  },
  {
   "cell_type": "code",
   "execution_count": 9,
   "id": "02e722d2",
   "metadata": {},
   "outputs": [],
   "source": [
    "thriller_review_text = review_thriller[['book_id','review_text']]"
   ]
  },
  {
   "cell_type": "code",
   "execution_count": 10,
   "id": "beb57c8b",
   "metadata": {},
   "outputs": [
    {
     "data": {
      "text/html": [
       "<div>\n",
       "<style scoped>\n",
       "    .dataframe tbody tr th:only-of-type {\n",
       "        vertical-align: middle;\n",
       "    }\n",
       "\n",
       "    .dataframe tbody tr th {\n",
       "        vertical-align: top;\n",
       "    }\n",
       "\n",
       "    .dataframe thead th {\n",
       "        text-align: right;\n",
       "    }\n",
       "</style>\n",
       "<table border=\"1\" class=\"dataframe\">\n",
       "  <thead>\n",
       "    <tr style=\"text-align: right;\">\n",
       "      <th></th>\n",
       "      <th>book_id</th>\n",
       "      <th>review_text</th>\n",
       "    </tr>\n",
       "  </thead>\n",
       "  <tbody>\n",
       "    <tr>\n",
       "      <th>0</th>\n",
       "      <td>28684704</td>\n",
       "      <td>A fun, fast paced science fiction thriller. I ...</td>\n",
       "    </tr>\n",
       "    <tr>\n",
       "      <th>1</th>\n",
       "      <td>32283133</td>\n",
       "      <td>http://www.telegraph.co.uk/culture/10...</td>\n",
       "    </tr>\n",
       "    <tr>\n",
       "      <th>2</th>\n",
       "      <td>17860739</td>\n",
       "      <td>An amazing and unique creation: JJ Abrams and ...</td>\n",
       "    </tr>\n",
       "    <tr>\n",
       "      <th>3</th>\n",
       "      <td>8694005</td>\n",
       "      <td>The Name of the Rose is a thrilling Dan Brown-...</td>\n",
       "    </tr>\n",
       "    <tr>\n",
       "      <th>4</th>\n",
       "      <td>2429135</td>\n",
       "      <td>I haven't stayed up until 5am to finish a book...</td>\n",
       "    </tr>\n",
       "  </tbody>\n",
       "</table>\n",
       "</div>"
      ],
      "text/plain": [
       "    book_id                                        review_text\n",
       "0  28684704  A fun, fast paced science fiction thriller. I ...\n",
       "1  32283133           http://www.telegraph.co.uk/culture/10...\n",
       "2  17860739  An amazing and unique creation: JJ Abrams and ...\n",
       "3   8694005  The Name of the Rose is a thrilling Dan Brown-...\n",
       "4   2429135  I haven't stayed up until 5am to finish a book..."
      ]
     },
     "execution_count": 10,
     "metadata": {},
     "output_type": "execute_result"
    }
   ],
   "source": [
    "thriller_review_text.head()"
   ]
  },
  {
   "cell_type": "code",
   "execution_count": 12,
   "id": "125268d5",
   "metadata": {},
   "outputs": [
    {
     "data": {
      "text/plain": [
       "0     A fun, fast paced science fiction thriller. I ...\n",
       "1              http://www.telegraph.co.uk/culture/10...\n",
       "2     An amazing and unique creation: JJ Abrams and ...\n",
       "3     The Name of the Rose is a thrilling Dan Brown-...\n",
       "4     I haven't stayed up until 5am to finish a book...\n",
       "5     A quick read, but I enjoyed the focus on gener...\n",
       "6     A quick read, and probably better than The Da ...\n",
       "7     Only book that the movie had nothing to do wit...\n",
       "8     One of my favorites from Grisham. The movie wa...\n",
       "9     I haven't read a good spy novel in a while - a...\n",
       "10    A classic LA detective novel - loved it. The o...\n",
       "11    The second volume of the masterful Sherlock Ho...\n",
       "12                 A great book to read on an airplane.\n",
       "13    After seeing the movie (i liked it), and needi...\n",
       "14    I know this book is supposed to be evil as its...\n",
       "15    I'm a huge james bond fan. Always have been. I...\n",
       "16    The story begins with a young boy and his frie...\n",
       "17    I really enjoyed this book! It's fun but not m...\n",
       "18    Keeping in mind I'm someone who has watched mo...\n",
       "19    Very well written. The characters were multi-d...\n",
       "20                     Very entertaining & a quick read\n",
       "21    Quick easy read. Predictable thriller with ver...\n",
       "22      It just... Didn't really make any logical sense\n",
       "23    4.5 Captivating Stars!!! \\n \"When truth is rep...\n",
       "24    \"How did it come to this? How did we get here?...\n",
       "25    \"Imagine a hospital where the structure itself...\n",
       "26    4.5 Stars \\n \"If you can't trust yourself, who...\n",
       "27    5 STARS!! \\n An intelligent, twisty psychologi...\n",
       "28    4.5 Stars! \\n \"I'm good at being what people w...\n",
       "29    Well. I was prepared to love this book. Even t...\n",
       "30    4.5 Stars!! \\n One of Alessandra Torre's best ...\n",
       "31    Mind-bending and completely unique, take a cha...\n",
       "32    Well, then! A complete and total mindf*k!! The...\n",
       "33    Okay I don't even know where to start with thi...\n",
       "34    Absolutely astounding!!!! And the end was perf...\n",
       "35    4.5 Sexy, Gritty Stars!! \\n Karina Halle never...\n",
       "36    4.5 - 5 hot and wild stars!! \\n How I love the...\n",
       "37    6 STARS!!! \\n \"...the problem with books is th...\n",
       "38    4.5 stars!! Holy hotness! \\n The minute I saw ...\n",
       "39    Suspenseful doesn't even begin to describe thi...\n",
       "40                        Amazing. Full review to come.\n",
       "41    4.5 Stars!! \\n Reviewed by Cathy: \\n Push is n...\n",
       "42    Belle Aurora has sealed her reputation as one ...\n",
       "43    4.5 stars!! \\n What can I say about Tarryn Fis...\n",
       "44    I enjoyed the latest book in the Cut & Run ser...\n",
       "45    OH MY GOD! Ms. Romig has done it again. This c...\n",
       "46    The story is GREAT. A roller coaster of a read...\n",
       "47    \"Break Her\" is one of those books that I am re...\n",
       "48    I secretly hope I am as busy as Miss Marple wh...\n",
       "49                               Better than the first!\n",
       "Name: review_text, dtype: object"
      ]
     },
     "execution_count": 12,
     "metadata": {},
     "output_type": "execute_result"
    }
   ],
   "source": [
    "thriller_review_text['review_text'][:50]"
   ]
  },
  {
   "cell_type": "code",
   "execution_count": 11,
   "id": "9a59042f",
   "metadata": {},
   "outputs": [
    {
     "ename": "NameError",
     "evalue": "name 'clean_data' is not defined",
     "output_type": "error",
     "traceback": [
      "\u001b[0;31m---------------------------------------------------------------------------\u001b[0m",
      "\u001b[0;31mNameError\u001b[0m                                 Traceback (most recent call last)",
      "\u001b[0;32m<ipython-input-11-e904402c1d97>\u001b[0m in \u001b[0;36m<module>\u001b[0;34m\u001b[0m\n\u001b[0;32m----> 1\u001b[0;31m \u001b[0mthriller_reviews\u001b[0m \u001b[0;34m=\u001b[0m \u001b[0mclean_data\u001b[0m\u001b[0;34m(\u001b[0m\u001b[0mthriller_review_text\u001b[0m\u001b[0;34m)\u001b[0m\u001b[0;34m\u001b[0m\u001b[0;34m\u001b[0m\u001b[0m\n\u001b[0m",
      "\u001b[0;31mNameError\u001b[0m: name 'clean_data' is not defined"
     ]
    }
   ],
   "source": [
    "thriller_reviews = clean_data(thriller_review_text)"
   ]
  },
  {
   "cell_type": "code",
   "execution_count": 56,
   "id": "e10b2c94",
   "metadata": {},
   "outputs": [
    {
     "data": {
      "text/html": [
       "<div>\n",
       "<style scoped>\n",
       "    .dataframe tbody tr th:only-of-type {\n",
       "        vertical-align: middle;\n",
       "    }\n",
       "\n",
       "    .dataframe tbody tr th {\n",
       "        vertical-align: top;\n",
       "    }\n",
       "\n",
       "    .dataframe thead th {\n",
       "        text-align: right;\n",
       "    }\n",
       "</style>\n",
       "<table border=\"1\" class=\"dataframe\">\n",
       "  <thead>\n",
       "    <tr style=\"text-align: right;\">\n",
       "      <th></th>\n",
       "      <th>text</th>\n",
       "    </tr>\n",
       "  </thead>\n",
       "  <tbody>\n",
       "    <tr>\n",
       "      <th>0</th>\n",
       "      <td>a fun fast paced science fiction thriller i re...</td>\n",
       "    </tr>\n",
       "    <tr>\n",
       "      <th>1</th>\n",
       "      <td>http www telegraph co uk culture</td>\n",
       "    </tr>\n",
       "    <tr>\n",
       "      <th>2</th>\n",
       "      <td>an amazing and unique creation jj abrams and d...</td>\n",
       "    </tr>\n",
       "    <tr>\n",
       "      <th>3</th>\n",
       "      <td>the name of the rose is a thrilling dan brown ...</td>\n",
       "    </tr>\n",
       "    <tr>\n",
       "      <th>4</th>\n",
       "      <td>i haven t stayed up until am to finish a book ...</td>\n",
       "    </tr>\n",
       "  </tbody>\n",
       "</table>\n",
       "</div>"
      ],
      "text/plain": [
       "                                                text\n",
       "0  a fun fast paced science fiction thriller i re...\n",
       "1                  http www telegraph co uk culture \n",
       "2  an amazing and unique creation jj abrams and d...\n",
       "3  the name of the rose is a thrilling dan brown ...\n",
       "4  i haven t stayed up until am to finish a book ..."
      ]
     },
     "execution_count": 56,
     "metadata": {},
     "output_type": "execute_result"
    }
   ],
   "source": [
    "thriller_reviews.head()"
   ]
  },
  {
   "cell_type": "code",
   "execution_count": 57,
   "id": "9c88d102",
   "metadata": {},
   "outputs": [],
   "source": [
    "thriller_reviews['book_id'] = thriller_review_text['book_id']"
   ]
  },
  {
   "cell_type": "code",
   "execution_count": 58,
   "id": "318e17e8",
   "metadata": {},
   "outputs": [
    {
     "data": {
      "text/plain": [
       "(1056240, 2)"
      ]
     },
     "execution_count": 58,
     "metadata": {},
     "output_type": "execute_result"
    }
   ],
   "source": [
    "thriller_reviews.shape"
   ]
  },
  {
   "cell_type": "code",
   "execution_count": 59,
   "id": "a8d09e55",
   "metadata": {},
   "outputs": [
    {
     "data": {
      "text/html": [
       "<div>\n",
       "<style scoped>\n",
       "    .dataframe tbody tr th:only-of-type {\n",
       "        vertical-align: middle;\n",
       "    }\n",
       "\n",
       "    .dataframe tbody tr th {\n",
       "        vertical-align: top;\n",
       "    }\n",
       "\n",
       "    .dataframe thead th {\n",
       "        text-align: right;\n",
       "    }\n",
       "</style>\n",
       "<table border=\"1\" class=\"dataframe\">\n",
       "  <thead>\n",
       "    <tr style=\"text-align: right;\">\n",
       "      <th></th>\n",
       "      <th>text</th>\n",
       "      <th>book_id</th>\n",
       "    </tr>\n",
       "  </thead>\n",
       "  <tbody>\n",
       "    <tr>\n",
       "      <th>0</th>\n",
       "      <td>a fun fast paced science fiction thriller i re...</td>\n",
       "      <td>28684704</td>\n",
       "    </tr>\n",
       "    <tr>\n",
       "      <th>1</th>\n",
       "      <td>http www telegraph co uk culture</td>\n",
       "      <td>32283133</td>\n",
       "    </tr>\n",
       "    <tr>\n",
       "      <th>2</th>\n",
       "      <td>an amazing and unique creation jj abrams and d...</td>\n",
       "      <td>17860739</td>\n",
       "    </tr>\n",
       "    <tr>\n",
       "      <th>3</th>\n",
       "      <td>the name of the rose is a thrilling dan brown ...</td>\n",
       "      <td>8694005</td>\n",
       "    </tr>\n",
       "    <tr>\n",
       "      <th>4</th>\n",
       "      <td>i haven t stayed up until am to finish a book ...</td>\n",
       "      <td>2429135</td>\n",
       "    </tr>\n",
       "  </tbody>\n",
       "</table>\n",
       "</div>"
      ],
      "text/plain": [
       "                                                text   book_id\n",
       "0  a fun fast paced science fiction thriller i re...  28684704\n",
       "1                  http www telegraph co uk culture   32283133\n",
       "2  an amazing and unique creation jj abrams and d...  17860739\n",
       "3  the name of the rose is a thrilling dan brown ...   8694005\n",
       "4  i haven t stayed up until am to finish a book ...   2429135"
      ]
     },
     "execution_count": 59,
     "metadata": {},
     "output_type": "execute_result"
    }
   ],
   "source": [
    "thriller_reviews.head()"
   ]
  },
  {
   "cell_type": "code",
   "execution_count": 60,
   "id": "f2aceecd",
   "metadata": {},
   "outputs": [],
   "source": [
    "thriller_review_result = pd.merge(books_metadata_thriller[['book_id','publication_year']], thriller_reviews, on='book_id')"
   ]
  },
  {
   "cell_type": "code",
   "execution_count": 61,
   "id": "066b5141",
   "metadata": {},
   "outputs": [
    {
     "data": {
      "text/html": [
       "<div>\n",
       "<style scoped>\n",
       "    .dataframe tbody tr th:only-of-type {\n",
       "        vertical-align: middle;\n",
       "    }\n",
       "\n",
       "    .dataframe tbody tr th {\n",
       "        vertical-align: top;\n",
       "    }\n",
       "\n",
       "    .dataframe thead th {\n",
       "        text-align: right;\n",
       "    }\n",
       "</style>\n",
       "<table border=\"1\" class=\"dataframe\">\n",
       "  <thead>\n",
       "    <tr style=\"text-align: right;\">\n",
       "      <th></th>\n",
       "      <th>book_id</th>\n",
       "      <th>publication_year</th>\n",
       "      <th>text</th>\n",
       "    </tr>\n",
       "  </thead>\n",
       "  <tbody>\n",
       "    <tr>\n",
       "      <th>0</th>\n",
       "      <td>16158998</td>\n",
       "      <td>2013</td>\n",
       "      <td>a good solid miss marple mystery after listeni...</td>\n",
       "    </tr>\n",
       "    <tr>\n",
       "      <th>1</th>\n",
       "      <td>22722787</td>\n",
       "      <td>2014</td>\n",
       "      <td>jonathan ashley crams a lot into the cost of d...</td>\n",
       "    </tr>\n",
       "    <tr>\n",
       "      <th>2</th>\n",
       "      <td>16158996</td>\n",
       "      <td>2013</td>\n",
       "      <td>another excellent miss marple story beautifull...</td>\n",
       "    </tr>\n",
       "    <tr>\n",
       "      <th>3</th>\n",
       "      <td>17368265</td>\n",
       "      <td>2013</td>\n",
       "      <td>this review is from an arc i picked up at book...</td>\n",
       "    </tr>\n",
       "    <tr>\n",
       "      <th>4</th>\n",
       "      <td>17368265</td>\n",
       "      <td>2013</td>\n",
       "      <td>agent pendergast has become one of my favorite...</td>\n",
       "    </tr>\n",
       "  </tbody>\n",
       "</table>\n",
       "</div>"
      ],
      "text/plain": [
       "    book_id  publication_year  \\\n",
       "0  16158998              2013   \n",
       "1  22722787              2014   \n",
       "2  16158996              2013   \n",
       "3  17368265              2013   \n",
       "4  17368265              2013   \n",
       "\n",
       "                                                text  \n",
       "0  a good solid miss marple mystery after listeni...  \n",
       "1  jonathan ashley crams a lot into the cost of d...  \n",
       "2  another excellent miss marple story beautifull...  \n",
       "3  this review is from an arc i picked up at book...  \n",
       "4  agent pendergast has become one of my favorite...  "
      ]
     },
     "execution_count": 61,
     "metadata": {},
     "output_type": "execute_result"
    }
   ],
   "source": [
    "thriller_review_result.head()"
   ]
  },
  {
   "cell_type": "markdown",
   "id": "8f60bbd7",
   "metadata": {},
   "source": [
    "# __Sentiment analysis__"
   ]
  },
  {
   "cell_type": "code",
   "execution_count": 62,
   "id": "6b689210",
   "metadata": {},
   "outputs": [],
   "source": [
    "thriller_review_result['scores'] = thriller_review_result['text'].apply(lambda text: sid.polarity_scores(text))"
   ]
  },
  {
   "cell_type": "code",
   "execution_count": 63,
   "id": "4e958f4f",
   "metadata": {},
   "outputs": [],
   "source": [
    "thriller_review_result['compound'] = thriller_review_result['scores'].apply(lambda sc_dict: sc_dict['compound'])\n",
    "thriller_review_result['neg'] = thriller_review_result['scores'].apply(lambda sc_dict: sc_dict['neg'])\n",
    "thriller_review_result['neu'] = thriller_review_result['scores'].apply(lambda sc_dict: sc_dict['neu'])\n",
    "thriller_review_result['pos'] = thriller_review_result['scores'].apply(lambda sc_dict: sc_dict['pos'])"
   ]
  },
  {
   "cell_type": "code",
   "execution_count": 64,
   "id": "2817ac3c",
   "metadata": {},
   "outputs": [
    {
     "data": {
      "text/html": [
       "<div>\n",
       "<style scoped>\n",
       "    .dataframe tbody tr th:only-of-type {\n",
       "        vertical-align: middle;\n",
       "    }\n",
       "\n",
       "    .dataframe tbody tr th {\n",
       "        vertical-align: top;\n",
       "    }\n",
       "\n",
       "    .dataframe thead th {\n",
       "        text-align: right;\n",
       "    }\n",
       "</style>\n",
       "<table border=\"1\" class=\"dataframe\">\n",
       "  <thead>\n",
       "    <tr style=\"text-align: right;\">\n",
       "      <th></th>\n",
       "      <th>book_id</th>\n",
       "      <th>publication_year</th>\n",
       "      <th>text</th>\n",
       "      <th>scores</th>\n",
       "      <th>compound</th>\n",
       "      <th>neg</th>\n",
       "      <th>neu</th>\n",
       "      <th>pos</th>\n",
       "    </tr>\n",
       "  </thead>\n",
       "  <tbody>\n",
       "    <tr>\n",
       "      <th>0</th>\n",
       "      <td>16158998</td>\n",
       "      <td>2013</td>\n",
       "      <td>a good solid miss marple mystery after listeni...</td>\n",
       "      <td>{'neg': 0.089, 'neu': 0.817, 'pos': 0.095, 'co...</td>\n",
       "      <td>-0.1531</td>\n",
       "      <td>0.089</td>\n",
       "      <td>0.817</td>\n",
       "      <td>0.095</td>\n",
       "    </tr>\n",
       "    <tr>\n",
       "      <th>1</th>\n",
       "      <td>22722787</td>\n",
       "      <td>2014</td>\n",
       "      <td>jonathan ashley crams a lot into the cost of d...</td>\n",
       "      <td>{'neg': 0.162, 'neu': 0.759, 'pos': 0.078, 'co...</td>\n",
       "      <td>-0.9728</td>\n",
       "      <td>0.162</td>\n",
       "      <td>0.759</td>\n",
       "      <td>0.078</td>\n",
       "    </tr>\n",
       "    <tr>\n",
       "      <th>2</th>\n",
       "      <td>16158996</td>\n",
       "      <td>2013</td>\n",
       "      <td>another excellent miss marple story beautifull...</td>\n",
       "      <td>{'neg': 0.123, 'neu': 0.308, 'pos': 0.569, 'co...</td>\n",
       "      <td>0.7783</td>\n",
       "      <td>0.123</td>\n",
       "      <td>0.308</td>\n",
       "      <td>0.569</td>\n",
       "    </tr>\n",
       "    <tr>\n",
       "      <th>3</th>\n",
       "      <td>17368265</td>\n",
       "      <td>2013</td>\n",
       "      <td>this review is from an arc i picked up at book...</td>\n",
       "      <td>{'neg': 0.097, 'neu': 0.756, 'pos': 0.148, 'co...</td>\n",
       "      <td>0.9584</td>\n",
       "      <td>0.097</td>\n",
       "      <td>0.756</td>\n",
       "      <td>0.148</td>\n",
       "    </tr>\n",
       "    <tr>\n",
       "      <th>4</th>\n",
       "      <td>17368265</td>\n",
       "      <td>2013</td>\n",
       "      <td>agent pendergast has become one of my favorite...</td>\n",
       "      <td>{'neg': 0.0, 'neu': 0.791, 'pos': 0.209, 'comp...</td>\n",
       "      <td>0.8151</td>\n",
       "      <td>0.000</td>\n",
       "      <td>0.791</td>\n",
       "      <td>0.209</td>\n",
       "    </tr>\n",
       "  </tbody>\n",
       "</table>\n",
       "</div>"
      ],
      "text/plain": [
       "    book_id  publication_year  \\\n",
       "0  16158998              2013   \n",
       "1  22722787              2014   \n",
       "2  16158996              2013   \n",
       "3  17368265              2013   \n",
       "4  17368265              2013   \n",
       "\n",
       "                                                text  \\\n",
       "0  a good solid miss marple mystery after listeni...   \n",
       "1  jonathan ashley crams a lot into the cost of d...   \n",
       "2  another excellent miss marple story beautifull...   \n",
       "3  this review is from an arc i picked up at book...   \n",
       "4  agent pendergast has become one of my favorite...   \n",
       "\n",
       "                                              scores  compound    neg    neu  \\\n",
       "0  {'neg': 0.089, 'neu': 0.817, 'pos': 0.095, 'co...   -0.1531  0.089  0.817   \n",
       "1  {'neg': 0.162, 'neu': 0.759, 'pos': 0.078, 'co...   -0.9728  0.162  0.759   \n",
       "2  {'neg': 0.123, 'neu': 0.308, 'pos': 0.569, 'co...    0.7783  0.123  0.308   \n",
       "3  {'neg': 0.097, 'neu': 0.756, 'pos': 0.148, 'co...    0.9584  0.097  0.756   \n",
       "4  {'neg': 0.0, 'neu': 0.791, 'pos': 0.209, 'comp...    0.8151  0.000  0.791   \n",
       "\n",
       "     pos  \n",
       "0  0.095  \n",
       "1  0.078  \n",
       "2  0.569  \n",
       "3  0.148  \n",
       "4  0.209  "
      ]
     },
     "execution_count": 64,
     "metadata": {},
     "output_type": "execute_result"
    }
   ],
   "source": [
    "thriller_review_result.head()"
   ]
  },
  {
   "cell_type": "markdown",
   "id": "576ce8a2",
   "metadata": {},
   "source": [
    "__positive neutral and negative sentiment per publication year__"
   ]
  },
  {
   "cell_type": "code",
   "execution_count": 65,
   "id": "93f46161",
   "metadata": {},
   "outputs": [],
   "source": [
    "thriller_pos_neu_neg = thriller_review_result[['publication_year','pos','neu','neg','compound']]"
   ]
  },
  {
   "cell_type": "code",
   "execution_count": 66,
   "id": "7bb60f7c",
   "metadata": {},
   "outputs": [
    {
     "data": {
      "text/html": [
       "<div>\n",
       "<style scoped>\n",
       "    .dataframe tbody tr th:only-of-type {\n",
       "        vertical-align: middle;\n",
       "    }\n",
       "\n",
       "    .dataframe tbody tr th {\n",
       "        vertical-align: top;\n",
       "    }\n",
       "\n",
       "    .dataframe thead th {\n",
       "        text-align: right;\n",
       "    }\n",
       "</style>\n",
       "<table border=\"1\" class=\"dataframe\">\n",
       "  <thead>\n",
       "    <tr style=\"text-align: right;\">\n",
       "      <th></th>\n",
       "      <th>publication_year</th>\n",
       "      <th>pos</th>\n",
       "      <th>neu</th>\n",
       "      <th>neg</th>\n",
       "      <th>compound</th>\n",
       "    </tr>\n",
       "  </thead>\n",
       "  <tbody>\n",
       "    <tr>\n",
       "      <th>0</th>\n",
       "      <td>2013</td>\n",
       "      <td>0.095</td>\n",
       "      <td>0.817</td>\n",
       "      <td>0.089</td>\n",
       "      <td>-0.1531</td>\n",
       "    </tr>\n",
       "    <tr>\n",
       "      <th>1</th>\n",
       "      <td>2014</td>\n",
       "      <td>0.078</td>\n",
       "      <td>0.759</td>\n",
       "      <td>0.162</td>\n",
       "      <td>-0.9728</td>\n",
       "    </tr>\n",
       "    <tr>\n",
       "      <th>2</th>\n",
       "      <td>2013</td>\n",
       "      <td>0.569</td>\n",
       "      <td>0.308</td>\n",
       "      <td>0.123</td>\n",
       "      <td>0.7783</td>\n",
       "    </tr>\n",
       "    <tr>\n",
       "      <th>3</th>\n",
       "      <td>2013</td>\n",
       "      <td>0.148</td>\n",
       "      <td>0.756</td>\n",
       "      <td>0.097</td>\n",
       "      <td>0.9584</td>\n",
       "    </tr>\n",
       "    <tr>\n",
       "      <th>4</th>\n",
       "      <td>2013</td>\n",
       "      <td>0.209</td>\n",
       "      <td>0.791</td>\n",
       "      <td>0.000</td>\n",
       "      <td>0.8151</td>\n",
       "    </tr>\n",
       "  </tbody>\n",
       "</table>\n",
       "</div>"
      ],
      "text/plain": [
       "   publication_year    pos    neu    neg  compound\n",
       "0              2013  0.095  0.817  0.089   -0.1531\n",
       "1              2014  0.078  0.759  0.162   -0.9728\n",
       "2              2013  0.569  0.308  0.123    0.7783\n",
       "3              2013  0.148  0.756  0.097    0.9584\n",
       "4              2013  0.209  0.791  0.000    0.8151"
      ]
     },
     "execution_count": 66,
     "metadata": {},
     "output_type": "execute_result"
    }
   ],
   "source": [
    "thriller_pos_neu_neg.head()"
   ]
  },
  {
   "cell_type": "code",
   "execution_count": 67,
   "id": "cf8ce590",
   "metadata": {},
   "outputs": [
    {
     "data": {
      "text/plain": [
       "(1056240, 5)"
      ]
     },
     "execution_count": 67,
     "metadata": {},
     "output_type": "execute_result"
    }
   ],
   "source": [
    "thriller_pos_neu_neg.shape"
   ]
  },
  {
   "cell_type": "code",
   "execution_count": 68,
   "id": "6a7115e4",
   "metadata": {},
   "outputs": [],
   "source": [
    "std_cmp_crime = thriller_pos_neu_neg.groupby('publication_year').agg(np.std)\n",
    "count_crime = thriller_pos_neu_neg.groupby('publication_year').agg('count')"
   ]
  },
  {
   "cell_type": "code",
   "execution_count": 69,
   "id": "612e57bb",
   "metadata": {},
   "outputs": [
    {
     "data": {
      "text/html": [
       "<div>\n",
       "<style scoped>\n",
       "    .dataframe tbody tr th:only-of-type {\n",
       "        vertical-align: middle;\n",
       "    }\n",
       "\n",
       "    .dataframe tbody tr th {\n",
       "        vertical-align: top;\n",
       "    }\n",
       "\n",
       "    .dataframe thead th {\n",
       "        text-align: right;\n",
       "    }\n",
       "</style>\n",
       "<table border=\"1\" class=\"dataframe\">\n",
       "  <thead>\n",
       "    <tr style=\"text-align: right;\">\n",
       "      <th></th>\n",
       "      <th>pos</th>\n",
       "      <th>neu</th>\n",
       "      <th>neg</th>\n",
       "      <th>compound</th>\n",
       "    </tr>\n",
       "    <tr>\n",
       "      <th>publication_year</th>\n",
       "      <th></th>\n",
       "      <th></th>\n",
       "      <th></th>\n",
       "      <th></th>\n",
       "    </tr>\n",
       "  </thead>\n",
       "  <tbody>\n",
       "    <tr>\n",
       "      <th>1946</th>\n",
       "      <td>0.152537</td>\n",
       "      <td>0.758829</td>\n",
       "      <td>0.088488</td>\n",
       "      <td>0.371766</td>\n",
       "    </tr>\n",
       "    <tr>\n",
       "      <th>1950</th>\n",
       "      <td>0.131324</td>\n",
       "      <td>0.788691</td>\n",
       "      <td>0.080103</td>\n",
       "      <td>0.357941</td>\n",
       "    </tr>\n",
       "    <tr>\n",
       "      <th>1951</th>\n",
       "      <td>0.154098</td>\n",
       "      <td>0.730373</td>\n",
       "      <td>0.095784</td>\n",
       "      <td>0.078912</td>\n",
       "    </tr>\n",
       "    <tr>\n",
       "      <th>1952</th>\n",
       "      <td>0.147729</td>\n",
       "      <td>0.769917</td>\n",
       "      <td>0.082375</td>\n",
       "      <td>0.151873</td>\n",
       "    </tr>\n",
       "    <tr>\n",
       "      <th>1953</th>\n",
       "      <td>0.157244</td>\n",
       "      <td>0.774077</td>\n",
       "      <td>0.068679</td>\n",
       "      <td>0.273531</td>\n",
       "    </tr>\n",
       "  </tbody>\n",
       "</table>\n",
       "</div>"
      ],
      "text/plain": [
       "                       pos       neu       neg  compound\n",
       "publication_year                                        \n",
       "1946              0.152537  0.758829  0.088488  0.371766\n",
       "1950              0.131324  0.788691  0.080103  0.357941\n",
       "1951              0.154098  0.730373  0.095784  0.078912\n",
       "1952              0.147729  0.769917  0.082375  0.151873\n",
       "1953              0.157244  0.774077  0.068679  0.273531"
      ]
     },
     "execution_count": 69,
     "metadata": {},
     "output_type": "execute_result"
    }
   ],
   "source": [
    "thriller_pos_neu_neg = thriller_pos_neu_neg.groupby('publication_year').agg('mean')\n",
    "thriller_pos_neu_neg.head()"
   ]
  },
  {
   "cell_type": "code",
   "execution_count": 70,
   "id": "9c77215e",
   "metadata": {},
   "outputs": [],
   "source": [
    "thriller_pos_neu_neg['std_cmp_crime'] = std_cmp_crime['compound']\n",
    "thriller_pos_neu_neg['count_review'] = count_crime['compound']"
   ]
  },
  {
   "cell_type": "code",
   "execution_count": 71,
   "id": "4c33b858",
   "metadata": {},
   "outputs": [],
   "source": [
    "thriller_pos_neu_neg['std_err'] = thriller_pos_neu_neg['std_cmp_crime']/np.sqrt(thriller_pos_neu_neg['count_review'])"
   ]
  },
  {
   "cell_type": "code",
   "execution_count": 72,
   "id": "8f226415",
   "metadata": {},
   "outputs": [
    {
     "data": {
      "text/html": [
       "<div>\n",
       "<style scoped>\n",
       "    .dataframe tbody tr th:only-of-type {\n",
       "        vertical-align: middle;\n",
       "    }\n",
       "\n",
       "    .dataframe tbody tr th {\n",
       "        vertical-align: top;\n",
       "    }\n",
       "\n",
       "    .dataframe thead th {\n",
       "        text-align: right;\n",
       "    }\n",
       "</style>\n",
       "<table border=\"1\" class=\"dataframe\">\n",
       "  <thead>\n",
       "    <tr style=\"text-align: right;\">\n",
       "      <th></th>\n",
       "      <th>pos</th>\n",
       "      <th>neu</th>\n",
       "      <th>neg</th>\n",
       "      <th>compound</th>\n",
       "      <th>std_cmp_crime</th>\n",
       "      <th>count_review</th>\n",
       "      <th>std_err</th>\n",
       "    </tr>\n",
       "    <tr>\n",
       "      <th>publication_year</th>\n",
       "      <th></th>\n",
       "      <th></th>\n",
       "      <th></th>\n",
       "      <th></th>\n",
       "      <th></th>\n",
       "      <th></th>\n",
       "      <th></th>\n",
       "    </tr>\n",
       "  </thead>\n",
       "  <tbody>\n",
       "    <tr>\n",
       "      <th>1946</th>\n",
       "      <td>0.152537</td>\n",
       "      <td>0.758829</td>\n",
       "      <td>0.088488</td>\n",
       "      <td>0.371766</td>\n",
       "      <td>0.743717</td>\n",
       "      <td>41</td>\n",
       "      <td>0.116149</td>\n",
       "    </tr>\n",
       "    <tr>\n",
       "      <th>1950</th>\n",
       "      <td>0.131324</td>\n",
       "      <td>0.788691</td>\n",
       "      <td>0.080103</td>\n",
       "      <td>0.357941</td>\n",
       "      <td>0.678755</td>\n",
       "      <td>68</td>\n",
       "      <td>0.082311</td>\n",
       "    </tr>\n",
       "    <tr>\n",
       "      <th>1951</th>\n",
       "      <td>0.154098</td>\n",
       "      <td>0.730373</td>\n",
       "      <td>0.095784</td>\n",
       "      <td>0.078912</td>\n",
       "      <td>0.767669</td>\n",
       "      <td>51</td>\n",
       "      <td>0.107495</td>\n",
       "    </tr>\n",
       "    <tr>\n",
       "      <th>1952</th>\n",
       "      <td>0.147729</td>\n",
       "      <td>0.769917</td>\n",
       "      <td>0.082375</td>\n",
       "      <td>0.151873</td>\n",
       "      <td>0.664022</td>\n",
       "      <td>48</td>\n",
       "      <td>0.095843</td>\n",
       "    </tr>\n",
       "    <tr>\n",
       "      <th>1953</th>\n",
       "      <td>0.157244</td>\n",
       "      <td>0.774077</td>\n",
       "      <td>0.068679</td>\n",
       "      <td>0.273531</td>\n",
       "      <td>0.654772</td>\n",
       "      <td>78</td>\n",
       "      <td>0.074138</td>\n",
       "    </tr>\n",
       "  </tbody>\n",
       "</table>\n",
       "</div>"
      ],
      "text/plain": [
       "                       pos       neu       neg  compound  std_cmp_crime  \\\n",
       "publication_year                                                          \n",
       "1946              0.152537  0.758829  0.088488  0.371766       0.743717   \n",
       "1950              0.131324  0.788691  0.080103  0.357941       0.678755   \n",
       "1951              0.154098  0.730373  0.095784  0.078912       0.767669   \n",
       "1952              0.147729  0.769917  0.082375  0.151873       0.664022   \n",
       "1953              0.157244  0.774077  0.068679  0.273531       0.654772   \n",
       "\n",
       "                  count_review   std_err  \n",
       "publication_year                          \n",
       "1946                        41  0.116149  \n",
       "1950                        68  0.082311  \n",
       "1951                        51  0.107495  \n",
       "1952                        48  0.095843  \n",
       "1953                        78  0.074138  "
      ]
     },
     "execution_count": 72,
     "metadata": {},
     "output_type": "execute_result"
    }
   ],
   "source": [
    "thriller_pos_neu_neg.head()"
   ]
  },
  {
   "cell_type": "code",
   "execution_count": 73,
   "id": "3a501db5",
   "metadata": {
    "scrolled": true
   },
   "outputs": [
    {
     "data": {
      "text/plain": [
       "<AxesSubplot:xlabel='publication_year', ylabel='sentiment'>"
      ]
     },
     "execution_count": 73,
     "metadata": {},
     "output_type": "execute_result"
    },
    {
     "data": {
      "image/png": "[encoded data removed]",
      "text/plain": [
       "<Figure size 720x360 with 1 Axes>"
      ]
     },
     "metadata": {
      "needs_background": "light"
     },
     "output_type": "display_data"
    }
   ],
   "source": [
    "thriller_pos_neu_neg_plot = thriller_pos_neu_neg[['pos','neu','neg','compound']]\n",
    "thriller_pos_neu_neg_plot.plot.line(style='-o', figsize=(10,5), markerfacecolor='blue', ylabel='sentiment')"
   ]
  },
  {
   "cell_type": "code",
   "execution_count": 89,
   "id": "6762c7a2",
   "metadata": {},
   "outputs": [
    {
     "data": {
      "text/plain": [
       "<AxesSubplot:xlabel='publication_year', ylabel='compound sentiment'>"
      ]
     },
     "execution_count": 89,
     "metadata": {},
     "output_type": "execute_result"
    },
    {
     "data": {
      "image/png": "[encoded data removed]",
      "text/plain": [
       "<Figure size 720x360 with 1 Axes>"
      ]
     },
     "metadata": {
      "needs_background": "light"
     },
     "output_type": "display_data"
    }
   ],
   "source": [
    "thriller_pos_neu_neg_plot['compound'].plot.line(style='-o', figsize=(10,5), markerfacecolor='blue', ylabel='compound sentiment', yticks=np.arange(-1,1,step=0.1))"
   ]
  },
  {
   "cell_type": "markdown",
   "id": "5e8c29ce",
   "metadata": {},
   "source": [
    "__Error bars__"
   ]
  },
  {
   "cell_type": "code",
   "execution_count": 75,
   "id": "4012b77e",
   "metadata": {},
   "outputs": [
    {
     "data": {
      "image/png": "[encoded data removed]",
      "text/plain": [
       "<Figure size 720x360 with 1 Axes>"
      ]
     },
     "metadata": {
      "needs_background": "light"
     },
     "output_type": "display_data"
    }
   ],
   "source": [
    "plt.figure(figsize=(10,5))\n",
    "x = thriller_pos_neu_neg.index\n",
    "y = thriller_pos_neu_neg['compound']\n",
    "yerr = thriller_pos_neu_neg['std_err']\n",
    "plt.plot(thriller_pos_neu_neg['pos'])\n",
    "plt.plot(thriller_pos_neu_neg['neu'])\n",
    "plt.plot(thriller_pos_neu_neg['neg'])\n",
    "plt.errorbar(x,y, yerr=yerr)\n",
    "plt.title(\"Crime & Thriller\")\n",
    "plt.ylabel(\"Compound Sentiment\")\n",
    "plt.xlabel(\"Publication Year\")\n",
    "plt.show()"
   ]
  },
  {
   "cell_type": "code",
   "execution_count": 90,
   "id": "1fe701c6",
   "metadata": {},
   "outputs": [
    {
     "data": {
      "image/png": "[encoded data removed]",
      "text/plain": [
       "<Figure size 720x360 with 1 Axes>"
      ]
     },
     "metadata": {
      "needs_background": "light"
     },
     "output_type": "display_data"
    }
   ],
   "source": [
    "plt.figure(figsize=(10,5))\n",
    "x = thriller_pos_neu_neg.index\n",
    "y = thriller_pos_neu_neg['compound']\n",
    "yerr = thriller_pos_neu_neg['std_err']\n",
    "plt.errorbar(x,y, yerr=yerr)\n",
    "plt.yticks(np.arange(-1,1,step=0.1))\n",
    "plt.title(\"Crime & Thriller\")\n",
    "plt.ylabel(\"Compound Sentiment\")\n",
    "plt.xlabel(\"Publication Year\")\n",
    "plt.show()"
   ]
  },
  {
   "cell_type": "code",
   "execution_count": null,
   "id": "c3bd9a31",
   "metadata": {},
   "outputs": [],
   "source": []
  }
 ],
 "metadata": {
  "kernelspec": {
   "display_name": "Python 3",
   "language": "python",
   "name": "python3"
  },
  "language_info": {
   "codemirror_mode": {
    "name": "ipython",
    "version": 3
   },
   "file_extension": ".py",
   "mimetype": "text/x-python",
   "name": "python",
   "nbconvert_exporter": "python",
   "pygments_lexer": "ipython3",
   "version": "3.8.5"
  }
 },
 "nbformat": 4,
 "nbformat_minor": 5
}
