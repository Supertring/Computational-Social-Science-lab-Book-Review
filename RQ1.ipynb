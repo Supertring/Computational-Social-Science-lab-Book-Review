{
 "cells": [
  {
   "cell_type": "markdown",
   "id": "bb3458f9",
   "metadata": {},
   "source": [
    "__Research Question 1__\n",
    "* Is there a growth or decline of book genre?"
   ]
  },
  {
   "cell_type": "code",
   "execution_count": 1,
   "id": "3b687895",
   "metadata": {},
   "outputs": [],
   "source": [
    "import pandas as pd\n",
    "import numpy as np\n",
    "import matplotlib.pyplot as plt"
   ]
  },
  {
   "cell_type": "code",
   "execution_count": 2,
   "id": "5897b4ee",
   "metadata": {},
   "outputs": [
    {
     "name": "stdout",
     "output_type": "stream",
     "text": [
      "Untitled.rtf                     glove.twitter.27B.200d.txt\r\n",
      "books_interactions_final.json    readme.rtf\r\n",
      "books_metadata_comics.json       rq1.ipynb\r\n",
      "books_metadata_thriller.json     rq2.ipynb\r\n",
      "books_review_comics_final.json   rq4.ipynb\r\n",
      "books_review_thriller.json       rq5.ipynb\r\n",
      "comic_review_classification.json rq6-regression.ipynb\r\n",
      "glove.6B.100d.txt\r\n"
     ]
    }
   ],
   "source": [
    "!ls"
   ]
  },
  {
   "cell_type": "markdown",
   "id": "327771c4",
   "metadata": {},
   "source": [
    "__book metadata and book review datasets__"
   ]
  },
  {
   "cell_type": "code",
   "execution_count": 3,
   "id": "37aa1cac",
   "metadata": {},
   "outputs": [],
   "source": [
    "books_metadata = pd.read_json('books_metadata_comics.json')\n",
    "books_review_comics = pd.read_json('books_review_comics_final.json')"
   ]
  },
  {
   "cell_type": "markdown",
   "id": "062f5450",
   "metadata": {},
   "source": [
    "# Comics and graphics analysis"
   ]
  },
  {
   "cell_type": "code",
   "execution_count": 4,
   "id": "9888cb5b",
   "metadata": {
    "scrolled": true
   },
   "outputs": [
    {
     "data": {
      "text/html": [
       "<div>\n",
       "<style scoped>\n",
       "    .dataframe tbody tr th:only-of-type {\n",
       "        vertical-align: middle;\n",
       "    }\n",
       "\n",
       "    .dataframe tbody tr th {\n",
       "        vertical-align: top;\n",
       "    }\n",
       "\n",
       "    .dataframe thead th {\n",
       "        text-align: right;\n",
       "    }\n",
       "</style>\n",
       "<table border=\"1\" class=\"dataframe\">\n",
       "  <thead>\n",
       "    <tr style=\"text-align: right;\">\n",
       "      <th></th>\n",
       "      <th>text_reviews_count</th>\n",
       "      <th>language_code</th>\n",
       "      <th>popular_shelves</th>\n",
       "      <th>is_ebook</th>\n",
       "      <th>average_rating</th>\n",
       "      <th>description</th>\n",
       "      <th>authors</th>\n",
       "      <th>publication_year</th>\n",
       "      <th>book_id</th>\n",
       "      <th>ratings_count</th>\n",
       "      <th>work_id</th>\n",
       "      <th>title</th>\n",
       "    </tr>\n",
       "  </thead>\n",
       "  <tbody>\n",
       "    <tr>\n",
       "      <th>2</th>\n",
       "      <td>5</td>\n",
       "      <td>eng</td>\n",
       "      <td>[{'count': '493', 'name': 'to-read'}, {'count'...</td>\n",
       "      <td>false</td>\n",
       "      <td>4.28</td>\n",
       "      <td>The questions plaguing Captain America's dream...</td>\n",
       "      <td>[{'author_id': '37450', 'role': ''}]</td>\n",
       "      <td>2012</td>\n",
       "      <td>13571772</td>\n",
       "      <td>51</td>\n",
       "      <td>102217</td>\n",
       "      <td>Captain America: Winter Soldier (The Ultimate ...</td>\n",
       "    </tr>\n",
       "    <tr>\n",
       "      <th>4</th>\n",
       "      <td>6</td>\n",
       "      <td>en-US</td>\n",
       "      <td>[{'count': '20', 'name': 'to-read'}, {'count':...</td>\n",
       "      <td>false</td>\n",
       "      <td>4.06</td>\n",
       "      <td>These are the stories that catapulted Superman...</td>\n",
       "      <td>[{'author_id': '81563', 'role': ''}, {'author_...</td>\n",
       "      <td>1997</td>\n",
       "      <td>707611</td>\n",
       "      <td>51</td>\n",
       "      <td>693886</td>\n",
       "      <td>Superman Archives, Vol. 2</td>\n",
       "    </tr>\n",
       "    <tr>\n",
       "      <th>6</th>\n",
       "      <td>9</td>\n",
       "      <td>eng</td>\n",
       "      <td>[{'count': '47', 'name': 'to-read'}, {'count':...</td>\n",
       "      <td>false</td>\n",
       "      <td>4.15</td>\n",
       "      <td>PRODUCT DESCRIPTION: The first new volume of G...</td>\n",
       "      <td>[{'author_id': '14965', 'role': ''}, {'author_...</td>\n",
       "      <td>2016</td>\n",
       "      <td>27036536</td>\n",
       "      <td>39</td>\n",
       "      <td>47077783</td>\n",
       "      <td>War Stories, Volume 3</td>\n",
       "    </tr>\n",
       "    <tr>\n",
       "      <th>11</th>\n",
       "      <td>26</td>\n",
       "      <td>eng</td>\n",
       "      <td>[{'count': '104', 'name': 'to-read'}, {'count'...</td>\n",
       "      <td>false</td>\n",
       "      <td>3.16</td>\n",
       "      <td>Sir Arthur Conan Doyle's dauntless detective r...</td>\n",
       "      <td>[{'author_id': '61231', 'role': ''}, {'author_...</td>\n",
       "      <td>2011</td>\n",
       "      <td>11827783</td>\n",
       "      <td>114</td>\n",
       "      <td>16782451</td>\n",
       "      <td>Sherlock Holmes: Year One</td>\n",
       "    </tr>\n",
       "    <tr>\n",
       "      <th>12</th>\n",
       "      <td>6</td>\n",
       "      <td>eng</td>\n",
       "      <td>[{'count': '133', 'name': 'manga'}, {'count': ...</td>\n",
       "      <td>false</td>\n",
       "      <td>4.41</td>\n",
       "      <td>This is the story of a group of boys who try t...</td>\n",
       "      <td>[{'author_id': '294649', 'role': ''}]</td>\n",
       "      <td>2012</td>\n",
       "      <td>12349665</td>\n",
       "      <td>149</td>\n",
       "      <td>3062163</td>\n",
       "      <td>Naoki Urasawa's 20th Century Boys, Volume 20 (...</td>\n",
       "    </tr>\n",
       "  </tbody>\n",
       "</table>\n",
       "</div>"
      ],
      "text/plain": [
       "    text_reviews_count language_code  \\\n",
       "2                    5           eng   \n",
       "4                    6         en-US   \n",
       "6                    9           eng   \n",
       "11                  26           eng   \n",
       "12                   6           eng   \n",
       "\n",
       "                                      popular_shelves is_ebook  \\\n",
       "2   [{'count': '493', 'name': 'to-read'}, {'count'...    false   \n",
       "4   [{'count': '20', 'name': 'to-read'}, {'count':...    false   \n",
       "6   [{'count': '47', 'name': 'to-read'}, {'count':...    false   \n",
       "11  [{'count': '104', 'name': 'to-read'}, {'count'...    false   \n",
       "12  [{'count': '133', 'name': 'manga'}, {'count': ...    false   \n",
       "\n",
       "    average_rating                                        description  \\\n",
       "2             4.28  The questions plaguing Captain America's dream...   \n",
       "4             4.06  These are the stories that catapulted Superman...   \n",
       "6             4.15  PRODUCT DESCRIPTION: The first new volume of G...   \n",
       "11            3.16  Sir Arthur Conan Doyle's dauntless detective r...   \n",
       "12            4.41  This is the story of a group of boys who try t...   \n",
       "\n",
       "                                              authors  publication_year  \\\n",
       "2                [{'author_id': '37450', 'role': ''}]              2012   \n",
       "4   [{'author_id': '81563', 'role': ''}, {'author_...              1997   \n",
       "6   [{'author_id': '14965', 'role': ''}, {'author_...              2016   \n",
       "11  [{'author_id': '61231', 'role': ''}, {'author_...              2011   \n",
       "12              [{'author_id': '294649', 'role': ''}]              2012   \n",
       "\n",
       "     book_id  ratings_count   work_id  \\\n",
       "2   13571772             51    102217   \n",
       "4     707611             51    693886   \n",
       "6   27036536             39  47077783   \n",
       "11  11827783            114  16782451   \n",
       "12  12349665            149   3062163   \n",
       "\n",
       "                                                title  \n",
       "2   Captain America: Winter Soldier (The Ultimate ...  \n",
       "4                           Superman Archives, Vol. 2  \n",
       "6                               War Stories, Volume 3  \n",
       "11                          Sherlock Holmes: Year One  \n",
       "12  Naoki Urasawa's 20th Century Boys, Volume 20 (...  "
      ]
     },
     "execution_count": 4,
     "metadata": {},
     "output_type": "execute_result"
    }
   ],
   "source": [
    "books_metadata.head()"
   ]
  },
  {
   "cell_type": "markdown",
   "id": "37c54f48",
   "metadata": {},
   "source": [
    "__metadata__: used columns/features\n",
    "* language_code\n",
    "* average_rating\n",
    "* book_id\n",
    "* publication_year\n",
    "* is_ebook"
   ]
  },
  {
   "cell_type": "code",
   "execution_count": 5,
   "id": "5fe035b2",
   "metadata": {},
   "outputs": [
    {
     "name": "stdout",
     "output_type": "stream",
     "text": [
      "<class 'pandas.core.frame.DataFrame'>\n",
      "Int64Index: 23937 entries, 2 to 89410\n",
      "Data columns (total 12 columns):\n",
      " #   Column              Non-Null Count  Dtype  \n",
      "---  ------              --------------  -----  \n",
      " 0   text_reviews_count  23937 non-null  int64  \n",
      " 1   language_code       23937 non-null  object \n",
      " 2   popular_shelves     23937 non-null  object \n",
      " 3   is_ebook            23937 non-null  object \n",
      " 4   average_rating      23937 non-null  float64\n",
      " 5   description         23937 non-null  object \n",
      " 6   authors             23937 non-null  object \n",
      " 7   publication_year    23937 non-null  int64  \n",
      " 8   book_id             23937 non-null  int64  \n",
      " 9   ratings_count       23937 non-null  int64  \n",
      " 10  work_id             23937 non-null  int64  \n",
      " 11  title               23937 non-null  object \n",
      "dtypes: float64(1), int64(5), object(6)\n",
      "memory usage: 2.4+ MB\n"
     ]
    }
   ],
   "source": [
    "books_metadata.info()"
   ]
  },
  {
   "cell_type": "markdown",
   "id": "cfa173ae",
   "metadata": {},
   "source": [
    "__reivew__: used columns/features\n",
    "* book_id\n",
    "* rating\n",
    "* review_text"
   ]
  },
  {
   "cell_type": "code",
   "execution_count": 6,
   "id": "3a1a94b8",
   "metadata": {
    "scrolled": true
   },
   "outputs": [
    {
     "name": "stdout",
     "output_type": "stream",
     "text": [
      "<class 'pandas.core.frame.DataFrame'>\n",
      "Int64Index: 330052 entries, 0 to 330051\n",
      "Data columns (total 11 columns):\n",
      " #   Column        Non-Null Count   Dtype \n",
      "---  ------        --------------   ----- \n",
      " 0   index         330052 non-null  int64 \n",
      " 1   user_id       330052 non-null  object\n",
      " 2   book_id       330052 non-null  int64 \n",
      " 3   review_id     330052 non-null  object\n",
      " 4   rating        330052 non-null  int64 \n",
      " 5   review_text   330052 non-null  object\n",
      " 6   date_added    330052 non-null  object\n",
      " 7   date_updated  330052 non-null  object\n",
      " 8   read_at       330052 non-null  object\n",
      " 9   n_votes       330052 non-null  int64 \n",
      " 10  n_comments    330052 non-null  int64 \n",
      "dtypes: int64(5), object(6)\n",
      "memory usage: 30.2+ MB\n"
     ]
    }
   ],
   "source": [
    "books_review_comics.info()"
   ]
  },
  {
   "cell_type": "markdown",
   "id": "b97fb699",
   "metadata": {},
   "source": [
    "__Get the unique publication year list__"
   ]
  },
  {
   "cell_type": "code",
   "execution_count": 7,
   "id": "a25c8cc4",
   "metadata": {},
   "outputs": [
    {
     "data": {
      "text/plain": [
       "array([2012, 1997, 2016, 2011, 2010, 2014, 2009, 2013, 1989, 2006, 2015,\n",
       "       2017, 2007, 2002, 2008, 1990, 2005, 1991, 2004, 2003, 2018, 1986,\n",
       "       1998, 1999, 1993, 1995, 2000, 1996, 2001, 1987, 1988, 1992, 1994])"
      ]
     },
     "execution_count": 7,
     "metadata": {},
     "output_type": "execute_result"
    }
   ],
   "source": [
    "books_metadata['publication_year'].unique()"
   ]
  },
  {
   "cell_type": "markdown",
   "id": "fbb72796",
   "metadata": {},
   "source": [
    "__sort data by publication year__"
   ]
  },
  {
   "cell_type": "code",
   "execution_count": 8,
   "id": "5d44afd4",
   "metadata": {},
   "outputs": [],
   "source": [
    "rating_year = books_metadata[['average_rating','publication_year']].sort_values(by=['publication_year'])"
   ]
  },
  {
   "cell_type": "code",
   "execution_count": 9,
   "id": "26eae5be",
   "metadata": {},
   "outputs": [
    {
     "data": {
      "text/html": [
       "<div>\n",
       "<style scoped>\n",
       "    .dataframe tbody tr th:only-of-type {\n",
       "        vertical-align: middle;\n",
       "    }\n",
       "\n",
       "    .dataframe tbody tr th {\n",
       "        vertical-align: top;\n",
       "    }\n",
       "\n",
       "    .dataframe thead th {\n",
       "        text-align: right;\n",
       "    }\n",
       "</style>\n",
       "<table border=\"1\" class=\"dataframe\">\n",
       "  <thead>\n",
       "    <tr style=\"text-align: right;\">\n",
       "      <th></th>\n",
       "      <th>average_rating</th>\n",
       "      <th>publication_year</th>\n",
       "    </tr>\n",
       "  </thead>\n",
       "  <tbody>\n",
       "    <tr>\n",
       "      <th>72703</th>\n",
       "      <td>2.83</td>\n",
       "      <td>1986</td>\n",
       "    </tr>\n",
       "    <tr>\n",
       "      <th>21558</th>\n",
       "      <td>4.04</td>\n",
       "      <td>1986</td>\n",
       "    </tr>\n",
       "    <tr>\n",
       "      <th>5353</th>\n",
       "      <td>4.23</td>\n",
       "      <td>1986</td>\n",
       "    </tr>\n",
       "    <tr>\n",
       "      <th>63729</th>\n",
       "      <td>4.25</td>\n",
       "      <td>1986</td>\n",
       "    </tr>\n",
       "    <tr>\n",
       "      <th>41738</th>\n",
       "      <td>4.16</td>\n",
       "      <td>1986</td>\n",
       "    </tr>\n",
       "  </tbody>\n",
       "</table>\n",
       "</div>"
      ],
      "text/plain": [
       "       average_rating  publication_year\n",
       "72703            2.83              1986\n",
       "21558            4.04              1986\n",
       "5353             4.23              1986\n",
       "63729            4.25              1986\n",
       "41738            4.16              1986"
      ]
     },
     "execution_count": 9,
     "metadata": {},
     "output_type": "execute_result"
    }
   ],
   "source": [
    "rating_year.head()"
   ]
  },
  {
   "cell_type": "markdown",
   "id": "a31c6442",
   "metadata": {},
   "source": [
    "__Standard deviation of rating for each publication year__\n",
    "* groupby publication year and calculate standard deviation for each publication year"
   ]
  },
  {
   "cell_type": "code",
   "execution_count": 10,
   "id": "deb2eeda",
   "metadata": {},
   "outputs": [],
   "source": [
    "std_rating_year = rating_year.groupby('publication_year').agg(np.std)"
   ]
  },
  {
   "cell_type": "code",
   "execution_count": 11,
   "id": "307f754a",
   "metadata": {},
   "outputs": [
    {
     "data": {
      "text/html": [
       "<div>\n",
       "<style scoped>\n",
       "    .dataframe tbody tr th:only-of-type {\n",
       "        vertical-align: middle;\n",
       "    }\n",
       "\n",
       "    .dataframe tbody tr th {\n",
       "        vertical-align: top;\n",
       "    }\n",
       "\n",
       "    .dataframe thead th {\n",
       "        text-align: right;\n",
       "    }\n",
       "</style>\n",
       "<table border=\"1\" class=\"dataframe\">\n",
       "  <thead>\n",
       "    <tr style=\"text-align: right;\">\n",
       "      <th></th>\n",
       "      <th>average_rating</th>\n",
       "    </tr>\n",
       "    <tr>\n",
       "      <th>publication_year</th>\n",
       "      <th></th>\n",
       "    </tr>\n",
       "  </thead>\n",
       "  <tbody>\n",
       "    <tr>\n",
       "      <th>1986</th>\n",
       "      <td>0.419507</td>\n",
       "    </tr>\n",
       "    <tr>\n",
       "      <th>1987</th>\n",
       "      <td>0.433465</td>\n",
       "    </tr>\n",
       "    <tr>\n",
       "      <th>1988</th>\n",
       "      <td>0.454033</td>\n",
       "    </tr>\n",
       "    <tr>\n",
       "      <th>1989</th>\n",
       "      <td>0.446421</td>\n",
       "    </tr>\n",
       "    <tr>\n",
       "      <th>1990</th>\n",
       "      <td>0.500894</td>\n",
       "    </tr>\n",
       "  </tbody>\n",
       "</table>\n",
       "</div>"
      ],
      "text/plain": [
       "                  average_rating\n",
       "publication_year                \n",
       "1986                    0.419507\n",
       "1987                    0.433465\n",
       "1988                    0.454033\n",
       "1989                    0.446421\n",
       "1990                    0.500894"
      ]
     },
     "execution_count": 11,
     "metadata": {},
     "output_type": "execute_result"
    }
   ],
   "source": [
    "std_rating_year.head()"
   ]
  },
  {
   "cell_type": "markdown",
   "id": "765ce1a5",
   "metadata": {},
   "source": [
    "__group by publication year and calculate mean of average rating__"
   ]
  },
  {
   "cell_type": "code",
   "execution_count": 12,
   "id": "dfca0f09",
   "metadata": {},
   "outputs": [],
   "source": [
    "mean_rating_year = rating_year.groupby('publication_year').agg('mean')"
   ]
  },
  {
   "cell_type": "code",
   "execution_count": 13,
   "id": "28aa87b0",
   "metadata": {},
   "outputs": [],
   "source": [
    "mean_rating_year['std'] = std_rating_year['average_rating']"
   ]
  },
  {
   "cell_type": "markdown",
   "id": "a8a3ebab",
   "metadata": {},
   "source": [
    "__count the number of rating per publication year__"
   ]
  },
  {
   "cell_type": "code",
   "execution_count": 14,
   "id": "1a2e85d9",
   "metadata": {},
   "outputs": [],
   "source": [
    "count = rating_year.groupby('publication_year').agg('count')"
   ]
  },
  {
   "cell_type": "code",
   "execution_count": 15,
   "id": "2be830a4",
   "metadata": {},
   "outputs": [],
   "source": [
    "mean_rating_year['rating_count'] = count['average_rating']"
   ]
  },
  {
   "cell_type": "markdown",
   "id": "103bbe79",
   "metadata": {},
   "source": [
    "__calculate the standard error__"
   ]
  },
  {
   "cell_type": "code",
   "execution_count": 16,
   "id": "1dfb12ea",
   "metadata": {},
   "outputs": [],
   "source": [
    "mean_rating_year['std_err'] = mean_rating_year['std']/np.sqrt(mean_rating_year['rating_count'])"
   ]
  },
  {
   "cell_type": "code",
   "execution_count": 17,
   "id": "83bd2bba",
   "metadata": {},
   "outputs": [
    {
     "data": {
      "text/html": [
       "<div>\n",
       "<style scoped>\n",
       "    .dataframe tbody tr th:only-of-type {\n",
       "        vertical-align: middle;\n",
       "    }\n",
       "\n",
       "    .dataframe tbody tr th {\n",
       "        vertical-align: top;\n",
       "    }\n",
       "\n",
       "    .dataframe thead th {\n",
       "        text-align: right;\n",
       "    }\n",
       "</style>\n",
       "<table border=\"1\" class=\"dataframe\">\n",
       "  <thead>\n",
       "    <tr style=\"text-align: right;\">\n",
       "      <th></th>\n",
       "      <th>average_rating</th>\n",
       "      <th>std</th>\n",
       "      <th>rating_count</th>\n",
       "      <th>std_err</th>\n",
       "    </tr>\n",
       "    <tr>\n",
       "      <th>publication_year</th>\n",
       "      <th></th>\n",
       "      <th></th>\n",
       "      <th></th>\n",
       "      <th></th>\n",
       "    </tr>\n",
       "  </thead>\n",
       "  <tbody>\n",
       "    <tr>\n",
       "      <th>1986</th>\n",
       "      <td>3.974054</td>\n",
       "      <td>0.419507</td>\n",
       "      <td>37</td>\n",
       "      <td>0.068966</td>\n",
       "    </tr>\n",
       "    <tr>\n",
       "      <th>1987</th>\n",
       "      <td>3.926444</td>\n",
       "      <td>0.433465</td>\n",
       "      <td>45</td>\n",
       "      <td>0.064617</td>\n",
       "    </tr>\n",
       "    <tr>\n",
       "      <th>1988</th>\n",
       "      <td>4.097115</td>\n",
       "      <td>0.454033</td>\n",
       "      <td>52</td>\n",
       "      <td>0.062963</td>\n",
       "    </tr>\n",
       "    <tr>\n",
       "      <th>1989</th>\n",
       "      <td>3.853860</td>\n",
       "      <td>0.446421</td>\n",
       "      <td>57</td>\n",
       "      <td>0.059130</td>\n",
       "    </tr>\n",
       "    <tr>\n",
       "      <th>1990</th>\n",
       "      <td>3.823662</td>\n",
       "      <td>0.500894</td>\n",
       "      <td>71</td>\n",
       "      <td>0.059445</td>\n",
       "    </tr>\n",
       "    <tr>\n",
       "      <th>1991</th>\n",
       "      <td>3.930980</td>\n",
       "      <td>0.498077</td>\n",
       "      <td>51</td>\n",
       "      <td>0.069745</td>\n",
       "    </tr>\n",
       "    <tr>\n",
       "      <th>1992</th>\n",
       "      <td>3.919273</td>\n",
       "      <td>0.544538</td>\n",
       "      <td>55</td>\n",
       "      <td>0.073425</td>\n",
       "    </tr>\n",
       "    <tr>\n",
       "      <th>1993</th>\n",
       "      <td>3.894800</td>\n",
       "      <td>0.396605</td>\n",
       "      <td>75</td>\n",
       "      <td>0.045796</td>\n",
       "    </tr>\n",
       "    <tr>\n",
       "      <th>1994</th>\n",
       "      <td>3.950000</td>\n",
       "      <td>0.523475</td>\n",
       "      <td>62</td>\n",
       "      <td>0.066481</td>\n",
       "    </tr>\n",
       "    <tr>\n",
       "      <th>1995</th>\n",
       "      <td>3.987865</td>\n",
       "      <td>0.449867</td>\n",
       "      <td>89</td>\n",
       "      <td>0.047686</td>\n",
       "    </tr>\n",
       "    <tr>\n",
       "      <th>1996</th>\n",
       "      <td>3.898721</td>\n",
       "      <td>0.461468</td>\n",
       "      <td>86</td>\n",
       "      <td>0.049761</td>\n",
       "    </tr>\n",
       "    <tr>\n",
       "      <th>1997</th>\n",
       "      <td>3.874211</td>\n",
       "      <td>0.396460</td>\n",
       "      <td>114</td>\n",
       "      <td>0.037132</td>\n",
       "    </tr>\n",
       "    <tr>\n",
       "      <th>1998</th>\n",
       "      <td>3.858750</td>\n",
       "      <td>0.429390</td>\n",
       "      <td>104</td>\n",
       "      <td>0.042105</td>\n",
       "    </tr>\n",
       "    <tr>\n",
       "      <th>1999</th>\n",
       "      <td>3.921295</td>\n",
       "      <td>0.455074</td>\n",
       "      <td>139</td>\n",
       "      <td>0.038599</td>\n",
       "    </tr>\n",
       "    <tr>\n",
       "      <th>2000</th>\n",
       "      <td>3.873684</td>\n",
       "      <td>0.397532</td>\n",
       "      <td>152</td>\n",
       "      <td>0.032244</td>\n",
       "    </tr>\n",
       "    <tr>\n",
       "      <th>2001</th>\n",
       "      <td>3.910984</td>\n",
       "      <td>0.445771</td>\n",
       "      <td>183</td>\n",
       "      <td>0.032952</td>\n",
       "    </tr>\n",
       "    <tr>\n",
       "      <th>2002</th>\n",
       "      <td>3.894496</td>\n",
       "      <td>0.392991</td>\n",
       "      <td>258</td>\n",
       "      <td>0.024467</td>\n",
       "    </tr>\n",
       "    <tr>\n",
       "      <th>2003</th>\n",
       "      <td>3.949184</td>\n",
       "      <td>0.377199</td>\n",
       "      <td>380</td>\n",
       "      <td>0.019350</td>\n",
       "    </tr>\n",
       "    <tr>\n",
       "      <th>2004</th>\n",
       "      <td>3.981820</td>\n",
       "      <td>0.367353</td>\n",
       "      <td>533</td>\n",
       "      <td>0.015912</td>\n",
       "    </tr>\n",
       "    <tr>\n",
       "      <th>2005</th>\n",
       "      <td>3.977257</td>\n",
       "      <td>0.385704</td>\n",
       "      <td>638</td>\n",
       "      <td>0.015270</td>\n",
       "    </tr>\n",
       "    <tr>\n",
       "      <th>2006</th>\n",
       "      <td>3.953984</td>\n",
       "      <td>0.382385</td>\n",
       "      <td>871</td>\n",
       "      <td>0.012957</td>\n",
       "    </tr>\n",
       "    <tr>\n",
       "      <th>2007</th>\n",
       "      <td>3.939048</td>\n",
       "      <td>0.383878</td>\n",
       "      <td>1019</td>\n",
       "      <td>0.012026</td>\n",
       "    </tr>\n",
       "    <tr>\n",
       "      <th>2008</th>\n",
       "      <td>3.898015</td>\n",
       "      <td>0.417800</td>\n",
       "      <td>1103</td>\n",
       "      <td>0.012580</td>\n",
       "    </tr>\n",
       "    <tr>\n",
       "      <th>2009</th>\n",
       "      <td>3.933574</td>\n",
       "      <td>0.391402</td>\n",
       "      <td>1262</td>\n",
       "      <td>0.011018</td>\n",
       "    </tr>\n",
       "    <tr>\n",
       "      <th>2010</th>\n",
       "      <td>3.916230</td>\n",
       "      <td>0.419908</td>\n",
       "      <td>1406</td>\n",
       "      <td>0.011199</td>\n",
       "    </tr>\n",
       "    <tr>\n",
       "      <th>2011</th>\n",
       "      <td>3.901371</td>\n",
       "      <td>0.428552</td>\n",
       "      <td>1670</td>\n",
       "      <td>0.010487</td>\n",
       "    </tr>\n",
       "    <tr>\n",
       "      <th>2012</th>\n",
       "      <td>3.915327</td>\n",
       "      <td>0.427082</td>\n",
       "      <td>1836</td>\n",
       "      <td>0.009967</td>\n",
       "    </tr>\n",
       "    <tr>\n",
       "      <th>2013</th>\n",
       "      <td>3.931425</td>\n",
       "      <td>0.400527</td>\n",
       "      <td>2407</td>\n",
       "      <td>0.008164</td>\n",
       "    </tr>\n",
       "    <tr>\n",
       "      <th>2014</th>\n",
       "      <td>3.911392</td>\n",
       "      <td>0.430441</td>\n",
       "      <td>2521</td>\n",
       "      <td>0.008573</td>\n",
       "    </tr>\n",
       "    <tr>\n",
       "      <th>2015</th>\n",
       "      <td>3.884784</td>\n",
       "      <td>0.427481</td>\n",
       "      <td>2874</td>\n",
       "      <td>0.007974</td>\n",
       "    </tr>\n",
       "    <tr>\n",
       "      <th>2016</th>\n",
       "      <td>3.888002</td>\n",
       "      <td>0.424712</td>\n",
       "      <td>2418</td>\n",
       "      <td>0.008637</td>\n",
       "    </tr>\n",
       "    <tr>\n",
       "      <th>2017</th>\n",
       "      <td>3.843536</td>\n",
       "      <td>0.453918</td>\n",
       "      <td>1335</td>\n",
       "      <td>0.012423</td>\n",
       "    </tr>\n",
       "    <tr>\n",
       "      <th>2018</th>\n",
       "      <td>3.782647</td>\n",
       "      <td>0.841825</td>\n",
       "      <td>34</td>\n",
       "      <td>0.144372</td>\n",
       "    </tr>\n",
       "  </tbody>\n",
       "</table>\n",
       "</div>"
      ],
      "text/plain": [
       "                  average_rating       std  rating_count   std_err\n",
       "publication_year                                                  \n",
       "1986                    3.974054  0.419507            37  0.068966\n",
       "1987                    3.926444  0.433465            45  0.064617\n",
       "1988                    4.097115  0.454033            52  0.062963\n",
       "1989                    3.853860  0.446421            57  0.059130\n",
       "1990                    3.823662  0.500894            71  0.059445\n",
       "1991                    3.930980  0.498077            51  0.069745\n",
       "1992                    3.919273  0.544538            55  0.073425\n",
       "1993                    3.894800  0.396605            75  0.045796\n",
       "1994                    3.950000  0.523475            62  0.066481\n",
       "1995                    3.987865  0.449867            89  0.047686\n",
       "1996                    3.898721  0.461468            86  0.049761\n",
       "1997                    3.874211  0.396460           114  0.037132\n",
       "1998                    3.858750  0.429390           104  0.042105\n",
       "1999                    3.921295  0.455074           139  0.038599\n",
       "2000                    3.873684  0.397532           152  0.032244\n",
       "2001                    3.910984  0.445771           183  0.032952\n",
       "2002                    3.894496  0.392991           258  0.024467\n",
       "2003                    3.949184  0.377199           380  0.019350\n",
       "2004                    3.981820  0.367353           533  0.015912\n",
       "2005                    3.977257  0.385704           638  0.015270\n",
       "2006                    3.953984  0.382385           871  0.012957\n",
       "2007                    3.939048  0.383878          1019  0.012026\n",
       "2008                    3.898015  0.417800          1103  0.012580\n",
       "2009                    3.933574  0.391402          1262  0.011018\n",
       "2010                    3.916230  0.419908          1406  0.011199\n",
       "2011                    3.901371  0.428552          1670  0.010487\n",
       "2012                    3.915327  0.427082          1836  0.009967\n",
       "2013                    3.931425  0.400527          2407  0.008164\n",
       "2014                    3.911392  0.430441          2521  0.008573\n",
       "2015                    3.884784  0.427481          2874  0.007974\n",
       "2016                    3.888002  0.424712          2418  0.008637\n",
       "2017                    3.843536  0.453918          1335  0.012423\n",
       "2018                    3.782647  0.841825            34  0.144372"
      ]
     },
     "execution_count": 17,
     "metadata": {},
     "output_type": "execute_result"
    }
   ],
   "source": [
    "mean_rating_year"
   ]
  },
  {
   "cell_type": "code",
   "execution_count": 18,
   "id": "1c8eada2",
   "metadata": {
    "scrolled": false
   },
   "outputs": [
    {
     "name": "stdout",
     "output_type": "stream",
     "text": [
      "min mean rating :  3.78264705882353\n",
      "max mean rating :  4.0971153846153845\n"
     ]
    }
   ],
   "source": [
    "print(\"min mean rating : \", mean_rating_year['average_rating'].min())\n",
    "print(\"max mean rating : \", mean_rating_year['average_rating'].max())"
   ]
  },
  {
   "cell_type": "markdown",
   "id": "f8807d34",
   "metadata": {},
   "source": [
    "__plot of average rating for each publication year__"
   ]
  },
  {
   "cell_type": "code",
   "execution_count": 28,
   "id": "d60e86cf",
   "metadata": {},
   "outputs": [
    {
     "data": {
      "text/plain": [
       "<AxesSubplot:xlabel='publication_year', ylabel='mean rating'>"
      ]
     },
     "execution_count": 28,
     "metadata": {},
     "output_type": "execute_result"
    },
    {
     "data": {
      "image/png": "[encoded data removed]",
      "text/plain": [
       "<Figure size 720x360 with 1 Axes>"
      ]
     },
     "metadata": {
      "needs_background": "light"
     },
     "output_type": "display_data"
    }
   ],
   "source": [
    "mean_rating_year['average_rating'].plot.line(style='-o', figsize=(10,5), markerfacecolor='blue', ylabel='mean rating')"
   ]
  },
  {
   "cell_type": "markdown",
   "id": "e039f405",
   "metadata": {},
   "source": [
    "__Error bar plot for average rating per publication year__"
   ]
  },
  {
   "cell_type": "code",
   "execution_count": 50,
   "id": "8a2bf8c5",
   "metadata": {
    "scrolled": true
   },
   "outputs": [
    {
     "data": {
      "image/png": "[encoded data removed]",
      "text/plain": [
       "<Figure size 720x360 with 1 Axes>"
      ]
     },
     "metadata": {
      "needs_background": "light"
     },
     "output_type": "display_data"
    }
   ],
   "source": [
    "plt.figure(figsize=(10,5))\n",
    "x = mean_rating_year.index\n",
    "y = mean_rating_year['average_rating']\n",
    "yerr = mean_rating_year['std_err']\n",
    "plt.errorbar(x,y, yerr=yerr, fmt='')\n",
    "plt.title(\"Comics & Graphics\")\n",
    "plt.ylabel(\"Average Rating\")\n",
    "plt.xlabel(\"Publiction Year\")\n",
    "plt.show()"
   ]
  },
  {
   "cell_type": "markdown",
   "id": "79818173",
   "metadata": {},
   "source": [
    "__minimum rating count of 30__"
   ]
  },
  {
   "cell_type": "code",
   "execution_count": 31,
   "id": "94b3f196",
   "metadata": {},
   "outputs": [],
   "source": [
    "count_rating_year = rating_year.groupby('publication_year').agg('count')"
   ]
  },
  {
   "cell_type": "code",
   "execution_count": 32,
   "id": "afaac444",
   "metadata": {
    "scrolled": false
   },
   "outputs": [
    {
     "name": "stdout",
     "output_type": "stream",
     "text": [
      "min count of rating :  34\n",
      "max count of rating :  2874\n"
     ]
    }
   ],
   "source": [
    "print(\"min count of rating : \", count_rating_year['average_rating'].min())\n",
    "print(\"max count of rating : \", count_rating_year['average_rating'].max())"
   ]
  },
  {
   "cell_type": "code",
   "execution_count": 33,
   "id": "fda63aa8",
   "metadata": {
    "scrolled": true
   },
   "outputs": [
    {
     "data": {
      "text/html": [
       "<div>\n",
       "<style scoped>\n",
       "    .dataframe tbody tr th:only-of-type {\n",
       "        vertical-align: middle;\n",
       "    }\n",
       "\n",
       "    .dataframe tbody tr th {\n",
       "        vertical-align: top;\n",
       "    }\n",
       "\n",
       "    .dataframe thead th {\n",
       "        text-align: right;\n",
       "    }\n",
       "</style>\n",
       "<table border=\"1\" class=\"dataframe\">\n",
       "  <thead>\n",
       "    <tr style=\"text-align: right;\">\n",
       "      <th></th>\n",
       "      <th>average_rating</th>\n",
       "    </tr>\n",
       "    <tr>\n",
       "      <th>publication_year</th>\n",
       "      <th></th>\n",
       "    </tr>\n",
       "  </thead>\n",
       "  <tbody>\n",
       "    <tr>\n",
       "      <th>1986</th>\n",
       "      <td>37</td>\n",
       "    </tr>\n",
       "    <tr>\n",
       "      <th>1987</th>\n",
       "      <td>45</td>\n",
       "    </tr>\n",
       "    <tr>\n",
       "      <th>1988</th>\n",
       "      <td>52</td>\n",
       "    </tr>\n",
       "    <tr>\n",
       "      <th>1989</th>\n",
       "      <td>57</td>\n",
       "    </tr>\n",
       "    <tr>\n",
       "      <th>1990</th>\n",
       "      <td>71</td>\n",
       "    </tr>\n",
       "  </tbody>\n",
       "</table>\n",
       "</div>"
      ],
      "text/plain": [
       "                  average_rating\n",
       "publication_year                \n",
       "1986                          37\n",
       "1987                          45\n",
       "1988                          52\n",
       "1989                          57\n",
       "1990                          71"
      ]
     },
     "execution_count": 33,
     "metadata": {},
     "output_type": "execute_result"
    }
   ],
   "source": [
    "count_rating_year.head()"
   ]
  },
  {
   "cell_type": "code",
   "execution_count": 34,
   "id": "98e52653",
   "metadata": {
    "scrolled": true
   },
   "outputs": [
    {
     "data": {
      "text/plain": [
       "<AxesSubplot:xlabel='publication_year', ylabel='frequency'>"
      ]
     },
     "execution_count": 34,
     "metadata": {},
     "output_type": "execute_result"
    },
    {
     "data": {
      "image/png": "[encoded data removed]",
      "text/plain": [
       "<Figure size 720x360 with 1 Axes>"
      ]
     },
     "metadata": {
      "needs_background": "light"
     },
     "output_type": "display_data"
    }
   ],
   "source": [
    "count_rating_year.plot.line(style='-o', figsize=(10,5), markerfacecolor='blue', ylabel='frequency')"
   ]
  },
  {
   "cell_type": "markdown",
   "id": "f414f9ff",
   "metadata": {},
   "source": [
    "__Error bars__ src: https://en.wikipedia.org/wiki/Error_bar\n",
    "* are the graphical representations of the variability of data\n",
    "* used on graphs to indicate the error or uncertainty in a reported measurement\n",
    "* they give a general idea of how precise a measurement is or conversely how far from the reported value the true (error free) value might be\n",
    "\n",
    "\n",
    "* Bar charts without error bars give the illusion that a measured or calculated value is known to high precision or high confidence.\n",
    "\n",
    "\n",
    "__Error bars are graphical representations of the variability of data and used on graphs to indicate the error or uncertainty in a reported measurement. They give a general idea of how precise a measurement is, or conversely, how far from the reported value the true (error free) value might be.__\n",
    "\n",
    "* The standard error is calculated by dividing the standard deviation by the square root of number of measurements that make up the mean (often represented by N). In this case, 5 measurements were made (N = 5) so the standard deviation is divided by the square root of 5."
   ]
  },
  {
   "cell_type": "code",
   "execution_count": 35,
   "id": "f1ecabc9",
   "metadata": {
    "scrolled": true
   },
   "outputs": [
    {
     "data": {
      "text/html": [
       "<div>\n",
       "<style scoped>\n",
       "    .dataframe tbody tr th:only-of-type {\n",
       "        vertical-align: middle;\n",
       "    }\n",
       "\n",
       "    .dataframe tbody tr th {\n",
       "        vertical-align: top;\n",
       "    }\n",
       "\n",
       "    .dataframe thead th {\n",
       "        text-align: right;\n",
       "    }\n",
       "</style>\n",
       "<table border=\"1\" class=\"dataframe\">\n",
       "  <thead>\n",
       "    <tr style=\"text-align: right;\">\n",
       "      <th></th>\n",
       "      <th>average_rating</th>\n",
       "      <th>std</th>\n",
       "      <th>rating_count</th>\n",
       "      <th>std_err</th>\n",
       "    </tr>\n",
       "    <tr>\n",
       "      <th>publication_year</th>\n",
       "      <th></th>\n",
       "      <th></th>\n",
       "      <th></th>\n",
       "      <th></th>\n",
       "    </tr>\n",
       "  </thead>\n",
       "  <tbody>\n",
       "    <tr>\n",
       "      <th>1986</th>\n",
       "      <td>3.974054</td>\n",
       "      <td>0.419507</td>\n",
       "      <td>37</td>\n",
       "      <td>0.068966</td>\n",
       "    </tr>\n",
       "    <tr>\n",
       "      <th>1987</th>\n",
       "      <td>3.926444</td>\n",
       "      <td>0.433465</td>\n",
       "      <td>45</td>\n",
       "      <td>0.064617</td>\n",
       "    </tr>\n",
       "    <tr>\n",
       "      <th>1988</th>\n",
       "      <td>4.097115</td>\n",
       "      <td>0.454033</td>\n",
       "      <td>52</td>\n",
       "      <td>0.062963</td>\n",
       "    </tr>\n",
       "    <tr>\n",
       "      <th>1989</th>\n",
       "      <td>3.853860</td>\n",
       "      <td>0.446421</td>\n",
       "      <td>57</td>\n",
       "      <td>0.059130</td>\n",
       "    </tr>\n",
       "    <tr>\n",
       "      <th>1990</th>\n",
       "      <td>3.823662</td>\n",
       "      <td>0.500894</td>\n",
       "      <td>71</td>\n",
       "      <td>0.059445</td>\n",
       "    </tr>\n",
       "  </tbody>\n",
       "</table>\n",
       "</div>"
      ],
      "text/plain": [
       "                  average_rating       std  rating_count   std_err\n",
       "publication_year                                                  \n",
       "1986                    3.974054  0.419507            37  0.068966\n",
       "1987                    3.926444  0.433465            45  0.064617\n",
       "1988                    4.097115  0.454033            52  0.062963\n",
       "1989                    3.853860  0.446421            57  0.059130\n",
       "1990                    3.823662  0.500894            71  0.059445"
      ]
     },
     "execution_count": 35,
     "metadata": {},
     "output_type": "execute_result"
    }
   ],
   "source": [
    "mean_rating_year.head()"
   ]
  },
  {
   "cell_type": "markdown",
   "id": "0b5b1c2c",
   "metadata": {},
   "source": [
    "__Error bar for average rating per publication year__"
   ]
  },
  {
   "cell_type": "code",
   "execution_count": 36,
   "id": "3628f024",
   "metadata": {},
   "outputs": [],
   "source": [
    "#define labels, positions, bar heights and error bar heigts\n",
    "labels = mean_rating_year.index.astype('str')\n",
    "x_pos = np.arange(len(labels))\n",
    "CTEs = mean_rating_year['average_rating'].values\n",
    "error = mean_rating_year['std_err'].values"
   ]
  },
  {
   "cell_type": "code",
   "execution_count": 37,
   "id": "08c86d7d",
   "metadata": {
    "scrolled": true
   },
   "outputs": [
    {
     "data": {
      "image/png": "[encoded data removed]",
      "text/plain": [
       "<Figure size 1440x360 with 1 Axes>"
      ]
     },
     "metadata": {
      "needs_background": "light"
     },
     "output_type": "display_data"
    }
   ],
   "source": [
    "# Build the plot\n",
    "fig, ax = plt.subplots(figsize=(20,5))\n",
    "ax.bar(x_pos, CTEs,\n",
    "       yerr=error,\n",
    "       align='center',\n",
    "       alpha=0.5,\n",
    "       ecolor='black',\n",
    "       capsize=10)\n",
    "ax.set_ylabel('average rating')\n",
    "ax.set_xlabel('Publication years')\n",
    "ax.set_xticks(x_pos)\n",
    "ax.set_xticklabels(labels)\n",
    "ax.set_title('Error bars: Comics & Graphics')\n",
    "ax.yaxis.grid(True)"
   ]
  },
  {
   "cell_type": "markdown",
   "id": "76353ec6",
   "metadata": {},
   "source": [
    "__Error bar for rating count per publication year__"
   ]
  },
  {
   "cell_type": "markdown",
   "id": "6066f3c3",
   "metadata": {},
   "source": [
    "# Mystery, thriller and crime"
   ]
  },
  {
   "cell_type": "code",
   "execution_count": 38,
   "id": "3ff9d0ef",
   "metadata": {},
   "outputs": [],
   "source": [
    "books_metadata_thriller = pd.read_json('books_metadata_thriller.json')"
   ]
  },
  {
   "cell_type": "code",
   "execution_count": 39,
   "id": "fb9713ef",
   "metadata": {},
   "outputs": [
    {
     "name": "stdout",
     "output_type": "stream",
     "text": [
      "<class 'pandas.core.frame.DataFrame'>\n",
      "Int64Index: 66315 entries, 1 to 103407\n",
      "Data columns (total 12 columns):\n",
      " #   Column              Non-Null Count  Dtype  \n",
      "---  ------              --------------  -----  \n",
      " 0   text_reviews_count  66315 non-null  int64  \n",
      " 1   language_code       66315 non-null  object \n",
      " 2   popular_shelves     66315 non-null  object \n",
      " 3   is_ebook            66315 non-null  object \n",
      " 4   average_rating      66315 non-null  float64\n",
      " 5   description         66315 non-null  object \n",
      " 6   authors             66315 non-null  object \n",
      " 7   publication_year    66315 non-null  int64  \n",
      " 8   book_id             66315 non-null  int64  \n",
      " 9   ratings_count       66315 non-null  int64  \n",
      " 10  work_id             66315 non-null  int64  \n",
      " 11  title               66315 non-null  object \n",
      "dtypes: float64(1), int64(5), object(6)\n",
      "memory usage: 6.6+ MB\n"
     ]
    }
   ],
   "source": [
    "books_metadata_thriller.info()"
   ]
  },
  {
   "cell_type": "code",
   "execution_count": 40,
   "id": "a6ad4c4e",
   "metadata": {
    "scrolled": true
   },
   "outputs": [
    {
     "data": {
      "text/html": [
       "<div>\n",
       "<style scoped>\n",
       "    .dataframe tbody tr th:only-of-type {\n",
       "        vertical-align: middle;\n",
       "    }\n",
       "\n",
       "    .dataframe tbody tr th {\n",
       "        vertical-align: top;\n",
       "    }\n",
       "\n",
       "    .dataframe thead th {\n",
       "        text-align: right;\n",
       "    }\n",
       "</style>\n",
       "<table border=\"1\" class=\"dataframe\">\n",
       "  <thead>\n",
       "    <tr style=\"text-align: right;\">\n",
       "      <th></th>\n",
       "      <th>text_reviews_count</th>\n",
       "      <th>language_code</th>\n",
       "      <th>popular_shelves</th>\n",
       "      <th>is_ebook</th>\n",
       "      <th>average_rating</th>\n",
       "      <th>description</th>\n",
       "      <th>authors</th>\n",
       "      <th>publication_year</th>\n",
       "      <th>book_id</th>\n",
       "      <th>ratings_count</th>\n",
       "      <th>work_id</th>\n",
       "      <th>title</th>\n",
       "    </tr>\n",
       "  </thead>\n",
       "  <tbody>\n",
       "    <tr>\n",
       "      <th>1</th>\n",
       "      <td>3</td>\n",
       "      <td>eng</td>\n",
       "      <td>[{'count': '1694', 'name': 'mystery'}, {'count...</td>\n",
       "      <td>false</td>\n",
       "      <td>3.96</td>\n",
       "      <td>Agatha Christie's most ingenious murder myster...</td>\n",
       "      <td>[{'author_id': '123715', 'role': ''}, {'author...</td>\n",
       "      <td>2013</td>\n",
       "      <td>16158998</td>\n",
       "      <td>5</td>\n",
       "      <td>2288775</td>\n",
       "      <td>A Murder is Announced</td>\n",
       "    </tr>\n",
       "    <tr>\n",
       "      <th>2</th>\n",
       "      <td>6</td>\n",
       "      <td>eng</td>\n",
       "      <td>[{'count': '171', 'name': 'to-read'}, {'count'...</td>\n",
       "      <td>false</td>\n",
       "      <td>4.14</td>\n",
       "      <td>\"Poetic, down trodden and nihilistic, Jonathan...</td>\n",
       "      <td>[{'author_id': '4577517', 'role': ''}]</td>\n",
       "      <td>2014</td>\n",
       "      <td>22722787</td>\n",
       "      <td>18</td>\n",
       "      <td>42251489</td>\n",
       "      <td>The Cost of Doing Business</td>\n",
       "    </tr>\n",
       "    <tr>\n",
       "      <th>3</th>\n",
       "      <td>2</td>\n",
       "      <td>eng</td>\n",
       "      <td>[{'count': '1642', 'name': 'mystery'}, {'count...</td>\n",
       "      <td>false</td>\n",
       "      <td>3.93</td>\n",
       "      <td>In Agatha Christie's classic mystery 4:50 From...</td>\n",
       "      <td>[{'author_id': '123715', 'role': ''}, {'author...</td>\n",
       "      <td>2013</td>\n",
       "      <td>16158996</td>\n",
       "      <td>5</td>\n",
       "      <td>6490729</td>\n",
       "      <td>4:50 From Paddington</td>\n",
       "    </tr>\n",
       "    <tr>\n",
       "      <th>4</th>\n",
       "      <td>46</td>\n",
       "      <td>eng</td>\n",
       "      <td>[{'count': '328', 'name': 'mystery'}, {'count'...</td>\n",
       "      <td>false</td>\n",
       "      <td>4.07</td>\n",
       "      <td>Past and present collide as Special Agent Pend...</td>\n",
       "      <td>[{'author_id': '12577', 'role': ''}, {'author_...</td>\n",
       "      <td>2013</td>\n",
       "      <td>17368265</td>\n",
       "      <td>250</td>\n",
       "      <td>24152432</td>\n",
       "      <td>White Fire (Pendergast, #13)</td>\n",
       "    </tr>\n",
       "    <tr>\n",
       "      <th>5</th>\n",
       "      <td>4</td>\n",
       "      <td>eng</td>\n",
       "      <td>[{'count': '5396', 'name': 'to-read'}, {'count...</td>\n",
       "      <td>false</td>\n",
       "      <td>4.11</td>\n",
       "      <td>1 MP3-CD / 10 hours\\nHaunted by a series of ho...</td>\n",
       "      <td>[{'author_id': '25108', 'role': ''}, {'author_...</td>\n",
       "      <td>2004</td>\n",
       "      <td>926660</td>\n",
       "      <td>15</td>\n",
       "      <td>911663</td>\n",
       "      <td>Monkeewrench</td>\n",
       "    </tr>\n",
       "  </tbody>\n",
       "</table>\n",
       "</div>"
      ],
      "text/plain": [
       "   text_reviews_count language_code  \\\n",
       "1                   3           eng   \n",
       "2                   6           eng   \n",
       "3                   2           eng   \n",
       "4                  46           eng   \n",
       "5                   4           eng   \n",
       "\n",
       "                                     popular_shelves is_ebook  average_rating  \\\n",
       "1  [{'count': '1694', 'name': 'mystery'}, {'count...    false            3.96   \n",
       "2  [{'count': '171', 'name': 'to-read'}, {'count'...    false            4.14   \n",
       "3  [{'count': '1642', 'name': 'mystery'}, {'count...    false            3.93   \n",
       "4  [{'count': '328', 'name': 'mystery'}, {'count'...    false            4.07   \n",
       "5  [{'count': '5396', 'name': 'to-read'}, {'count...    false            4.11   \n",
       "\n",
       "                                         description  \\\n",
       "1  Agatha Christie's most ingenious murder myster...   \n",
       "2  \"Poetic, down trodden and nihilistic, Jonathan...   \n",
       "3  In Agatha Christie's classic mystery 4:50 From...   \n",
       "4  Past and present collide as Special Agent Pend...   \n",
       "5  1 MP3-CD / 10 hours\\nHaunted by a series of ho...   \n",
       "\n",
       "                                             authors  publication_year  \\\n",
       "1  [{'author_id': '123715', 'role': ''}, {'author...              2013   \n",
       "2             [{'author_id': '4577517', 'role': ''}]              2014   \n",
       "3  [{'author_id': '123715', 'role': ''}, {'author...              2013   \n",
       "4  [{'author_id': '12577', 'role': ''}, {'author_...              2013   \n",
       "5  [{'author_id': '25108', 'role': ''}, {'author_...              2004   \n",
       "\n",
       "    book_id  ratings_count   work_id                         title  \n",
       "1  16158998              5   2288775         A Murder is Announced  \n",
       "2  22722787             18  42251489    The Cost of Doing Business  \n",
       "3  16158996              5   6490729          4:50 From Paddington  \n",
       "4  17368265            250  24152432  White Fire (Pendergast, #13)  \n",
       "5    926660             15    911663                  Monkeewrench  "
      ]
     },
     "execution_count": 40,
     "metadata": {},
     "output_type": "execute_result"
    }
   ],
   "source": [
    "books_metadata_thriller.head()"
   ]
  },
  {
   "cell_type": "markdown",
   "id": "d8050bb6",
   "metadata": {},
   "source": [
    "__list of unique publiation years__"
   ]
  },
  {
   "cell_type": "code",
   "execution_count": 41,
   "id": "8d71a0ea",
   "metadata": {},
   "outputs": [
    {
     "data": {
      "text/plain": [
       "array([2013, 2014, 2004, 2006, 2016, 2015, 2008, 1998, 1954, 2011, 1996,\n",
       "       2012, 2010, 2002, 2000, 2003, 1991, 1960, 2017, 1997, 2007, 2005,\n",
       "       1999, 1995, 1951, 1989, 2009, 2001, 1987, 1993, 1962, 1992, 1990,\n",
       "       1986, 1981, 1978, 1988, 1964, 1946, 1979, 1966, 1976, 1994, 1973,\n",
       "       1963, 1983, 1980, 1952, 1982, 1972, 1965, 1984, 1968, 1985, 1974,\n",
       "       1958, 1967, 1969, 1975, 1955, 2018, 1971, 1961, 1957, 1956, 1977,\n",
       "       1970, 1959, 1950, 1953])"
      ]
     },
     "execution_count": 41,
     "metadata": {},
     "output_type": "execute_result"
    }
   ],
   "source": [
    "books_metadata_thriller['publication_year'].unique()"
   ]
  },
  {
   "cell_type": "markdown",
   "id": "d6ab47c2",
   "metadata": {},
   "source": [
    "__sort publication year__"
   ]
  },
  {
   "cell_type": "code",
   "execution_count": 42,
   "id": "4ce0e390",
   "metadata": {},
   "outputs": [],
   "source": [
    "rating_year_thriller = books_metadata_thriller[['average_rating','publication_year']].sort_values(by=['publication_year'])"
   ]
  },
  {
   "cell_type": "code",
   "execution_count": 43,
   "id": "466a3f6a",
   "metadata": {},
   "outputs": [
    {
     "data": {
      "text/html": [
       "<div>\n",
       "<style scoped>\n",
       "    .dataframe tbody tr th:only-of-type {\n",
       "        vertical-align: middle;\n",
       "    }\n",
       "\n",
       "    .dataframe tbody tr th {\n",
       "        vertical-align: top;\n",
       "    }\n",
       "\n",
       "    .dataframe thead th {\n",
       "        text-align: right;\n",
       "    }\n",
       "</style>\n",
       "<table border=\"1\" class=\"dataframe\">\n",
       "  <thead>\n",
       "    <tr style=\"text-align: right;\">\n",
       "      <th></th>\n",
       "      <th>average_rating</th>\n",
       "      <th>publication_year</th>\n",
       "    </tr>\n",
       "  </thead>\n",
       "  <tbody>\n",
       "    <tr>\n",
       "      <th>65997</th>\n",
       "      <td>3.50</td>\n",
       "      <td>1946</td>\n",
       "    </tr>\n",
       "    <tr>\n",
       "      <th>45330</th>\n",
       "      <td>3.85</td>\n",
       "      <td>1946</td>\n",
       "    </tr>\n",
       "    <tr>\n",
       "      <th>43483</th>\n",
       "      <td>3.78</td>\n",
       "      <td>1946</td>\n",
       "    </tr>\n",
       "    <tr>\n",
       "      <th>29487</th>\n",
       "      <td>3.92</td>\n",
       "      <td>1946</td>\n",
       "    </tr>\n",
       "    <tr>\n",
       "      <th>59541</th>\n",
       "      <td>3.19</td>\n",
       "      <td>1946</td>\n",
       "    </tr>\n",
       "  </tbody>\n",
       "</table>\n",
       "</div>"
      ],
      "text/plain": [
       "       average_rating  publication_year\n",
       "65997            3.50              1946\n",
       "45330            3.85              1946\n",
       "43483            3.78              1946\n",
       "29487            3.92              1946\n",
       "59541            3.19              1946"
      ]
     },
     "execution_count": 43,
     "metadata": {},
     "output_type": "execute_result"
    }
   ],
   "source": [
    "rating_year_thriller.head()"
   ]
  },
  {
   "cell_type": "markdown",
   "id": "0a4c5063",
   "metadata": {},
   "source": [
    "__groupby publication year and calculate mean, standard deviation and number of rating for each publication year__"
   ]
  },
  {
   "cell_type": "code",
   "execution_count": 44,
   "id": "ca4a883a",
   "metadata": {},
   "outputs": [],
   "source": [
    "mean_rating_thriller = rating_year_thriller.groupby('publication_year').agg('mean')\n",
    "std_rating_thriller = rating_year_thriller.groupby('publication_year').agg(np.std)\n",
    "count = rating_year_thriller.groupby('publication_year').agg('count')"
   ]
  },
  {
   "cell_type": "markdown",
   "id": "3fa64a42",
   "metadata": {},
   "source": [
    "__Final table ready for plot__"
   ]
  },
  {
   "cell_type": "code",
   "execution_count": 45,
   "id": "6fd2231f",
   "metadata": {},
   "outputs": [
    {
     "data": {
      "text/html": [
       "<div>\n",
       "<style scoped>\n",
       "    .dataframe tbody tr th:only-of-type {\n",
       "        vertical-align: middle;\n",
       "    }\n",
       "\n",
       "    .dataframe tbody tr th {\n",
       "        vertical-align: top;\n",
       "    }\n",
       "\n",
       "    .dataframe thead th {\n",
       "        text-align: right;\n",
       "    }\n",
       "</style>\n",
       "<table border=\"1\" class=\"dataframe\">\n",
       "  <thead>\n",
       "    <tr style=\"text-align: right;\">\n",
       "      <th></th>\n",
       "      <th>average_rating</th>\n",
       "      <th>std</th>\n",
       "      <th>rating_count</th>\n",
       "      <th>std_err</th>\n",
       "    </tr>\n",
       "    <tr>\n",
       "      <th>publication_year</th>\n",
       "      <th></th>\n",
       "      <th></th>\n",
       "      <th></th>\n",
       "      <th></th>\n",
       "    </tr>\n",
       "  </thead>\n",
       "  <tbody>\n",
       "    <tr>\n",
       "      <th>1946</th>\n",
       "      <td>3.670000</td>\n",
       "      <td>0.379317</td>\n",
       "      <td>33</td>\n",
       "      <td>0.066031</td>\n",
       "    </tr>\n",
       "    <tr>\n",
       "      <th>1950</th>\n",
       "      <td>3.666600</td>\n",
       "      <td>0.412927</td>\n",
       "      <td>50</td>\n",
       "      <td>0.058397</td>\n",
       "    </tr>\n",
       "    <tr>\n",
       "      <th>1951</th>\n",
       "      <td>3.706216</td>\n",
       "      <td>0.447719</td>\n",
       "      <td>37</td>\n",
       "      <td>0.073604</td>\n",
       "    </tr>\n",
       "    <tr>\n",
       "      <th>1952</th>\n",
       "      <td>3.697714</td>\n",
       "      <td>0.361891</td>\n",
       "      <td>35</td>\n",
       "      <td>0.061171</td>\n",
       "    </tr>\n",
       "    <tr>\n",
       "      <th>1953</th>\n",
       "      <td>3.749778</td>\n",
       "      <td>0.314422</td>\n",
       "      <td>45</td>\n",
       "      <td>0.046871</td>\n",
       "    </tr>\n",
       "  </tbody>\n",
       "</table>\n",
       "</div>"
      ],
      "text/plain": [
       "                  average_rating       std  rating_count   std_err\n",
       "publication_year                                                  \n",
       "1946                    3.670000  0.379317            33  0.066031\n",
       "1950                    3.666600  0.412927            50  0.058397\n",
       "1951                    3.706216  0.447719            37  0.073604\n",
       "1952                    3.697714  0.361891            35  0.061171\n",
       "1953                    3.749778  0.314422            45  0.046871"
      ]
     },
     "execution_count": 45,
     "metadata": {},
     "output_type": "execute_result"
    }
   ],
   "source": [
    "mean_rating_thriller['std'] = std_rating_thriller['average_rating']\n",
    "mean_rating_thriller['rating_count']  = count['average_rating']\n",
    "mean_rating_thriller['std_err'] = mean_rating_thriller['std']/np.sqrt(mean_rating_thriller['rating_count'])\n",
    "mean_rating_thriller.head()"
   ]
  },
  {
   "cell_type": "markdown",
   "id": "3cf04020",
   "metadata": {},
   "source": [
    "__keep rating count above 30__\n",
    "* i.e. minimum number of rating must be 30 in each year"
   ]
  },
  {
   "cell_type": "code",
   "execution_count": 46,
   "id": "2f718c65",
   "metadata": {
    "scrolled": true
   },
   "outputs": [
    {
     "data": {
      "text/plain": [
       "<AxesSubplot:xlabel='publication_year', ylabel='mean rating'>"
      ]
     },
     "execution_count": 46,
     "metadata": {},
     "output_type": "execute_result"
    },
    {
     "data": {
      "image/png": "[encoded data removed]",
      "text/plain": [
       "<Figure size 720x360 with 1 Axes>"
      ]
     },
     "metadata": {
      "needs_background": "light"
     },
     "output_type": "display_data"
    }
   ],
   "source": [
    "mean_rating_thriller[mean_rating_thriller['rating_count']>=30]['average_rating'].plot.line(style='-o', figsize=(10,5), markerfacecolor='blue', ylabel='mean rating')"
   ]
  },
  {
   "cell_type": "markdown",
   "id": "28db48d5",
   "metadata": {},
   "source": [
    "__Error Bar__"
   ]
  },
  {
   "cell_type": "code",
   "execution_count": 49,
   "id": "92812a2f",
   "metadata": {},
   "outputs": [
    {
     "data": {
      "image/png": "[encoded data removed]",
      "text/plain": [
       "<Figure size 720x360 with 1 Axes>"
      ]
     },
     "metadata": {
      "needs_background": "light"
     },
     "output_type": "display_data"
    }
   ],
   "source": [
    "plt.figure(figsize=(10,5))\n",
    "x = mean_rating_thriller.index\n",
    "y = mean_rating_thriller['average_rating']\n",
    "yerr = mean_rating_thriller['std_err']\n",
    "plt.errorbar(x,y, yerr=yerr)\n",
    "plt.title(\"Crime & Thriller\")\n",
    "plt.ylabel(\"Average Ratig\")\n",
    "plt.xlabel(\"Publication Year\")\n",
    "plt.show()"
   ]
  },
  {
   "cell_type": "code",
   "execution_count": 78,
   "id": "96e8cfba",
   "metadata": {},
   "outputs": [],
   "source": [
    "count_rating_thriller = rating_year_thriller.groupby('publication_year').agg('count')"
   ]
  },
  {
   "cell_type": "code",
   "execution_count": 91,
   "id": "2a960386",
   "metadata": {},
   "outputs": [
    {
     "data": {
      "text/html": [
       "<div>\n",
       "<style scoped>\n",
       "    .dataframe tbody tr th:only-of-type {\n",
       "        vertical-align: middle;\n",
       "    }\n",
       "\n",
       "    .dataframe tbody tr th {\n",
       "        vertical-align: top;\n",
       "    }\n",
       "\n",
       "    .dataframe thead th {\n",
       "        text-align: right;\n",
       "    }\n",
       "</style>\n",
       "<table border=\"1\" class=\"dataframe\">\n",
       "  <thead>\n",
       "    <tr style=\"text-align: right;\">\n",
       "      <th></th>\n",
       "      <th>average_rating</th>\n",
       "    </tr>\n",
       "    <tr>\n",
       "      <th>publication_year</th>\n",
       "      <th></th>\n",
       "    </tr>\n",
       "  </thead>\n",
       "  <tbody>\n",
       "    <tr>\n",
       "      <th>1946</th>\n",
       "      <td>33</td>\n",
       "    </tr>\n",
       "    <tr>\n",
       "      <th>1950</th>\n",
       "      <td>50</td>\n",
       "    </tr>\n",
       "    <tr>\n",
       "      <th>1951</th>\n",
       "      <td>37</td>\n",
       "    </tr>\n",
       "    <tr>\n",
       "      <th>1952</th>\n",
       "      <td>35</td>\n",
       "    </tr>\n",
       "    <tr>\n",
       "      <th>1953</th>\n",
       "      <td>45</td>\n",
       "    </tr>\n",
       "    <tr>\n",
       "      <th>...</th>\n",
       "      <td>...</td>\n",
       "    </tr>\n",
       "    <tr>\n",
       "      <th>2014</th>\n",
       "      <td>6978</td>\n",
       "    </tr>\n",
       "    <tr>\n",
       "      <th>2015</th>\n",
       "      <td>6209</td>\n",
       "    </tr>\n",
       "    <tr>\n",
       "      <th>2016</th>\n",
       "      <td>5427</td>\n",
       "    </tr>\n",
       "    <tr>\n",
       "      <th>2017</th>\n",
       "      <td>3808</td>\n",
       "    </tr>\n",
       "    <tr>\n",
       "      <th>2018</th>\n",
       "      <td>123</td>\n",
       "    </tr>\n",
       "  </tbody>\n",
       "</table>\n",
       "<p>70 rows × 1 columns</p>\n",
       "</div>"
      ],
      "text/plain": [
       "                  average_rating\n",
       "publication_year                \n",
       "1946                          33\n",
       "1950                          50\n",
       "1951                          37\n",
       "1952                          35\n",
       "1953                          45\n",
       "...                          ...\n",
       "2014                        6978\n",
       "2015                        6209\n",
       "2016                        5427\n",
       "2017                        3808\n",
       "2018                         123\n",
       "\n",
       "[70 rows x 1 columns]"
      ]
     },
     "execution_count": 91,
     "metadata": {},
     "output_type": "execute_result"
    }
   ],
   "source": [
    "count_rating_thriller."
   ]
  },
  {
   "cell_type": "markdown",
   "id": "bf00eee2",
   "metadata": {},
   "source": [
    "__Frequency distribution of books per year__"
   ]
  },
  {
   "cell_type": "code",
   "execution_count": 80,
   "id": "9d6ab298",
   "metadata": {},
   "outputs": [
    {
     "data": {
      "text/plain": [
       "<AxesSubplot:xlabel='publication_year', ylabel='frequency'>"
      ]
     },
     "execution_count": 80,
     "metadata": {},
     "output_type": "execute_result"
    },
    {
     "data": {
      "image/png": "[encoded data removed]",
      "text/plain": [
       "<Figure size 720x360 with 1 Axes>"
      ]
     },
     "metadata": {
      "needs_background": "light"
     },
     "output_type": "display_data"
    }
   ],
   "source": [
    "count_rating_thriller.plot.line(style='-o', figsize=(10,5), markerfacecolor='blue', ylabel='frequency')"
   ]
  },
  {
   "cell_type": "markdown",
   "id": "78f744cd",
   "metadata": {},
   "source": [
    "__Error bar for average rating per publication year__"
   ]
  },
  {
   "cell_type": "code",
   "execution_count": 81,
   "id": "1a2e9077",
   "metadata": {},
   "outputs": [],
   "source": [
    "#define labels, positions, bar heights and error bar heigts\n",
    "labels = mean_rating_thriller.index.astype('str')\n",
    "x_pos = np.arange(len(labels))\n",
    "CTEs = mean_rating_thriller['average_rating'].values\n",
    "error = mean_rating_thriller['std_err'].values"
   ]
  },
  {
   "cell_type": "code",
   "execution_count": 82,
   "id": "61b40a2e",
   "metadata": {},
   "outputs": [
    {
     "data": {
      "image/png": "[encoded data removed]",
      "text/plain": [
       "<Figure size 2160x504 with 1 Axes>"
      ]
     },
     "metadata": {
      "needs_background": "light"
     },
     "output_type": "display_data"
    }
   ],
   "source": [
    "# Build the plot\n",
    "fig, ax = plt.subplots(figsize=(30,7))\n",
    "ax.bar(x_pos, CTEs,\n",
    "       yerr=error,\n",
    "       align='center',\n",
    "       alpha=0.5,\n",
    "       ecolor='black',\n",
    "       capsize=10)\n",
    "ax.set_ylabel('average rating')\n",
    "ax.set_xticks(x_pos)\n",
    "ax.set_xticklabels(labels)\n",
    "ax.set_title('Error bars for Thriller')\n",
    "ax.yaxis.grid(True)"
   ]
  },
  {
   "cell_type": "code",
   "execution_count": null,
   "id": "af79a9fb",
   "metadata": {},
   "outputs": [],
   "source": []
  }
 ],
 "metadata": {
  "kernelspec": {
   "display_name": "Python 3",
   "language": "python",
   "name": "python3"
  },
  "language_info": {
   "codemirror_mode": {
    "name": "ipython",
    "version": 3
   },
   "file_extension": ".py",
   "mimetype": "text/x-python",
   "name": "python",
   "nbconvert_exporter": "python",
   "pygments_lexer": "ipython3",
   "version": "3.8.5"
  }
 },
 "nbformat": 4,
 "nbformat_minor": 5
}
