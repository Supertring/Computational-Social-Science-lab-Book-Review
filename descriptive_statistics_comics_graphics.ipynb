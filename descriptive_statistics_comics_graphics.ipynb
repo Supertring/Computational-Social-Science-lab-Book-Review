{
 "cells": [
  {
   "cell_type": "markdown",
   "metadata": {},
   "source": [
    "# Data Statistics : Done by : Abhishek Subedi & Anusha Bora"
   ]
  },
  {
   "cell_type": "code",
   "execution_count": 2,
   "metadata": {},
   "outputs": [],
   "source": [
    "import pandas as pd\n",
    "import matplotlib.pyplot as plt\n",
    "import seaborn as sn\n",
    "import re\n",
    "import numpy as np"
   ]
  },
  {
   "cell_type": "code",
   "execution_count": 3,
   "metadata": {
    "scrolled": true
   },
   "outputs": [
    {
     "data": {
      "text/html": [
       "<style>.output {flex-direction: row;}</style>"
      ],
      "text/plain": [
       "<IPython.core.display.HTML object>"
      ]
     },
     "execution_count": 3,
     "metadata": {},
     "output_type": "execute_result"
    }
   ],
   "source": [
    "from IPython.display import display, HTML\n",
    "css = \"\"\".output {flex-direction: row;}\"\"\"\n",
    "HTML('<style>{}</style>'.format(css))"
   ]
  },
  {
   "cell_type": "markdown",
   "metadata": {},
   "source": [
    "__import all the files__"
   ]
  },
  {
   "cell_type": "code",
   "execution_count": 4,
   "metadata": {},
   "outputs": [],
   "source": [
    "books_metadata = pd.read_json('books_metadata_comics.json')\n",
    "books_interactions = pd.read_json('books_interactions_final.json')\n",
    "books_reviews = pd.read_json('books_review_comics_final.json')"
   ]
  },
  {
   "cell_type": "code",
   "execution_count": 3,
   "metadata": {
    "scrolled": false
   },
   "outputs": [
    {
     "name": "stdout",
     "output_type": "stream",
     "text": [
      "<class 'pandas.core.frame.DataFrame'>\n",
      "Int64Index: 23937 entries, 2 to 89410\n",
      "Data columns (total 12 columns):\n",
      " #   Column              Non-Null Count  Dtype  \n",
      "---  ------              --------------  -----  \n",
      " 0   text_reviews_count  23937 non-null  int64  \n",
      " 1   language_code       23937 non-null  object \n",
      " 2   popular_shelves     23937 non-null  object \n",
      " 3   is_ebook            23937 non-null  object \n",
      " 4   average_rating      23937 non-null  float64\n",
      " 5   description         23937 non-null  object \n",
      " 6   authors             23937 non-null  object \n",
      " 7   publication_year    23937 non-null  int64  \n",
      " 8   book_id             23937 non-null  int64  \n",
      " 9   ratings_count       23937 non-null  int64  \n",
      " 10  work_id             23937 non-null  int64  \n",
      " 11  title               23937 non-null  object \n",
      "dtypes: float64(1), int64(5), object(6)\n",
      "memory usage: 2.4+ MB\n"
     ]
    }
   ],
   "source": [
    "books_metadata.info()"
   ]
  },
  {
   "cell_type": "code",
   "execution_count": 4,
   "metadata": {
    "scrolled": true
   },
   "outputs": [
    {
     "data": {
      "text/html": [
       "<div>\n",
       "<style scoped>\n",
       "    .dataframe tbody tr th:only-of-type {\n",
       "        vertical-align: middle;\n",
       "    }\n",
       "\n",
       "    .dataframe tbody tr th {\n",
       "        vertical-align: top;\n",
       "    }\n",
       "\n",
       "    .dataframe thead th {\n",
       "        text-align: right;\n",
       "    }\n",
       "</style>\n",
       "<table border=\"1\" class=\"dataframe\">\n",
       "  <thead>\n",
       "    <tr style=\"text-align: right;\">\n",
       "      <th></th>\n",
       "      <th>text_reviews_count</th>\n",
       "      <th>language_code</th>\n",
       "      <th>popular_shelves</th>\n",
       "      <th>is_ebook</th>\n",
       "      <th>average_rating</th>\n",
       "      <th>description</th>\n",
       "      <th>authors</th>\n",
       "      <th>publication_year</th>\n",
       "      <th>book_id</th>\n",
       "      <th>ratings_count</th>\n",
       "      <th>work_id</th>\n",
       "      <th>title</th>\n",
       "    </tr>\n",
       "  </thead>\n",
       "  <tbody>\n",
       "    <tr>\n",
       "      <th>2</th>\n",
       "      <td>5</td>\n",
       "      <td>eng</td>\n",
       "      <td>[{'count': '493', 'name': 'to-read'}, {'count'...</td>\n",
       "      <td>false</td>\n",
       "      <td>4.28</td>\n",
       "      <td>The questions plaguing Captain America's dream...</td>\n",
       "      <td>[{'author_id': '37450', 'role': ''}]</td>\n",
       "      <td>2012</td>\n",
       "      <td>13571772</td>\n",
       "      <td>51</td>\n",
       "      <td>102217</td>\n",
       "      <td>Captain America: Winter Soldier (The Ultimate ...</td>\n",
       "    </tr>\n",
       "    <tr>\n",
       "      <th>4</th>\n",
       "      <td>6</td>\n",
       "      <td>en-US</td>\n",
       "      <td>[{'count': '20', 'name': 'to-read'}, {'count':...</td>\n",
       "      <td>false</td>\n",
       "      <td>4.06</td>\n",
       "      <td>These are the stories that catapulted Superman...</td>\n",
       "      <td>[{'author_id': '81563', 'role': ''}, {'author_...</td>\n",
       "      <td>1997</td>\n",
       "      <td>707611</td>\n",
       "      <td>51</td>\n",
       "      <td>693886</td>\n",
       "      <td>Superman Archives, Vol. 2</td>\n",
       "    </tr>\n",
       "    <tr>\n",
       "      <th>6</th>\n",
       "      <td>9</td>\n",
       "      <td>eng</td>\n",
       "      <td>[{'count': '47', 'name': 'to-read'}, {'count':...</td>\n",
       "      <td>false</td>\n",
       "      <td>4.15</td>\n",
       "      <td>PRODUCT DESCRIPTION: The first new volume of G...</td>\n",
       "      <td>[{'author_id': '14965', 'role': ''}, {'author_...</td>\n",
       "      <td>2016</td>\n",
       "      <td>27036536</td>\n",
       "      <td>39</td>\n",
       "      <td>47077783</td>\n",
       "      <td>War Stories, Volume 3</td>\n",
       "    </tr>\n",
       "    <tr>\n",
       "      <th>11</th>\n",
       "      <td>26</td>\n",
       "      <td>eng</td>\n",
       "      <td>[{'count': '104', 'name': 'to-read'}, {'count'...</td>\n",
       "      <td>false</td>\n",
       "      <td>3.16</td>\n",
       "      <td>Sir Arthur Conan Doyle's dauntless detective r...</td>\n",
       "      <td>[{'author_id': '61231', 'role': ''}, {'author_...</td>\n",
       "      <td>2011</td>\n",
       "      <td>11827783</td>\n",
       "      <td>114</td>\n",
       "      <td>16782451</td>\n",
       "      <td>Sherlock Holmes: Year One</td>\n",
       "    </tr>\n",
       "    <tr>\n",
       "      <th>12</th>\n",
       "      <td>6</td>\n",
       "      <td>eng</td>\n",
       "      <td>[{'count': '133', 'name': 'manga'}, {'count': ...</td>\n",
       "      <td>false</td>\n",
       "      <td>4.41</td>\n",
       "      <td>This is the story of a group of boys who try t...</td>\n",
       "      <td>[{'author_id': '294649', 'role': ''}]</td>\n",
       "      <td>2012</td>\n",
       "      <td>12349665</td>\n",
       "      <td>149</td>\n",
       "      <td>3062163</td>\n",
       "      <td>Naoki Urasawa's 20th Century Boys, Volume 20 (...</td>\n",
       "    </tr>\n",
       "  </tbody>\n",
       "</table>\n",
       "</div>"
      ],
      "text/plain": [
       "    text_reviews_count language_code  \\\n",
       "2                    5           eng   \n",
       "4                    6         en-US   \n",
       "6                    9           eng   \n",
       "11                  26           eng   \n",
       "12                   6           eng   \n",
       "\n",
       "                                      popular_shelves is_ebook  \\\n",
       "2   [{'count': '493', 'name': 'to-read'}, {'count'...    false   \n",
       "4   [{'count': '20', 'name': 'to-read'}, {'count':...    false   \n",
       "6   [{'count': '47', 'name': 'to-read'}, {'count':...    false   \n",
       "11  [{'count': '104', 'name': 'to-read'}, {'count'...    false   \n",
       "12  [{'count': '133', 'name': 'manga'}, {'count': ...    false   \n",
       "\n",
       "    average_rating                                        description  \\\n",
       "2             4.28  The questions plaguing Captain America's dream...   \n",
       "4             4.06  These are the stories that catapulted Superman...   \n",
       "6             4.15  PRODUCT DESCRIPTION: The first new volume of G...   \n",
       "11            3.16  Sir Arthur Conan Doyle's dauntless detective r...   \n",
       "12            4.41  This is the story of a group of boys who try t...   \n",
       "\n",
       "                                              authors  publication_year  \\\n",
       "2                [{'author_id': '37450', 'role': ''}]              2012   \n",
       "4   [{'author_id': '81563', 'role': ''}, {'author_...              1997   \n",
       "6   [{'author_id': '14965', 'role': ''}, {'author_...              2016   \n",
       "11  [{'author_id': '61231', 'role': ''}, {'author_...              2011   \n",
       "12              [{'author_id': '294649', 'role': ''}]              2012   \n",
       "\n",
       "     book_id  ratings_count   work_id  \\\n",
       "2   13571772             51    102217   \n",
       "4     707611             51    693886   \n",
       "6   27036536             39  47077783   \n",
       "11  11827783            114  16782451   \n",
       "12  12349665            149   3062163   \n",
       "\n",
       "                                                title  \n",
       "2   Captain America: Winter Soldier (The Ultimate ...  \n",
       "4                           Superman Archives, Vol. 2  \n",
       "6                               War Stories, Volume 3  \n",
       "11                          Sherlock Holmes: Year One  \n",
       "12  Naoki Urasawa's 20th Century Boys, Volume 20 (...  "
      ]
     },
     "execution_count": 4,
     "metadata": {},
     "output_type": "execute_result"
    }
   ],
   "source": [
    "books_metadata.head()"
   ]
  },
  {
   "cell_type": "code",
   "execution_count": 5,
   "metadata": {
    "scrolled": false
   },
   "outputs": [
    {
     "data": {
      "text/html": [
       "<div>\n",
       "<style scoped>\n",
       "    .dataframe tbody tr th:only-of-type {\n",
       "        vertical-align: middle;\n",
       "    }\n",
       "\n",
       "    .dataframe tbody tr th {\n",
       "        vertical-align: top;\n",
       "    }\n",
       "\n",
       "    .dataframe thead th {\n",
       "        text-align: right;\n",
       "    }\n",
       "</style>\n",
       "<table border=\"1\" class=\"dataframe\">\n",
       "  <thead>\n",
       "    <tr style=\"text-align: right;\">\n",
       "      <th></th>\n",
       "      <th>text_reviews_count</th>\n",
       "      <th>language_code</th>\n",
       "      <th>popular_shelves</th>\n",
       "      <th>is_ebook</th>\n",
       "      <th>average_rating</th>\n",
       "      <th>description</th>\n",
       "      <th>authors</th>\n",
       "      <th>publication_year</th>\n",
       "      <th>book_id</th>\n",
       "      <th>ratings_count</th>\n",
       "      <th>work_id</th>\n",
       "      <th>title</th>\n",
       "    </tr>\n",
       "  </thead>\n",
       "  <tbody>\n",
       "    <tr>\n",
       "      <th>2749</th>\n",
       "      <td>10057</td>\n",
       "      <td>en-US</td>\n",
       "      <td>[{'count': '73194', 'name': 'to-read'}, {'coun...</td>\n",
       "      <td>false</td>\n",
       "      <td>4.35</td>\n",
       "      <td>This Hugo Award-winning graphic novel chronicl...</td>\n",
       "      <td>[{'author_id': '3961', 'role': ''}, {'author_i...</td>\n",
       "      <td>2005</td>\n",
       "      <td>472331</td>\n",
       "      <td>406669</td>\n",
       "      <td>4358649</td>\n",
       "      <td>Watchmen</td>\n",
       "    </tr>\n",
       "    <tr>\n",
       "      <th>7303</th>\n",
       "      <td>53</td>\n",
       "      <td>eng</td>\n",
       "      <td>[{'count': '73194', 'name': 'to-read'}, {'coun...</td>\n",
       "      <td>false</td>\n",
       "      <td>4.35</td>\n",
       "      <td>In an alternate world where the mere presence ...</td>\n",
       "      <td>[{'author_id': '3961', 'role': ''}, {'author_i...</td>\n",
       "      <td>2014</td>\n",
       "      <td>18373361</td>\n",
       "      <td>512</td>\n",
       "      <td>4358649</td>\n",
       "      <td>Watchmen</td>\n",
       "    </tr>\n",
       "    <tr>\n",
       "      <th>29612</th>\n",
       "      <td>137</td>\n",
       "      <td>eng</td>\n",
       "      <td>[{'count': '73194', 'name': 'to-read'}, {'coun...</td>\n",
       "      <td>false</td>\n",
       "      <td>4.35</td>\n",
       "      <td>This Hugo Award-winning graphic novel chronicl...</td>\n",
       "      <td>[{'author_id': '3961', 'role': ''}, {'author_i...</td>\n",
       "      <td>1987</td>\n",
       "      <td>781206</td>\n",
       "      <td>1172</td>\n",
       "      <td>4358649</td>\n",
       "      <td>Watchmen</td>\n",
       "    </tr>\n",
       "    <tr>\n",
       "      <th>34977</th>\n",
       "      <td>140</td>\n",
       "      <td>en-US</td>\n",
       "      <td>[{'count': '73194', 'name': 'to-read'}, {'coun...</td>\n",
       "      <td>false</td>\n",
       "      <td>4.35</td>\n",
       "      <td>SOON TO BE A FEATURE FILM!\\nThis Hugo Award-wi...</td>\n",
       "      <td>[{'author_id': '3961', 'role': ''}, {'author_i...</td>\n",
       "      <td>2008</td>\n",
       "      <td>4054590</td>\n",
       "      <td>1320</td>\n",
       "      <td>4358649</td>\n",
       "      <td>Watchmen</td>\n",
       "    </tr>\n",
       "    <tr>\n",
       "      <th>36926</th>\n",
       "      <td>65</td>\n",
       "      <td>eng</td>\n",
       "      <td>[{'count': '73194', 'name': 'to-read'}, {'coun...</td>\n",
       "      <td>false</td>\n",
       "      <td>4.35</td>\n",
       "      <td>Alan Moore, the master storyteller behind V fo...</td>\n",
       "      <td>[{'author_id': '3961', 'role': ''}, {'author_i...</td>\n",
       "      <td>1987</td>\n",
       "      <td>1259931</td>\n",
       "      <td>454</td>\n",
       "      <td>4358649</td>\n",
       "      <td>Watchmen</td>\n",
       "    </tr>\n",
       "    <tr>\n",
       "      <th>65230</th>\n",
       "      <td>2</td>\n",
       "      <td>eng</td>\n",
       "      <td>[{'count': '73194', 'name': 'to-read'}, {'coun...</td>\n",
       "      <td>false</td>\n",
       "      <td>4.35</td>\n",
       "      <td>This Hugo Award-winning graphic novel chronicl...</td>\n",
       "      <td>[{'author_id': '3961', 'role': ''}, {'author_i...</td>\n",
       "      <td>2007</td>\n",
       "      <td>6468238</td>\n",
       "      <td>19</td>\n",
       "      <td>4358649</td>\n",
       "      <td>Watchmen</td>\n",
       "    </tr>\n",
       "    <tr>\n",
       "      <th>77930</th>\n",
       "      <td>49</td>\n",
       "      <td>eng</td>\n",
       "      <td>[{'count': '73281', 'name': 'to-read'}, {'coun...</td>\n",
       "      <td>false</td>\n",
       "      <td>4.35</td>\n",
       "      <td>In an alternate world where the mere presence ...</td>\n",
       "      <td>[{'author_id': '3961', 'role': ''}, {'author_i...</td>\n",
       "      <td>2013</td>\n",
       "      <td>17137603</td>\n",
       "      <td>531</td>\n",
       "      <td>4358649</td>\n",
       "      <td>Watchmen</td>\n",
       "    </tr>\n",
       "  </tbody>\n",
       "</table>\n",
       "</div>"
      ],
      "text/plain": [
       "       text_reviews_count language_code  \\\n",
       "2749                10057         en-US   \n",
       "7303                   53           eng   \n",
       "29612                 137           eng   \n",
       "34977                 140         en-US   \n",
       "36926                  65           eng   \n",
       "65230                   2           eng   \n",
       "77930                  49           eng   \n",
       "\n",
       "                                         popular_shelves is_ebook  \\\n",
       "2749   [{'count': '73194', 'name': 'to-read'}, {'coun...    false   \n",
       "7303   [{'count': '73194', 'name': 'to-read'}, {'coun...    false   \n",
       "29612  [{'count': '73194', 'name': 'to-read'}, {'coun...    false   \n",
       "34977  [{'count': '73194', 'name': 'to-read'}, {'coun...    false   \n",
       "36926  [{'count': '73194', 'name': 'to-read'}, {'coun...    false   \n",
       "65230  [{'count': '73194', 'name': 'to-read'}, {'coun...    false   \n",
       "77930  [{'count': '73281', 'name': 'to-read'}, {'coun...    false   \n",
       "\n",
       "       average_rating                                        description  \\\n",
       "2749             4.35  This Hugo Award-winning graphic novel chronicl...   \n",
       "7303             4.35  In an alternate world where the mere presence ...   \n",
       "29612            4.35  This Hugo Award-winning graphic novel chronicl...   \n",
       "34977            4.35  SOON TO BE A FEATURE FILM!\\nThis Hugo Award-wi...   \n",
       "36926            4.35  Alan Moore, the master storyteller behind V fo...   \n",
       "65230            4.35  This Hugo Award-winning graphic novel chronicl...   \n",
       "77930            4.35  In an alternate world where the mere presence ...   \n",
       "\n",
       "                                                 authors  publication_year  \\\n",
       "2749   [{'author_id': '3961', 'role': ''}, {'author_i...              2005   \n",
       "7303   [{'author_id': '3961', 'role': ''}, {'author_i...              2014   \n",
       "29612  [{'author_id': '3961', 'role': ''}, {'author_i...              1987   \n",
       "34977  [{'author_id': '3961', 'role': ''}, {'author_i...              2008   \n",
       "36926  [{'author_id': '3961', 'role': ''}, {'author_i...              1987   \n",
       "65230  [{'author_id': '3961', 'role': ''}, {'author_i...              2007   \n",
       "77930  [{'author_id': '3961', 'role': ''}, {'author_i...              2013   \n",
       "\n",
       "        book_id  ratings_count  work_id     title  \n",
       "2749     472331         406669  4358649  Watchmen  \n",
       "7303   18373361            512  4358649  Watchmen  \n",
       "29612    781206           1172  4358649  Watchmen  \n",
       "34977   4054590           1320  4358649  Watchmen  \n",
       "36926   1259931            454  4358649  Watchmen  \n",
       "65230   6468238             19  4358649  Watchmen  \n",
       "77930  17137603            531  4358649  Watchmen  "
      ]
     },
     "execution_count": 5,
     "metadata": {},
     "output_type": "execute_result"
    }
   ],
   "source": [
    "books_metadata[books_metadata['title']=='Watchmen']"
   ]
  },
  {
   "cell_type": "markdown",
   "metadata": {},
   "source": [
    "__column names__"
   ]
  },
  {
   "cell_type": "code",
   "execution_count": 6,
   "metadata": {
    "scrolled": true
   },
   "outputs": [
    {
     "data": {
      "text/html": [
       "<div>\n",
       "<style scoped>\n",
       "    .dataframe tbody tr th:only-of-type {\n",
       "        vertical-align: middle;\n",
       "    }\n",
       "\n",
       "    .dataframe tbody tr th {\n",
       "        vertical-align: top;\n",
       "    }\n",
       "\n",
       "    .dataframe thead th {\n",
       "        text-align: right;\n",
       "    }\n",
       "</style>\n",
       "<table border=\"1\" class=\"dataframe\">\n",
       "  <thead>\n",
       "    <tr style=\"text-align: right;\">\n",
       "      <th></th>\n",
       "      <th>0</th>\n",
       "    </tr>\n",
       "  </thead>\n",
       "  <tbody>\n",
       "    <tr>\n",
       "      <th>0</th>\n",
       "      <td>text_reviews_count</td>\n",
       "    </tr>\n",
       "    <tr>\n",
       "      <th>1</th>\n",
       "      <td>language_code</td>\n",
       "    </tr>\n",
       "    <tr>\n",
       "      <th>2</th>\n",
       "      <td>popular_shelves</td>\n",
       "    </tr>\n",
       "    <tr>\n",
       "      <th>3</th>\n",
       "      <td>is_ebook</td>\n",
       "    </tr>\n",
       "    <tr>\n",
       "      <th>4</th>\n",
       "      <td>average_rating</td>\n",
       "    </tr>\n",
       "    <tr>\n",
       "      <th>5</th>\n",
       "      <td>description</td>\n",
       "    </tr>\n",
       "    <tr>\n",
       "      <th>6</th>\n",
       "      <td>authors</td>\n",
       "    </tr>\n",
       "    <tr>\n",
       "      <th>7</th>\n",
       "      <td>publication_year</td>\n",
       "    </tr>\n",
       "    <tr>\n",
       "      <th>8</th>\n",
       "      <td>book_id</td>\n",
       "    </tr>\n",
       "    <tr>\n",
       "      <th>9</th>\n",
       "      <td>ratings_count</td>\n",
       "    </tr>\n",
       "    <tr>\n",
       "      <th>10</th>\n",
       "      <td>work_id</td>\n",
       "    </tr>\n",
       "    <tr>\n",
       "      <th>11</th>\n",
       "      <td>title</td>\n",
       "    </tr>\n",
       "  </tbody>\n",
       "</table>\n",
       "</div>"
      ],
      "text/plain": [
       "                     0\n",
       "0   text_reviews_count\n",
       "1        language_code\n",
       "2      popular_shelves\n",
       "3             is_ebook\n",
       "4       average_rating\n",
       "5          description\n",
       "6              authors\n",
       "7     publication_year\n",
       "8              book_id\n",
       "9        ratings_count\n",
       "10             work_id\n",
       "11               title"
      ]
     },
     "execution_count": 6,
     "metadata": {},
     "output_type": "execute_result"
    }
   ],
   "source": [
    "bmc = pd.DataFrame(books_metadata.columns)\n",
    "bmc"
   ]
  },
  {
   "cell_type": "markdown",
   "metadata": {},
   "source": [
    "__Average of average rating__"
   ]
  },
  {
   "cell_type": "code",
   "execution_count": 7,
   "metadata": {},
   "outputs": [
    {
     "data": {
      "text/plain": [
       "3.8715368708383315"
      ]
     },
     "execution_count": 7,
     "metadata": {},
     "output_type": "execute_result"
    }
   ],
   "source": [
    "average = books_metadata['average_rating'].sum()\n",
    "average_rating = average/24179\n",
    "average_rating"
   ]
  },
  {
   "cell_type": "markdown",
   "metadata": {},
   "source": [
    "__Unique books number__"
   ]
  },
  {
   "cell_type": "code",
   "execution_count": 8,
   "metadata": {},
   "outputs": [
    {
     "data": {
      "text/plain": [
       "23937"
      ]
     },
     "execution_count": 8,
     "metadata": {},
     "output_type": "execute_result"
    }
   ],
   "source": [
    "len(books_metadata['book_id'].unique())"
   ]
  },
  {
   "cell_type": "markdown",
   "metadata": {},
   "source": [
    "__Ebook vs hardcopy__"
   ]
  },
  {
   "cell_type": "code",
   "execution_count": 9,
   "metadata": {},
   "outputs": [
    {
     "name": "stdout",
     "output_type": "stream",
     "text": [
      "is_ebook : 1878 not_ebook : 22059\n"
     ]
    }
   ],
   "source": [
    "is_ebook = len(books_metadata[books_metadata['is_ebook']=='true'])\n",
    "not_ebook = len(books_metadata[books_metadata['is_ebook']=='false'])\n",
    "print('is_ebook :', is_ebook, \"not_ebook :\",not_ebook )"
   ]
  },
  {
   "cell_type": "markdown",
   "metadata": {},
   "source": [
    "__Frequency distribution of average_rating__"
   ]
  },
  {
   "cell_type": "code",
   "execution_count": 10,
   "metadata": {
    "scrolled": true
   },
   "outputs": [
    {
     "data": {
      "text/plain": [
       "<AxesSubplot:title={'center':'Comics & Graphics'}, xlabel='average_rating', ylabel='count'>"
      ]
     },
     "execution_count": 10,
     "metadata": {},
     "output_type": "execute_result"
    },
    {
     "data": {
      "image/png": "[encoded data removed]",
      "text/plain": [
       "<Figure size 432x288 with 1 Axes>"
      ]
     },
     "metadata": {
      "needs_background": "light"
     },
     "output_type": "display_data"
    }
   ],
   "source": [
    "plt.figure()\n",
    "plt.title(\"Comics & Graphics\")\n",
    "plt.ylabel('count')\n",
    "plt.xlabel('average_rating')\n",
    "books_metadata['average_rating'].hist()"
   ]
  },
  {
   "cell_type": "markdown",
   "metadata": {},
   "source": [
    "__Frequency distribution of books over time__"
   ]
  },
  {
   "cell_type": "code",
   "execution_count": 11,
   "metadata": {},
   "outputs": [],
   "source": [
    "books_metadata['publication_year'] = books_metadata['publication_year'].replace(to_replace = 13, value = 1981)\n",
    "books_metadata['publication_year'] = books_metadata['publication_year'].replace(to_replace = 2105, value = 2007)\n",
    "books_metadata['publication_year'] = books_metadata['publication_year'].replace(to_replace = 201, value = 2015)\n",
    "books_metadata['publication_year'] = books_metadata['publication_year'].replace(to_replace = 207, value = 2016)\n",
    "books_metadata['publication_year'] = books_metadata['publication_year'].replace(to_replace = 1016, value = 2016)"
   ]
  },
  {
   "cell_type": "code",
   "execution_count": 12,
   "metadata": {
    "scrolled": true
   },
   "outputs": [
    {
     "name": "stderr",
     "output_type": "stream",
     "text": [
      "/Users/uni/opt/anaconda3/lib/python3.8/site-packages/seaborn/categorical.py:3714: UserWarning: The `factorplot` function has been renamed to `catplot`. The original name will be removed in a future release. Please update your code. Note that the default `kind` in `factorplot` (`'point'`) has changed `'strip'` in `catplot`.\n",
      "  warnings.warn(msg)\n",
      "/Users/uni/opt/anaconda3/lib/python3.8/site-packages/seaborn/_decorators.py:36: FutureWarning: Pass the following variable as a keyword arg: x. From version 0.12, the only valid positional argument will be `data`, and passing other arguments without an explicit keyword will result in an error or misinterpretation.\n",
      "  warnings.warn(\n"
     ]
    },
    {
     "data": {
      "image/png": "[encoded data removed]",
      "text/plain": [
       "<Figure size 360x360 with 1 Axes>"
      ]
     },
     "metadata": {},
     "output_type": "display_data"
    }
   ],
   "source": [
    "with sn.axes_style('white'):\n",
    "    g = sn.factorplot(\"publication_year\", data = books_metadata, aspect=1,\n",
    "                     kind='count', color='steelblue')\n",
    "    g.set_xticklabels(step=10)"
   ]
  },
  {
   "cell_type": "markdown",
   "metadata": {},
   "source": [
    "__Oldest and latest publication year__"
   ]
  },
  {
   "cell_type": "code",
   "execution_count": 13,
   "metadata": {
    "scrolled": true
   },
   "outputs": [
    {
     "name": "stdout",
     "output_type": "stream",
     "text": [
      "oldest :  1986\n",
      "newest :  2018\n"
     ]
    }
   ],
   "source": [
    "oldest = books_metadata['publication_year'].min()\n",
    "latest = books_metadata['publication_year'].max()\n",
    "print('oldest : ', oldest)\n",
    "print('newest : ', latest)"
   ]
  },
  {
   "cell_type": "code",
   "execution_count": 14,
   "metadata": {
    "scrolled": true
   },
   "outputs": [
    {
     "name": "stdout",
     "output_type": "stream",
     "text": [
      "<class 'pandas.core.frame.DataFrame'>\n",
      "Int64Index: 4649631 entries, 0 to 4649630\n",
      "Data columns (total 8 columns):\n",
      " #   Column        Dtype \n",
      "---  ------        ----- \n",
      " 0   index         int64 \n",
      " 1   user_id       object\n",
      " 2   book_id       int64 \n",
      " 3   review_id     object\n",
      " 4   is_read       bool  \n",
      " 5   rating        int64 \n",
      " 6   date_added    object\n",
      " 7   date_updated  object\n",
      "dtypes: bool(1), int64(3), object(4)\n",
      "memory usage: 288.2+ MB\n"
     ]
    }
   ],
   "source": [
    "books_interactions.info()"
   ]
  },
  {
   "cell_type": "code",
   "execution_count": 15,
   "metadata": {
    "scrolled": false
   },
   "outputs": [
    {
     "data": {
      "text/html": [
       "<div>\n",
       "<style scoped>\n",
       "    .dataframe tbody tr th:only-of-type {\n",
       "        vertical-align: middle;\n",
       "    }\n",
       "\n",
       "    .dataframe tbody tr th {\n",
       "        vertical-align: top;\n",
       "    }\n",
       "\n",
       "    .dataframe thead th {\n",
       "        text-align: right;\n",
       "    }\n",
       "</style>\n",
       "<table border=\"1\" class=\"dataframe\">\n",
       "  <thead>\n",
       "    <tr style=\"text-align: right;\">\n",
       "      <th></th>\n",
       "      <th>index</th>\n",
       "      <th>user_id</th>\n",
       "      <th>book_id</th>\n",
       "      <th>review_id</th>\n",
       "      <th>is_read</th>\n",
       "      <th>rating</th>\n",
       "      <th>date_added</th>\n",
       "      <th>date_updated</th>\n",
       "    </tr>\n",
       "  </thead>\n",
       "  <tbody>\n",
       "    <tr>\n",
       "      <th>0</th>\n",
       "      <td>1</td>\n",
       "      <td>8842281e1d1347389f2ab93d60773d4d</td>\n",
       "      <td>7648967</td>\n",
       "      <td>99b27059f711c37de8f90ee8e4dc0d1b</td>\n",
       "      <td>False</td>\n",
       "      <td>0</td>\n",
       "      <td>Fri Feb 24 08:59:44 -0800 2017</td>\n",
       "      <td>Fri Feb 24 08:59:44 -0800 2017</td>\n",
       "    </tr>\n",
       "    <tr>\n",
       "      <th>1</th>\n",
       "      <td>2</td>\n",
       "      <td>8842281e1d1347389f2ab93d60773d4d</td>\n",
       "      <td>15704307</td>\n",
       "      <td>cb944d94854df5afd22210bb0aa0c903</td>\n",
       "      <td>False</td>\n",
       "      <td>0</td>\n",
       "      <td>Wed May 20 21:28:56 -0700 2015</td>\n",
       "      <td>Wed May 20 21:28:57 -0700 2015</td>\n",
       "    </tr>\n",
       "    <tr>\n",
       "      <th>2</th>\n",
       "      <td>3</td>\n",
       "      <td>8842281e1d1347389f2ab93d60773d4d</td>\n",
       "      <td>6902644</td>\n",
       "      <td>2711bac2a8cc600dae1590a6ca0edb34</td>\n",
       "      <td>False</td>\n",
       "      <td>0</td>\n",
       "      <td>Sun Jun 01 17:25:23 -0700 2014</td>\n",
       "      <td>Sun Jun 01 17:25:23 -0700 2014</td>\n",
       "    </tr>\n",
       "    <tr>\n",
       "      <th>3</th>\n",
       "      <td>5</td>\n",
       "      <td>8842281e1d1347389f2ab93d60773d4d</td>\n",
       "      <td>13163846</td>\n",
       "      <td>84ae8909f3fee71ba40be06e3a6aa32e</td>\n",
       "      <td>False</td>\n",
       "      <td>0</td>\n",
       "      <td>Tue Jul 24 14:36:13 -0700 2012</td>\n",
       "      <td>Tue Jul 24 14:36:13 -0700 2012</td>\n",
       "    </tr>\n",
       "    <tr>\n",
       "      <th>4</th>\n",
       "      <td>8</td>\n",
       "      <td>8842281e1d1347389f2ab93d60773d4d</td>\n",
       "      <td>472331</td>\n",
       "      <td>dc86ebd8df595749ebe277dd67b0a865</td>\n",
       "      <td>False</td>\n",
       "      <td>0</td>\n",
       "      <td>Thu Aug 14 10:56:30 -0700 2008</td>\n",
       "      <td>Fri Jun 05 12:28:47 -0700 2009</td>\n",
       "    </tr>\n",
       "  </tbody>\n",
       "</table>\n",
       "</div>"
      ],
      "text/plain": [
       "   index                           user_id   book_id  \\\n",
       "0      1  8842281e1d1347389f2ab93d60773d4d   7648967   \n",
       "1      2  8842281e1d1347389f2ab93d60773d4d  15704307   \n",
       "2      3  8842281e1d1347389f2ab93d60773d4d   6902644   \n",
       "3      5  8842281e1d1347389f2ab93d60773d4d  13163846   \n",
       "4      8  8842281e1d1347389f2ab93d60773d4d    472331   \n",
       "\n",
       "                          review_id  is_read  rating  \\\n",
       "0  99b27059f711c37de8f90ee8e4dc0d1b    False       0   \n",
       "1  cb944d94854df5afd22210bb0aa0c903    False       0   \n",
       "2  2711bac2a8cc600dae1590a6ca0edb34    False       0   \n",
       "3  84ae8909f3fee71ba40be06e3a6aa32e    False       0   \n",
       "4  dc86ebd8df595749ebe277dd67b0a865    False       0   \n",
       "\n",
       "                       date_added                    date_updated  \n",
       "0  Fri Feb 24 08:59:44 -0800 2017  Fri Feb 24 08:59:44 -0800 2017  \n",
       "1  Wed May 20 21:28:56 -0700 2015  Wed May 20 21:28:57 -0700 2015  \n",
       "2  Sun Jun 01 17:25:23 -0700 2014  Sun Jun 01 17:25:23 -0700 2014  \n",
       "3  Tue Jul 24 14:36:13 -0700 2012  Tue Jul 24 14:36:13 -0700 2012  \n",
       "4  Thu Aug 14 10:56:30 -0700 2008  Fri Jun 05 12:28:47 -0700 2009  "
      ]
     },
     "execution_count": 15,
     "metadata": {},
     "output_type": "execute_result"
    }
   ],
   "source": [
    "books_interactions.head()"
   ]
  },
  {
   "cell_type": "markdown",
   "metadata": {},
   "source": [
    "__interactions columns__"
   ]
  },
  {
   "cell_type": "code",
   "execution_count": 16,
   "metadata": {
    "scrolled": false
   },
   "outputs": [
    {
     "data": {
      "text/html": [
       "<div>\n",
       "<style scoped>\n",
       "    .dataframe tbody tr th:only-of-type {\n",
       "        vertical-align: middle;\n",
       "    }\n",
       "\n",
       "    .dataframe tbody tr th {\n",
       "        vertical-align: top;\n",
       "    }\n",
       "\n",
       "    .dataframe thead th {\n",
       "        text-align: right;\n",
       "    }\n",
       "</style>\n",
       "<table border=\"1\" class=\"dataframe\">\n",
       "  <thead>\n",
       "    <tr style=\"text-align: right;\">\n",
       "      <th></th>\n",
       "      <th>0</th>\n",
       "    </tr>\n",
       "  </thead>\n",
       "  <tbody>\n",
       "    <tr>\n",
       "      <th>0</th>\n",
       "      <td>index</td>\n",
       "    </tr>\n",
       "    <tr>\n",
       "      <th>1</th>\n",
       "      <td>user_id</td>\n",
       "    </tr>\n",
       "    <tr>\n",
       "      <th>2</th>\n",
       "      <td>book_id</td>\n",
       "    </tr>\n",
       "    <tr>\n",
       "      <th>3</th>\n",
       "      <td>review_id</td>\n",
       "    </tr>\n",
       "    <tr>\n",
       "      <th>4</th>\n",
       "      <td>is_read</td>\n",
       "    </tr>\n",
       "    <tr>\n",
       "      <th>5</th>\n",
       "      <td>rating</td>\n",
       "    </tr>\n",
       "    <tr>\n",
       "      <th>6</th>\n",
       "      <td>date_added</td>\n",
       "    </tr>\n",
       "    <tr>\n",
       "      <th>7</th>\n",
       "      <td>date_updated</td>\n",
       "    </tr>\n",
       "  </tbody>\n",
       "</table>\n",
       "</div>"
      ],
      "text/plain": [
       "              0\n",
       "0         index\n",
       "1       user_id\n",
       "2       book_id\n",
       "3     review_id\n",
       "4       is_read\n",
       "5        rating\n",
       "6    date_added\n",
       "7  date_updated"
      ]
     },
     "execution_count": 16,
     "metadata": {},
     "output_type": "execute_result"
    }
   ],
   "source": [
    "bic = pd.DataFrame(books_interactions.columns)\n",
    "bic"
   ]
  },
  {
   "cell_type": "code",
   "execution_count": 17,
   "metadata": {
    "scrolled": false
   },
   "outputs": [
    {
     "name": "stdout",
     "output_type": "stream",
     "text": [
      "<class 'pandas.core.frame.DataFrame'>\n",
      "Int64Index: 330052 entries, 0 to 330051\n",
      "Data columns (total 11 columns):\n",
      " #   Column        Non-Null Count   Dtype \n",
      "---  ------        --------------   ----- \n",
      " 0   index         330052 non-null  int64 \n",
      " 1   user_id       330052 non-null  object\n",
      " 2   book_id       330052 non-null  int64 \n",
      " 3   review_id     330052 non-null  object\n",
      " 4   rating        330052 non-null  int64 \n",
      " 5   review_text   330052 non-null  object\n",
      " 6   date_added    330052 non-null  object\n",
      " 7   date_updated  330052 non-null  object\n",
      " 8   read_at       330052 non-null  object\n",
      " 9   n_votes       330052 non-null  int64 \n",
      " 10  n_comments    330052 non-null  int64 \n",
      "dtypes: int64(5), object(6)\n",
      "memory usage: 30.2+ MB\n"
     ]
    }
   ],
   "source": [
    "books_reviews.info()"
   ]
  },
  {
   "cell_type": "code",
   "execution_count": 18,
   "metadata": {
    "scrolled": false
   },
   "outputs": [
    {
     "data": {
      "text/html": [
       "<div>\n",
       "<style scoped>\n",
       "    .dataframe tbody tr th:only-of-type {\n",
       "        vertical-align: middle;\n",
       "    }\n",
       "\n",
       "    .dataframe tbody tr th {\n",
       "        vertical-align: top;\n",
       "    }\n",
       "\n",
       "    .dataframe thead th {\n",
       "        text-align: right;\n",
       "    }\n",
       "</style>\n",
       "<table border=\"1\" class=\"dataframe\">\n",
       "  <thead>\n",
       "    <tr style=\"text-align: right;\">\n",
       "      <th></th>\n",
       "      <th>index</th>\n",
       "      <th>user_id</th>\n",
       "      <th>book_id</th>\n",
       "      <th>review_id</th>\n",
       "      <th>rating</th>\n",
       "      <th>review_text</th>\n",
       "      <th>date_added</th>\n",
       "      <th>date_updated</th>\n",
       "      <th>read_at</th>\n",
       "      <th>n_votes</th>\n",
       "      <th>n_comments</th>\n",
       "    </tr>\n",
       "  </thead>\n",
       "  <tbody>\n",
       "    <tr>\n",
       "      <th>0</th>\n",
       "      <td>0</td>\n",
       "      <td>dc3763cdb9b2cae805882878eebb6a32</td>\n",
       "      <td>18471619</td>\n",
       "      <td>66b2ba840f9bd36d6d27f46136fe4772</td>\n",
       "      <td>3</td>\n",
       "      <td>Sherlock Holmes and the Vampires of London \\n ...</td>\n",
       "      <td>Thu Dec 05 10:44:25 -0800 2013</td>\n",
       "      <td>Thu Dec 05 10:45:15 -0800 2013</td>\n",
       "      <td>Tue Nov 05 00:00:00 -0800 2013</td>\n",
       "      <td>0</td>\n",
       "      <td>0</td>\n",
       "    </tr>\n",
       "    <tr>\n",
       "      <th>1</th>\n",
       "      <td>1</td>\n",
       "      <td>bafc2d50014200cda7cb2b6acd60cd73</td>\n",
       "      <td>6315584</td>\n",
       "      <td>72f1229aba5a88f9e72f0dcdc007dd22</td>\n",
       "      <td>4</td>\n",
       "      <td>I've never really liked Spider-Man. I am, howe...</td>\n",
       "      <td>Wed Aug 10 06:06:48 -0700 2016</td>\n",
       "      <td>Fri Aug 12 08:49:54 -0700 2016</td>\n",
       "      <td>Fri Aug 12 08:49:54 -0700 2016</td>\n",
       "      <td>0</td>\n",
       "      <td>0</td>\n",
       "    </tr>\n",
       "    <tr>\n",
       "      <th>2</th>\n",
       "      <td>3</td>\n",
       "      <td>bafc2d50014200cda7cb2b6acd60cd73</td>\n",
       "      <td>18454118</td>\n",
       "      <td>c3cc5a3e1d6b6c9cf1c044f306c8e752</td>\n",
       "      <td>5</td>\n",
       "      <td>I've been waiting so long for this. I first st...</td>\n",
       "      <td>Mon Mar 03 17:45:56 -0800 2014</td>\n",
       "      <td>Mon Mar 03 17:54:11 -0800 2014</td>\n",
       "      <td>Sat Mar 01 00:00:00 -0800 2014</td>\n",
       "      <td>1</td>\n",
       "      <td>0</td>\n",
       "    </tr>\n",
       "    <tr>\n",
       "      <th>3</th>\n",
       "      <td>4</td>\n",
       "      <td>bafc2d50014200cda7cb2b6acd60cd73</td>\n",
       "      <td>2239435</td>\n",
       "      <td>cc444be37ab0a42bfb4dd818cb5edd10</td>\n",
       "      <td>4</td>\n",
       "      <td>The only thing more entertaining than this boo...</td>\n",
       "      <td>Wed Apr 03 12:37:48 -0700 2013</td>\n",
       "      <td>Wed Apr 03 13:03:36 -0700 2013</td>\n",
       "      <td>Wed Apr 03 13:03:36 -0700 2013</td>\n",
       "      <td>0</td>\n",
       "      <td>0</td>\n",
       "    </tr>\n",
       "    <tr>\n",
       "      <th>4</th>\n",
       "      <td>6</td>\n",
       "      <td>bafc2d50014200cda7cb2b6acd60cd73</td>\n",
       "      <td>13526176</td>\n",
       "      <td>68267ebf90e2da0d96a3d6aefb5b8ac7</td>\n",
       "      <td>3</td>\n",
       "      <td>This wasn't my favourite Black Butler book. I ...</td>\n",
       "      <td>Thu Nov 15 13:28:38 -0800 2012</td>\n",
       "      <td>Thu Nov 15 13:32:17 -0800 2012</td>\n",
       "      <td>Thu Nov 15 13:32:17 -0800 2012</td>\n",
       "      <td>0</td>\n",
       "      <td>0</td>\n",
       "    </tr>\n",
       "  </tbody>\n",
       "</table>\n",
       "</div>"
      ],
      "text/plain": [
       "   index                           user_id   book_id  \\\n",
       "0      0  dc3763cdb9b2cae805882878eebb6a32  18471619   \n",
       "1      1  bafc2d50014200cda7cb2b6acd60cd73   6315584   \n",
       "2      3  bafc2d50014200cda7cb2b6acd60cd73  18454118   \n",
       "3      4  bafc2d50014200cda7cb2b6acd60cd73   2239435   \n",
       "4      6  bafc2d50014200cda7cb2b6acd60cd73  13526176   \n",
       "\n",
       "                          review_id  rating  \\\n",
       "0  66b2ba840f9bd36d6d27f46136fe4772       3   \n",
       "1  72f1229aba5a88f9e72f0dcdc007dd22       4   \n",
       "2  c3cc5a3e1d6b6c9cf1c044f306c8e752       5   \n",
       "3  cc444be37ab0a42bfb4dd818cb5edd10       4   \n",
       "4  68267ebf90e2da0d96a3d6aefb5b8ac7       3   \n",
       "\n",
       "                                         review_text  \\\n",
       "0  Sherlock Holmes and the Vampires of London \\n ...   \n",
       "1  I've never really liked Spider-Man. I am, howe...   \n",
       "2  I've been waiting so long for this. I first st...   \n",
       "3  The only thing more entertaining than this boo...   \n",
       "4  This wasn't my favourite Black Butler book. I ...   \n",
       "\n",
       "                       date_added                    date_updated  \\\n",
       "0  Thu Dec 05 10:44:25 -0800 2013  Thu Dec 05 10:45:15 -0800 2013   \n",
       "1  Wed Aug 10 06:06:48 -0700 2016  Fri Aug 12 08:49:54 -0700 2016   \n",
       "2  Mon Mar 03 17:45:56 -0800 2014  Mon Mar 03 17:54:11 -0800 2014   \n",
       "3  Wed Apr 03 12:37:48 -0700 2013  Wed Apr 03 13:03:36 -0700 2013   \n",
       "4  Thu Nov 15 13:28:38 -0800 2012  Thu Nov 15 13:32:17 -0800 2012   \n",
       "\n",
       "                          read_at  n_votes  n_comments  \n",
       "0  Tue Nov 05 00:00:00 -0800 2013        0           0  \n",
       "1  Fri Aug 12 08:49:54 -0700 2016        0           0  \n",
       "2  Sat Mar 01 00:00:00 -0800 2014        1           0  \n",
       "3  Wed Apr 03 13:03:36 -0700 2013        0           0  \n",
       "4  Thu Nov 15 13:32:17 -0800 2012        0           0  "
      ]
     },
     "execution_count": 18,
     "metadata": {},
     "output_type": "execute_result"
    }
   ],
   "source": [
    "books_reviews.head()"
   ]
  },
  {
   "cell_type": "markdown",
   "metadata": {},
   "source": [
    "__reviews columns__"
   ]
  },
  {
   "cell_type": "code",
   "execution_count": 19,
   "metadata": {},
   "outputs": [
    {
     "data": {
      "text/html": [
       "<div>\n",
       "<style scoped>\n",
       "    .dataframe tbody tr th:only-of-type {\n",
       "        vertical-align: middle;\n",
       "    }\n",
       "\n",
       "    .dataframe tbody tr th {\n",
       "        vertical-align: top;\n",
       "    }\n",
       "\n",
       "    .dataframe thead th {\n",
       "        text-align: right;\n",
       "    }\n",
       "</style>\n",
       "<table border=\"1\" class=\"dataframe\">\n",
       "  <thead>\n",
       "    <tr style=\"text-align: right;\">\n",
       "      <th></th>\n",
       "      <th>0</th>\n",
       "    </tr>\n",
       "  </thead>\n",
       "  <tbody>\n",
       "    <tr>\n",
       "      <th>0</th>\n",
       "      <td>index</td>\n",
       "    </tr>\n",
       "    <tr>\n",
       "      <th>1</th>\n",
       "      <td>user_id</td>\n",
       "    </tr>\n",
       "    <tr>\n",
       "      <th>2</th>\n",
       "      <td>book_id</td>\n",
       "    </tr>\n",
       "    <tr>\n",
       "      <th>3</th>\n",
       "      <td>review_id</td>\n",
       "    </tr>\n",
       "    <tr>\n",
       "      <th>4</th>\n",
       "      <td>rating</td>\n",
       "    </tr>\n",
       "    <tr>\n",
       "      <th>5</th>\n",
       "      <td>review_text</td>\n",
       "    </tr>\n",
       "    <tr>\n",
       "      <th>6</th>\n",
       "      <td>date_added</td>\n",
       "    </tr>\n",
       "    <tr>\n",
       "      <th>7</th>\n",
       "      <td>date_updated</td>\n",
       "    </tr>\n",
       "    <tr>\n",
       "      <th>8</th>\n",
       "      <td>read_at</td>\n",
       "    </tr>\n",
       "    <tr>\n",
       "      <th>9</th>\n",
       "      <td>n_votes</td>\n",
       "    </tr>\n",
       "    <tr>\n",
       "      <th>10</th>\n",
       "      <td>n_comments</td>\n",
       "    </tr>\n",
       "  </tbody>\n",
       "</table>\n",
       "</div>"
      ],
      "text/plain": [
       "               0\n",
       "0          index\n",
       "1        user_id\n",
       "2        book_id\n",
       "3      review_id\n",
       "4         rating\n",
       "5    review_text\n",
       "6     date_added\n",
       "7   date_updated\n",
       "8        read_at\n",
       "9        n_votes\n",
       "10    n_comments"
      ]
     },
     "execution_count": 19,
     "metadata": {},
     "output_type": "execute_result"
    }
   ],
   "source": [
    "brc = pd.DataFrame(books_reviews.columns)\n",
    "brc"
   ]
  },
  {
   "cell_type": "code",
   "execution_count": 20,
   "metadata": {
    "scrolled": true
   },
   "outputs": [
    {
     "data": {
      "text/plain": [
       "24166"
      ]
     },
     "execution_count": 20,
     "metadata": {},
     "output_type": "execute_result"
    }
   ],
   "source": [
    "len(books_reviews['book_id'].unique())"
   ]
  },
  {
   "cell_type": "markdown",
   "metadata": {},
   "source": [
    "__data cleaning__"
   ]
  },
  {
   "cell_type": "code",
   "execution_count": 21,
   "metadata": {},
   "outputs": [],
   "source": [
    "books_reviews['review_text'] = books_reviews['review_text'].str.lower()"
   ]
  },
  {
   "cell_type": "code",
   "execution_count": 27,
   "metadata": {},
   "outputs": [],
   "source": [
    "#remove punctuations\n",
    "#remove all non alphabetic characters\n",
    "regex_1 = re.compile(r'[^a-zA-Z]')\n",
    "books_reviews['review_text'] = pd.Series(books_reviews['review_text']).str.replace(regex_1, ' ')"
   ]
  },
  {
   "cell_type": "code",
   "execution_count": 28,
   "metadata": {},
   "outputs": [],
   "source": [
    "#reduce multi-space to single space\n",
    "regex_2 = re.compile(r' +')\n",
    "books_reviews['review_text'] = pd.Series(books_reviews['review_text']).str.replace(regex_2,' ')"
   ]
  },
  {
   "cell_type": "code",
   "execution_count": 29,
   "metadata": {
    "scrolled": false
   },
   "outputs": [
    {
     "data": {
      "text/plain": [
       "0         sherlock holmes and the vampires of london rel...\n",
       "1         i ve never really liked spider man i am howeve...\n",
       "2         i ve been waiting so long for this i first stu...\n",
       "3         the only thing more entertaining than this boo...\n",
       "4         this wasn t my favourite black butler book i w...\n",
       "                                ...                        \n",
       "330047    fantastic art with a creative twist on the ori...\n",
       "330048    enjoyable quite cute and funny follows a young...\n",
       "330049    this is just great narrative and great art the...\n",
       "330050    stunning follow up once again it s not the art...\n",
       "330051    i grew up with the terran trade authority book...\n",
       "Name: review_text, Length: 330052, dtype: object"
      ]
     },
     "execution_count": 29,
     "metadata": {},
     "output_type": "execute_result"
    }
   ],
   "source": [
    "books_reviews['review_text']"
   ]
  },
  {
   "cell_type": "code",
   "execution_count": 30,
   "metadata": {},
   "outputs": [],
   "source": [
    "books_reviews['word_count'] = books_reviews['review_text'].apply(lambda x: len(x.strip().split()))"
   ]
  },
  {
   "cell_type": "code",
   "execution_count": 31,
   "metadata": {
    "scrolled": false
   },
   "outputs": [
    {
     "data": {
      "text/html": [
       "<div>\n",
       "<style scoped>\n",
       "    .dataframe tbody tr th:only-of-type {\n",
       "        vertical-align: middle;\n",
       "    }\n",
       "\n",
       "    .dataframe tbody tr th {\n",
       "        vertical-align: top;\n",
       "    }\n",
       "\n",
       "    .dataframe thead th {\n",
       "        text-align: right;\n",
       "    }\n",
       "</style>\n",
       "<table border=\"1\" class=\"dataframe\">\n",
       "  <thead>\n",
       "    <tr style=\"text-align: right;\">\n",
       "      <th></th>\n",
       "      <th>index</th>\n",
       "      <th>user_id</th>\n",
       "      <th>book_id</th>\n",
       "      <th>review_id</th>\n",
       "      <th>rating</th>\n",
       "      <th>review_text</th>\n",
       "      <th>date_added</th>\n",
       "      <th>date_updated</th>\n",
       "      <th>read_at</th>\n",
       "      <th>n_votes</th>\n",
       "      <th>n_comments</th>\n",
       "      <th>word_count</th>\n",
       "    </tr>\n",
       "  </thead>\n",
       "  <tbody>\n",
       "    <tr>\n",
       "      <th>0</th>\n",
       "      <td>0</td>\n",
       "      <td>dc3763cdb9b2cae805882878eebb6a32</td>\n",
       "      <td>18471619</td>\n",
       "      <td>66b2ba840f9bd36d6d27f46136fe4772</td>\n",
       "      <td>3</td>\n",
       "      <td>sherlock holmes and the vampires of london rel...</td>\n",
       "      <td>Thu Dec 05 10:44:25 -0800 2013</td>\n",
       "      <td>Thu Dec 05 10:45:15 -0800 2013</td>\n",
       "      <td>Tue Nov 05 00:00:00 -0800 2013</td>\n",
       "      <td>0</td>\n",
       "      <td>0</td>\n",
       "      <td>671</td>\n",
       "    </tr>\n",
       "    <tr>\n",
       "      <th>1</th>\n",
       "      <td>1</td>\n",
       "      <td>bafc2d50014200cda7cb2b6acd60cd73</td>\n",
       "      <td>6315584</td>\n",
       "      <td>72f1229aba5a88f9e72f0dcdc007dd22</td>\n",
       "      <td>4</td>\n",
       "      <td>i ve never really liked spider man i am howeve...</td>\n",
       "      <td>Wed Aug 10 06:06:48 -0700 2016</td>\n",
       "      <td>Fri Aug 12 08:49:54 -0700 2016</td>\n",
       "      <td>Fri Aug 12 08:49:54 -0700 2016</td>\n",
       "      <td>0</td>\n",
       "      <td>0</td>\n",
       "      <td>38</td>\n",
       "    </tr>\n",
       "    <tr>\n",
       "      <th>2</th>\n",
       "      <td>3</td>\n",
       "      <td>bafc2d50014200cda7cb2b6acd60cd73</td>\n",
       "      <td>18454118</td>\n",
       "      <td>c3cc5a3e1d6b6c9cf1c044f306c8e752</td>\n",
       "      <td>5</td>\n",
       "      <td>i ve been waiting so long for this i first stu...</td>\n",
       "      <td>Mon Mar 03 17:45:56 -0800 2014</td>\n",
       "      <td>Mon Mar 03 17:54:11 -0800 2014</td>\n",
       "      <td>Sat Mar 01 00:00:00 -0800 2014</td>\n",
       "      <td>1</td>\n",
       "      <td>0</td>\n",
       "      <td>228</td>\n",
       "    </tr>\n",
       "    <tr>\n",
       "      <th>3</th>\n",
       "      <td>4</td>\n",
       "      <td>bafc2d50014200cda7cb2b6acd60cd73</td>\n",
       "      <td>2239435</td>\n",
       "      <td>cc444be37ab0a42bfb4dd818cb5edd10</td>\n",
       "      <td>4</td>\n",
       "      <td>the only thing more entertaining than this boo...</td>\n",
       "      <td>Wed Apr 03 12:37:48 -0700 2013</td>\n",
       "      <td>Wed Apr 03 13:03:36 -0700 2013</td>\n",
       "      <td>Wed Apr 03 13:03:36 -0700 2013</td>\n",
       "      <td>0</td>\n",
       "      <td>0</td>\n",
       "      <td>629</td>\n",
       "    </tr>\n",
       "    <tr>\n",
       "      <th>4</th>\n",
       "      <td>6</td>\n",
       "      <td>bafc2d50014200cda7cb2b6acd60cd73</td>\n",
       "      <td>13526176</td>\n",
       "      <td>68267ebf90e2da0d96a3d6aefb5b8ac7</td>\n",
       "      <td>3</td>\n",
       "      <td>this wasn t my favourite black butler book i w...</td>\n",
       "      <td>Thu Nov 15 13:28:38 -0800 2012</td>\n",
       "      <td>Thu Nov 15 13:32:17 -0800 2012</td>\n",
       "      <td>Thu Nov 15 13:32:17 -0800 2012</td>\n",
       "      <td>0</td>\n",
       "      <td>0</td>\n",
       "      <td>127</td>\n",
       "    </tr>\n",
       "  </tbody>\n",
       "</table>\n",
       "</div>"
      ],
      "text/plain": [
       "   index                           user_id   book_id  \\\n",
       "0      0  dc3763cdb9b2cae805882878eebb6a32  18471619   \n",
       "1      1  bafc2d50014200cda7cb2b6acd60cd73   6315584   \n",
       "2      3  bafc2d50014200cda7cb2b6acd60cd73  18454118   \n",
       "3      4  bafc2d50014200cda7cb2b6acd60cd73   2239435   \n",
       "4      6  bafc2d50014200cda7cb2b6acd60cd73  13526176   \n",
       "\n",
       "                          review_id  rating  \\\n",
       "0  66b2ba840f9bd36d6d27f46136fe4772       3   \n",
       "1  72f1229aba5a88f9e72f0dcdc007dd22       4   \n",
       "2  c3cc5a3e1d6b6c9cf1c044f306c8e752       5   \n",
       "3  cc444be37ab0a42bfb4dd818cb5edd10       4   \n",
       "4  68267ebf90e2da0d96a3d6aefb5b8ac7       3   \n",
       "\n",
       "                                         review_text  \\\n",
       "0  sherlock holmes and the vampires of london rel...   \n",
       "1  i ve never really liked spider man i am howeve...   \n",
       "2  i ve been waiting so long for this i first stu...   \n",
       "3  the only thing more entertaining than this boo...   \n",
       "4  this wasn t my favourite black butler book i w...   \n",
       "\n",
       "                       date_added                    date_updated  \\\n",
       "0  Thu Dec 05 10:44:25 -0800 2013  Thu Dec 05 10:45:15 -0800 2013   \n",
       "1  Wed Aug 10 06:06:48 -0700 2016  Fri Aug 12 08:49:54 -0700 2016   \n",
       "2  Mon Mar 03 17:45:56 -0800 2014  Mon Mar 03 17:54:11 -0800 2014   \n",
       "3  Wed Apr 03 12:37:48 -0700 2013  Wed Apr 03 13:03:36 -0700 2013   \n",
       "4  Thu Nov 15 13:28:38 -0800 2012  Thu Nov 15 13:32:17 -0800 2012   \n",
       "\n",
       "                          read_at  n_votes  n_comments  word_count  \n",
       "0  Tue Nov 05 00:00:00 -0800 2013        0           0         671  \n",
       "1  Fri Aug 12 08:49:54 -0700 2016        0           0          38  \n",
       "2  Sat Mar 01 00:00:00 -0800 2014        1           0         228  \n",
       "3  Wed Apr 03 13:03:36 -0700 2013        0           0         629  \n",
       "4  Thu Nov 15 13:32:17 -0800 2012        0           0         127  "
      ]
     },
     "execution_count": 31,
     "metadata": {},
     "output_type": "execute_result"
    }
   ],
   "source": [
    "books_reviews.head()"
   ]
  },
  {
   "cell_type": "code",
   "execution_count": 32,
   "metadata": {},
   "outputs": [
    {
     "data": {
      "text/plain": [
       "count    330052.000000\n",
       "mean         93.399958\n",
       "std         141.198153\n",
       "min           0.000000\n",
       "25%          18.000000\n",
       "50%          46.000000\n",
       "75%         110.000000\n",
       "max        3820.000000\n",
       "Name: word_count, dtype: float64"
      ]
     },
     "execution_count": 32,
     "metadata": {},
     "output_type": "execute_result"
    }
   ],
   "source": [
    "books_reviews['word_count'].describe()"
   ]
  },
  {
   "cell_type": "markdown",
   "metadata": {},
   "source": [
    "__plot reivew length with respect to review count__"
   ]
  },
  {
   "cell_type": "code",
   "execution_count": 33,
   "metadata": {},
   "outputs": [
    {
     "data": {
      "image/png": "[encoded data removed]",
      "text/plain": [
       "<Figure size 432x288 with 1 Axes>"
      ]
     },
     "metadata": {
      "needs_background": "light"
     },
     "output_type": "display_data"
    }
   ],
   "source": [
    "plt.xlabel('Review Length (In words)')\n",
    "plt.ylabel('Review count')\n",
    "plt.hist(books_reviews['word_count'], bins=np.arange(max(books_reviews['word_count'])), histtype='step', linewidth=1, fill=True);"
   ]
  },
  {
   "cell_type": "code",
   "execution_count": null,
   "metadata": {},
   "outputs": [],
   "source": []
  }
 ],
 "metadata": {
  "kernelspec": {
   "display_name": "Python 3",
   "language": "python",
   "name": "python3"
  },
  "language_info": {
   "codemirror_mode": {
    "name": "ipython",
    "version": 3
   },
   "file_extension": ".py",
   "mimetype": "text/x-python",
   "name": "python",
   "nbconvert_exporter": "python",
   "pygments_lexer": "ipython3",
   "version": "3.8.5"
  }
 },
 "nbformat": 4,
 "nbformat_minor": 4
}
